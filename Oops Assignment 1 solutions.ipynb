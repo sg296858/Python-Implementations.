{
 "cells": [
  {
   "cell_type": "code",
   "execution_count": 1,
   "id": "4ca33305-eb0a-4562-9f27-a865e77558aa",
   "metadata": {},
   "outputs": [],
   "source": [
    "#Problem 1: Bank Account Create a class representing a bank account with attributes like account number, account holder name, and balance. Implement methods to deposit and withdraw money from the account."
   ]
  },
  {
   "cell_type": "code",
   "execution_count": 7,
   "id": "dfaa9e91-46e7-4115-9cc7-98c8a0c68b94",
   "metadata": {},
   "outputs": [],
   "source": [
    "class bankaccount:\n",
    "    def __init__(self,accountnumber,accountholdername,balance):\n",
    "        self.__accountnumber=accountnumber\n",
    "        self.__accountholdername=accountholdername\n",
    "        self.__balance=balance\n",
    "        \n",
    "    def deposit(self,newbalance):\n",
    "        self.__balance=self.__balance+newbalance\n",
    "        \n",
    "    def withdraw(self,amount):\n",
    "        if amount<=self.__balance:\n",
    "            self.__balance=self.__balance-amount\n",
    "        else:\n",
    "            return \"insufficient funds\"\n",
    "        \n",
    "    def get_balance(self):\n",
    "        return self.__balance\n",
    "    \n",
    "        \n",
    "b=bankaccount(1234567,\"shubham\",30000)"
   ]
  },
  {
   "cell_type": "code",
   "execution_count": 8,
   "id": "278dcd51-c744-41ae-a38d-111738b5cf5b",
   "metadata": {},
   "outputs": [],
   "source": [
    "b.deposit(2000)"
   ]
  },
  {
   "cell_type": "code",
   "execution_count": 9,
   "id": "2d32f1b6-c70f-4847-9891-7bd55168a79e",
   "metadata": {},
   "outputs": [
    {
     "data": {
      "text/plain": [
       "32000"
      ]
     },
     "execution_count": 9,
     "metadata": {},
     "output_type": "execute_result"
    }
   ],
   "source": [
    "b.get_balance()"
   ]
  },
  {
   "cell_type": "code",
   "execution_count": 10,
   "id": "6425718e-72eb-40ff-99f9-081ac6162920",
   "metadata": {},
   "outputs": [],
   "source": [
    "b.withdraw(3000)"
   ]
  },
  {
   "cell_type": "code",
   "execution_count": 11,
   "id": "ca98632c-ef03-4f7f-92d3-d2590361973a",
   "metadata": {},
   "outputs": [
    {
     "data": {
      "text/plain": [
       "29000"
      ]
     },
     "execution_count": 11,
     "metadata": {},
     "output_type": "execute_result"
    }
   ],
   "source": [
    "b.get_balance()"
   ]
  },
  {
   "cell_type": "code",
   "execution_count": 12,
   "id": "5c92c626-4923-47ad-905b-9626e1f62528",
   "metadata": {},
   "outputs": [],
   "source": [
    "#Problem 2: Employee Management Create a class representing an employee with attributes like employee ID, name, and salary. Implement methods to calculate the yearly bonus and display employee details."
   ]
  },
  {
   "cell_type": "code",
   "execution_count": 13,
   "id": "0847adb5-ce1d-4f60-a90f-231235fcfcdf",
   "metadata": {},
   "outputs": [
    {
     "data": {
      "text/plain": [
       "550000"
      ]
     },
     "execution_count": 13,
     "metadata": {},
     "output_type": "execute_result"
    }
   ],
   "source": [
    "class employee:\n",
    "    def __init__(self,empid,name,salary):\n",
    "        self.__empid=empid\n",
    "        self.__name=name\n",
    "        self.__salary=salary\n",
    "        \n",
    "    def display_details(self):\n",
    "        print(self.__empid,self.__name,self.__salary)\n",
    "        \n",
    "    def yearlybonus(self,bonus):\n",
    "        yearlybonus=bonus*100+self.__salary\n",
    "        return yearlybonus\n",
    "    \n",
    "    \n",
    "shubham=employee(2,\"rohan\",50000)\n",
    "shubham.yearlybonus(5000)"
   ]
  },
  {
   "cell_type": "code",
   "execution_count": 14,
   "id": "0a3d4478-6c1d-4045-a818-745002777386",
   "metadata": {},
   "outputs": [
    {
     "name": "stdout",
     "output_type": "stream",
     "text": [
      "2 rohan 50000\n"
     ]
    }
   ],
   "source": [
    "shubham.display_details()"
   ]
  },
  {
   "cell_type": "code",
   "execution_count": 15,
   "id": "1eb23bb4-0de0-4ce5-af4d-e3fc0bbfbb07",
   "metadata": {},
   "outputs": [],
   "source": [
    "#Problem 6: Shape Calculation Create a class representing a shape with attributes like length, width, and height. Implement methods to calculate the area and perimeter of the shape."
   ]
  },
  {
   "cell_type": "code",
   "execution_count": 21,
   "id": "4471e5e1-5b65-4dd6-a18d-cd553105f65c",
   "metadata": {},
   "outputs": [
    {
     "data": {
      "text/plain": [
       "12.0"
      ]
     },
     "execution_count": 21,
     "metadata": {},
     "output_type": "execute_result"
    }
   ],
   "source": [
    "class shape:\n",
    "    def __init__(self,length,breadth,height):\n",
    "        self.__length=length\n",
    "        self.__breadth=breadth\n",
    "        self.__height=height\n",
    "        \n",
    "    def area(self):\n",
    "        areaoftriangle=1/2*self.__length*self.__breadth*self.__height\n",
    "        return areaoftriangle\n",
    "    \n",
    "    def perimeter(self):\n",
    "        perimeteroftriangle=self.__length*self.__breadth*self.__height\n",
    "        return perimeteroftriangle\n",
    "    \n",
    "s=shape(2,3,4)\n",
    "s.area()\n",
    "        \n",
    "        "
   ]
  },
  {
   "cell_type": "code",
   "execution_count": 22,
   "id": "41e1445b-364b-4481-bead-4397ea170551",
   "metadata": {},
   "outputs": [
    {
     "data": {
      "text/plain": [
       "120"
      ]
     },
     "execution_count": 22,
     "metadata": {},
     "output_type": "execute_result"
    }
   ],
   "source": [
    "s1=shape(4,5,6)\n",
    "s1.perimeter()"
   ]
  },
  {
   "cell_type": "code",
   "execution_count": 23,
   "id": "e35d6d94-afb9-47a6-9831-3aa39e2c06b2",
   "metadata": {},
   "outputs": [],
   "source": [
    "#Problem 7: Student Management Create a class representing a student with attributes like student ID, name, and grades. Implement methods to calculate the average grade and display student details."
   ]
  },
  {
   "cell_type": "code",
   "execution_count": 25,
   "id": "c65fcabc-5151-4921-8a0a-037f4deb9367",
   "metadata": {},
   "outputs": [
    {
     "data": {
      "text/plain": [
       "'good'"
      ]
     },
     "execution_count": 25,
     "metadata": {},
     "output_type": "execute_result"
    }
   ],
   "source": [
    "class Student:\n",
    "    def __init__(self,studentid,name,grades):\n",
    "        self.__studentid=studentid\n",
    "        self.__name=name\n",
    "        self.__grades=grades\n",
    "        \n",
    "    def display_student_details(self):\n",
    "        print(self.__studentid,self.__name,self.__grades)\n",
    "        \n",
    "        \n",
    "    def calculate_average(self):\n",
    "        if self.__grades=='A':\n",
    "            return \"excellent\"\n",
    "        elif self.__grades=='B':\n",
    "            return \"very good\"\n",
    "        elif self.__grades=='C':\n",
    "            return \"good\"\n",
    "        elif self.__grades=='D':\n",
    "            return \"fail\"\n",
    "        \n",
    " \n",
    "r=Student(2,\"shubham\",'C')\n",
    "r.calculate_average()\n",
    "            \n",
    "        \n",
    "        \n",
    "        "
   ]
  },
  {
   "cell_type": "code",
   "execution_count": 26,
   "id": "7f8ff1e9-7c00-43e2-ab48-35a54ad8cb2d",
   "metadata": {},
   "outputs": [
    {
     "name": "stdout",
     "output_type": "stream",
     "text": [
      "2 shubham C\n"
     ]
    }
   ],
   "source": [
    "r.display_student_details()"
   ]
  },
  {
   "cell_type": "code",
   "execution_count": 27,
   "id": "2230acb5-15c5-4377-abed-a4eadb4e67cb",
   "metadata": {},
   "outputs": [],
   "source": [
    "#Problem 8: Email Management Create a class representing an email with attributes like sender, recipient, and subject. Implement methods to send an email and display email details."
   ]
  },
  {
   "cell_type": "code",
   "execution_count": 32,
   "id": "3d773dab-10db-4855-9147-07a2fe3b49f9",
   "metadata": {},
   "outputs": [],
   "source": [
    "class email:\n",
    "    def __init__(self,sender,recipient,subject,message):\n",
    "        self.__sender=sender\n",
    "        self.__recipient=recipient\n",
    "        self.__subject=subject\n",
    "        self.message = message\n",
    "        self.sent = False \n",
    "        \n",
    "    def display_email_id(self):\n",
    "        print(self.__sender,self.__recipient,self.__subject)\n",
    "        \n",
    "        \n",
    "    def send_email(self):\n",
    "        if not self.sent:\n",
    "            print(f\"Email sent from {self.__sender} to {self.__recipient}\")\n",
    "            self.sent = True\n",
    "        else:\n",
    "            print(\"Error: This email has already been sent.\")\n",
    "        \n",
    "    "
   ]
  },
  {
   "cell_type": "code",
   "execution_count": 33,
   "id": "e9ffe4e1-e9f1-44c6-b4b1-007ed4b2f1c0",
   "metadata": {},
   "outputs": [],
   "source": [
    "email1 = email(\"john@example.com\", \"jane@example.com\", \"Meeting Tomorrow\", \"Hi Jane, let's meet tomorrow to discuss the project.\")"
   ]
  },
  {
   "cell_type": "code",
   "execution_count": 34,
   "id": "7d392fda-868f-4e90-8454-aaa5829fb941",
   "metadata": {},
   "outputs": [
    {
     "name": "stdout",
     "output_type": "stream",
     "text": [
      "Email sent from john@example.com to jane@example.com\n"
     ]
    }
   ],
   "source": [
    "email1.send_email()"
   ]
  },
  {
   "cell_type": "code",
   "execution_count": 35,
   "id": "d424d8b2-05e3-4e1f-8da3-0cbe2b280b77",
   "metadata": {},
   "outputs": [
    {
     "name": "stdout",
     "output_type": "stream",
     "text": [
      "john@example.com jane@example.com Meeting Tomorrow\n"
     ]
    }
   ],
   "source": [
    "email1.display_email_id()"
   ]
  },
  {
   "cell_type": "code",
   "execution_count": 36,
   "id": "af473dcd-560b-4814-b0ee-d5bd1baa32d8",
   "metadata": {},
   "outputs": [],
   "source": [
    "# Social Media Profile Create a class representing a social media profile with attributes like username and posts. Implement methods to add posts, display posts, and search for posts by keyword."
   ]
  },
  {
   "cell_type": "code",
   "execution_count": 40,
   "id": "31a7e155-a259-4e67-ad88-72f806684f78",
   "metadata": {},
   "outputs": [],
   "source": [
    "class socialmediaprofile:\n",
    "    def __init__(self,username,posts,keyword):\n",
    "        self.__username=username\n",
    "        self.__posts=posts\n",
    "        self.__keyword=keyword\n",
    "        \n",
    "    def add_posts(self,new_post):\n",
    "        self.__posts=new_post\n",
    "        \n",
    "    def display_posts(self):\n",
    "        return self.__posts\n",
    "    \n",
    "    def search_posts(self,nkeyword):\n",
    "        if self.__keyword==nkeyword:\n",
    "            return self.__posts\n",
    "        else:\n",
    "            return \"provided keyword not valid\"\n",
    "        \n",
    "s=socialmediaprofile(\"sg26@gmail.com\",\"abc\",\"abcd1234\")\n",
    "s.add_posts(\"qwer\")\n",
    "\n",
    "        \n",
    "    "
   ]
  },
  {
   "cell_type": "code",
   "execution_count": 41,
   "id": "0c9bca27-f7d0-4add-b479-51e6211c03ec",
   "metadata": {},
   "outputs": [
    {
     "data": {
      "text/plain": [
       "'qwer'"
      ]
     },
     "execution_count": 41,
     "metadata": {},
     "output_type": "execute_result"
    }
   ],
   "source": [
    "s.display_posts()"
   ]
  },
  {
   "cell_type": "code",
   "execution_count": 43,
   "id": "8dbecf80-ffba-45ce-88ac-663df4281306",
   "metadata": {},
   "outputs": [
    {
     "data": {
      "text/plain": [
       "'provided keyword not valid'"
      ]
     },
     "execution_count": 43,
     "metadata": {},
     "output_type": "execute_result"
    }
   ],
   "source": [
    "s.search_posts(\"abcd123\")"
   ]
  },
  {
   "cell_type": "code",
   "execution_count": 44,
   "id": "50b51de8-79c8-4235-9bb1-93d2a94bf73a",
   "metadata": {},
   "outputs": [],
   "source": [
    "#Problem 10: ToDo List Create a class representing a ToDo list with attributes like tasks and due dates. Implement methods to add tasks, mark tasks as completed, and display pending tasks."
   ]
  },
  {
   "cell_type": "code",
   "execution_count": 45,
   "id": "7484c94d-023f-4675-89ec-e2c7c5f2b5c3",
   "metadata": {},
   "outputs": [
    {
     "name": "stdout",
     "output_type": "stream",
     "text": [
      "Task 'Complete project proposal' added to the ToDo list with due date 2024-02-15.\n",
      "Task 'Buy groceries' added to the ToDo list with due date 2024-02-20.\n",
      "Task 'Read a chapter of a book' added to the ToDo list with due date 2024-02-25.\n",
      "Pending Tasks:\n",
      "- Task: Complete project proposal, Due Date: 2024-02-15\n",
      "- Task: Buy groceries, Due Date: 2024-02-20\n",
      "- Task: Read a chapter of a book, Due Date: 2024-02-25\n",
      "Task 'Buy groceries' marked as completed.\n",
      "Pending Tasks:\n",
      "- Task: Complete project proposal, Due Date: 2024-02-15\n",
      "- Task: Read a chapter of a book, Due Date: 2024-02-25\n"
     ]
    }
   ],
   "source": [
    "class ToDoList:\n",
    "    def __init__(self):\n",
    "        self.tasks = []\n",
    "\n",
    "    def add_task(self, task, due_date):\n",
    "        \"\"\"Add a task to the ToDo list.\"\"\"\n",
    "        self.tasks.append({\"task\": task, \"due_date\": due_date, \"completed\": False})\n",
    "        print(f\"Task '{task}' added to the ToDo list with due date {due_date}.\")\n",
    "\n",
    "    def mark_as_completed(self, task):\n",
    "        \"\"\"Mark a task as completed.\"\"\"\n",
    "        for t in self.tasks:\n",
    "            if t[\"task\"] == task:\n",
    "                t[\"completed\"] = True\n",
    "                print(f\"Task '{task}' marked as completed.\")\n",
    "                return\n",
    "        print(f\"Error: Task '{task}' not found in the ToDo list.\")\n",
    "\n",
    "    def display_pending_tasks(self):\n",
    "        \"\"\"Display pending tasks in the ToDo list.\"\"\"\n",
    "        pending_tasks = [t for t in self.tasks if not t[\"completed\"]]\n",
    "        if pending_tasks:\n",
    "            print(\"Pending Tasks:\")\n",
    "            for t in pending_tasks:\n",
    "                print(f\"- Task: {t['task']}, Due Date: {t['due_date']}\")\n",
    "        else:\n",
    "            print(\"No pending tasks in the ToDo list.\")\n",
    "\n",
    "# Example usage\n",
    "todo_list = ToDoList()\n",
    "\n",
    "# Add tasks to the ToDo list\n",
    "todo_list.add_task(\"Complete project proposal\", \"2024-02-15\")\n",
    "todo_list.add_task(\"Buy groceries\", \"2024-02-20\")\n",
    "todo_list.add_task(\"Read a chapter of a book\", \"2024-02-25\")\n",
    "\n",
    "# Display pending tasks before marking any as completed\n",
    "todo_list.display_pending_tasks()\n",
    "\n",
    "# Mark a task as completed\n",
    "todo_list.mark_as_completed(\"Buy groceries\")\n",
    "\n",
    "# Display pending tasks after marking one as completed\n",
    "todo_list.display_pending_tasks()\n"
   ]
  },
  {
   "cell_type": "code",
   "execution_count": 46,
   "id": "96ad82ca-05eb-42fa-986e-113736f0e0a2",
   "metadata": {},
   "outputs": [],
   "source": [
    "#Problem 5: Product Inventory Create classes representing a product and an inventory system. Implement methods to add products to the inventory, update product quantity, and display available products."
   ]
  },
  {
   "cell_type": "code",
   "execution_count": null,
   "id": "1fab70ed-ed55-4f72-aca8-fcca733c1ca3",
   "metadata": {},
   "outputs": [],
   "source": [
    "class Product:\n",
    "    def __init__(self, product_id, name, price, quantity):\n",
    "        self.product_id = product_id\n",
    "        self.name = name\n",
    "        self.price = price\n",
    "        self.quantity = quantity\n",
    "\n",
    "    def __str__(self):\n",
    "        return f\"Product ID: {self.product_id}, Name: {self.name}, Price: ${self.price}, Quantity: {self.quantity}\"\n",
    "\n",
    "class Inventory:\n",
    "    def __init__(self):\n",
    "        self.products = []\n",
    "\n",
    "    def add_product(self, product):\n",
    "        \"\"\"Add a product to the inventory.\"\"\"\n",
    "        self.products.append(product)\n",
    "        print(f\"Product '{product.name}' added to the inventory.\")\n",
    "\n",
    "    def update_quantity(self, product_id, new_quantity):\n",
    "        \"\"\"Update the quantity of a product in the inventory.\"\"\"\n",
    "        for product in self.products:\n",
    "            if product.product_id == product_id:\n",
    "                product.quantity = new_quantity\n",
    "                print(f\"Quantity for product '{product.name}' updated to {new_quantity}.\")\n",
    "                return\n",
    "        print(f\"Error: Product with ID {product_id} not found in the inventory.\")\n",
    "\n",
    "    def display_available_products(self):\n",
    "        \"\"\"Display available products in the inventory.\"\"\"\n",
    "        if self.products:\n",
    "            print(\"Available Products:\")\n",
    "            for product in self.products:\n",
    "                print(product)\n",
    "        else:\n",
    "            print(\"No products available in the inventory.\")\n",
    "\n",
    "# Example usage\n",
    "product1 = Product(1, \"Laptop\", 1200.0, 10)\n",
    "product2 = Product(2, \"Smartphone\", 800.0, 15)\n",
    "product3 = Product(3, \"Headphones\", 50.0, 25)\n",
    "\n",
    "inventory = Inventory()\n",
    "\n",
    "# Add products to the inventory\n",
    "inventory.add_product(product1)\n",
    "inventory.add_product(product2)\n",
    "inventory.add_product(product3)\n",
    "\n",
    "# Display available products before updating quantity\n",
    "inventory.display_available_products()\n",
    "\n",
    "# Update the quantity of a product\n",
    "inventory.update_quantity(1, 8)\n",
    "\n",
    "# Display available products after updating quantity\n",
    "inventory.display_available_products()\n"
   ]
  }
 ],
 "metadata": {
  "kernelspec": {
   "display_name": "Python 3 (ipykernel)",
   "language": "python",
   "name": "python3"
  },
  "language_info": {
   "codemirror_mode": {
    "name": "ipython",
    "version": 3
   },
   "file_extension": ".py",
   "mimetype": "text/x-python",
   "name": "python",
   "nbconvert_exporter": "python",
   "pygments_lexer": "ipython3",
   "version": "3.10.8"
  }
 },
 "nbformat": 4,
 "nbformat_minor": 5
}
