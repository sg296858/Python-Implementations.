{
 "cells": [
  {
   "cell_type": "code",
   "execution_count": 23,
   "id": "ae8ad735-a971-4c70-8ccf-ddb774ac11bd",
   "metadata": {},
   "outputs": [],
   "source": [
    "#Basic if else statements"
   ]
  },
  {
   "cell_type": "code",
   "execution_count": 24,
   "id": "f52dd7bd-2bb1-4d05-aeaf-8ef73136cc6f",
   "metadata": {},
   "outputs": [],
   "source": [
    "#Write a Python program to check if a given number is positive or negative."
   ]
  },
  {
   "cell_type": "code",
   "execution_count": 25,
   "id": "745fa3c3-efa2-4f7c-b866-039759b5bd1a",
   "metadata": {},
   "outputs": [
    {
     "name": "stdin",
     "output_type": "stream",
     "text": [
      "Enter the number -5\n"
     ]
    },
    {
     "name": "stdout",
     "output_type": "stream",
     "text": [
      "Number is negative\n"
     ]
    }
   ],
   "source": [
    "number=int(input(\"Enter the number\"))\n",
    "if number<0:\n",
    "    print(\"Number is negative\")\n",
    "else:\n",
    "    print(\"Number is positive\")"
   ]
  },
  {
   "cell_type": "code",
   "execution_count": 26,
   "id": "5f495127-ce3e-4203-b494-4ed3562287da",
   "metadata": {},
   "outputs": [],
   "source": [
    "#Create a program that determines if a person is eligible to vote based on their age."
   ]
  },
  {
   "cell_type": "code",
   "execution_count": 27,
   "id": "ed07c75b-8109-48be-8c0a-57f802beef05",
   "metadata": {},
   "outputs": [
    {
     "name": "stdin",
     "output_type": "stream",
     "text": [
      "Enter your age 34\n"
     ]
    },
    {
     "name": "stdout",
     "output_type": "stream",
     "text": [
      "You are eligible to vote\n"
     ]
    }
   ],
   "source": [
    "age =int(input(\"Enter your age\"))\n",
    "if age>=18:\n",
    "    print(\"You are eligible to vote\")\n",
    "else:\n",
    "    print(\"You are not eligible to vote\")"
   ]
  },
  {
   "cell_type": "code",
   "execution_count": 28,
   "id": "dd11d10f-025d-425d-8663-5f7c1a4cfedd",
   "metadata": {},
   "outputs": [],
   "source": [
    "#Develop a program to find the maximum of two numbers using if-else statements."
   ]
  },
  {
   "cell_type": "code",
   "execution_count": 29,
   "id": "d09e490e-4c87-4629-afec-50c933d11b2d",
   "metadata": {},
   "outputs": [
    {
     "name": "stdin",
     "output_type": "stream",
     "text": [
      "Enter the first number 54\n",
      "Enter the second number 43\n"
     ]
    },
    {
     "name": "stdout",
     "output_type": "stream",
     "text": [
      "number1 is greater than number2\n"
     ]
    }
   ],
   "source": [
    "number1=int(input(\"Enter the first number\"))\n",
    "number2=int(input(\"Enter the second number\"))\n",
    "if number1>number2:\n",
    "    print(\"number1 is greater than number2\")\n",
    "else:\n",
    "    print(\"number 2 is greater than number 1\")"
   ]
  },
  {
   "cell_type": "code",
   "execution_count": 30,
   "id": "fc35a455-b48e-4041-8cf5-5832372a78f6",
   "metadata": {},
   "outputs": [],
   "source": [
    "#Write a Python script to classify a given year as a leap year or not."
   ]
  },
  {
   "cell_type": "code",
   "execution_count": 31,
   "id": "90adb3df-ee97-4be3-97ce-7725acaa0784",
   "metadata": {},
   "outputs": [
    {
     "name": "stdin",
     "output_type": "stream",
     "text": [
      "Enter the year 2000\n"
     ]
    },
    {
     "name": "stdout",
     "output_type": "stream",
     "text": [
      "2000 year is leap year\n"
     ]
    }
   ],
   "source": [
    "year=int(input(\"Enter the year\"))\n",
    "if year%400==0 and year%100==0:\n",
    "    print(year,\"year is leap year\")\n",
    "elif year%4==0 and year%100!=0:\n",
    "    print(year,\"year is leap year\")\n",
    "else:\n",
    "    print(year,\"year is not a leap year\")"
   ]
  },
  {
   "cell_type": "code",
   "execution_count": 32,
   "id": "2b9bc060-9415-423f-8693-e1875ce8a4ba",
   "metadata": {},
   "outputs": [],
   "source": [
    "#Create a program that checks whether a character is a vowel or a consonant."
   ]
  },
  {
   "cell_type": "code",
   "execution_count": 33,
   "id": "f695e973-d101-40b6-acb1-40c7bc9abe35",
   "metadata": {},
   "outputs": [
    {
     "name": "stdin",
     "output_type": "stream",
     "text": [
      "Enter the alphabets e\n"
     ]
    },
    {
     "name": "stdout",
     "output_type": "stream",
     "text": [
      "letter is vowel\n"
     ]
    }
   ],
   "source": [
    "letter=input(\"Enter the alphabets\")\n",
    "if letter=='a' or letter=='e' or letter=='i' or letter =='o' or letter=='u':\n",
    "    print(\"letter is vowel\")\n",
    "else:\n",
    "    print(\"letter is consosnant\")"
   ]
  },
  {
   "cell_type": "code",
   "execution_count": 34,
   "id": "4c2c60ea-238a-472b-8d83-06d137df491b",
   "metadata": {},
   "outputs": [],
   "source": [
    "#Implement a program to determine whether a given number is even or odd."
   ]
  },
  {
   "cell_type": "code",
   "execution_count": 35,
   "id": "f303bc28-eae3-490a-9b2c-e0a3eaa05218",
   "metadata": {},
   "outputs": [
    {
     "name": "stdin",
     "output_type": "stream",
     "text": [
      "Enter the number 54\n"
     ]
    },
    {
     "name": "stdout",
     "output_type": "stream",
     "text": [
      "number is even\n"
     ]
    }
   ],
   "source": [
    "number=int(input(\"Enter the number\"))\n",
    "if number%2==0:\n",
    "    print(\"number is even\")\n",
    "else:\n",
    "    print(\"number is odd\")"
   ]
  },
  {
   "cell_type": "code",
   "execution_count": 36,
   "id": "a876a6cb-b575-4c1e-9430-f4f5f81d13e4",
   "metadata": {},
   "outputs": [],
   "source": [
    "#Write a Python function to calculate the absolute value of a number without using the `abs()` function."
   ]
  },
  {
   "cell_type": "code",
   "execution_count": 37,
   "id": "96dd446c-2543-4808-acaf-4c7a8ad0b1a6",
   "metadata": {},
   "outputs": [
    {
     "name": "stdin",
     "output_type": "stream",
     "text": [
      "Enter the number -7\n"
     ]
    },
    {
     "name": "stdout",
     "output_type": "stream",
     "text": [
      "7 is the absolute value of a number\n"
     ]
    }
   ],
   "source": [
    "number=int(input(\"Enter the number\"))\n",
    "if number<0:\n",
    "    print(-number,\"is the absolute value of a number\")\n",
    "else:\n",
    "    print(number,\"is the absolute value of a number\")"
   ]
  },
  {
   "cell_type": "code",
   "execution_count": 38,
   "id": "bcc05930-4ee2-429f-b836-63dd4ef364ac",
   "metadata": {},
   "outputs": [],
   "source": [
    "#Develop a program that determines the largest of three given numbers using if-else statements."
   ]
  },
  {
   "cell_type": "code",
   "execution_count": 39,
   "id": "8afea3a4-9319-4f79-947c-7d61d69a5395",
   "metadata": {},
   "outputs": [
    {
     "name": "stdin",
     "output_type": "stream",
     "text": [
      "Enter the first number 42\n",
      "Enter the first number 54\n",
      "Enter the first number 21\n"
     ]
    },
    {
     "name": "stdout",
     "output_type": "stream",
     "text": [
      "54.0 is the largest number\n"
     ]
    }
   ],
   "source": [
    "number1 =float(input(\"Enter the first number\"))\n",
    "number2=float(input(\"Enter the first number\"))\n",
    "number3=float(input(\"Enter the first number\"))\n",
    "if number1>=number2 and number1>=number3:\n",
    "    print(number1,\"is the largest number\")\n",
    "elif number2>=number3 and number2>=number1:\n",
    "    print(number2,\"is the largest number\")\n",
    "else:\n",
    "    print(number3,\"is the largest number\")"
   ]
  },
  {
   "cell_type": "code",
   "execution_count": 40,
   "id": "c9366010-97b3-499f-b94f-8a278f0fc28c",
   "metadata": {},
   "outputs": [],
   "source": [
    "#Create a program that checks if a given string is a palindrome."
   ]
  },
  {
   "cell_type": "code",
   "execution_count": 41,
   "id": "ad7f7239-56c3-40f9-b19f-83671edee71e",
   "metadata": {},
   "outputs": [
    {
     "name": "stdin",
     "output_type": "stream",
     "text": [
      "Enter the string malayalam\n"
     ]
    },
    {
     "name": "stdout",
     "output_type": "stream",
     "text": [
      "malayalam is the palindromic string\n"
     ]
    }
   ],
   "source": [
    "s=input(\"Enter the string\")\n",
    "if s==s[: : -1]:\n",
    "    print(s,\"is the palindromic string\")\n",
    "else:\n",
    "    print(s,\"is not the palindromic string\")"
   ]
  },
  {
   "cell_type": "code",
   "execution_count": 42,
   "id": "fa79d8e9-b2ff-4ed7-9c86-22a0f1f0be67",
   "metadata": {},
   "outputs": [],
   "source": [
    "#Write a Python program to calculate the grade based on a student's score."
   ]
  },
  {
   "cell_type": "code",
   "execution_count": 45,
   "id": "603c09c9-34bb-4711-aad7-43c87b9e202b",
   "metadata": {},
   "outputs": [
    {
     "name": "stdin",
     "output_type": "stream",
     "text": [
      "Enter the score obtained ny student 50\n"
     ]
    },
    {
     "name": "stdout",
     "output_type": "stream",
     "text": [
      "grade C\n"
     ]
    }
   ],
   "source": [
    "studentscore=int(input(\"Enter the score obtained ny student\"))\n",
    "if studentscore>=90:\n",
    "    print(\"Grade A\")\n",
    "elif studentscore>=70 and studentscore<90:\n",
    "    print(\"grade B\")\n",
    "elif studentscore>=50 and  studentscore<70:\n",
    "    print(\"grade C\")\n",
    "elif studentscore>=35 and studentscore<50:\n",
    "    print(\"Grade D\")\n",
    "else:\n",
    "    print(\"Sorry Better luck next time!!\")"
   ]
  },
  {
   "cell_type": "code",
   "execution_count": null,
   "id": "4072dc11-f223-437a-b4fe-ff5661c9935c",
   "metadata": {},
   "outputs": [],
   "source": [
    "#Nested If-Else Statements:"
   ]
  },
  {
   "cell_type": "code",
   "execution_count": null,
   "id": "d18d91b6-4405-424d-9eb9-82c9ae6d5c49",
   "metadata": {},
   "outputs": [],
   "source": [
    "#Write a program to find the largest among three numbers using nested if-else statements."
   ]
  },
  {
   "cell_type": "code",
   "execution_count": 46,
   "id": "4308ac02-4a47-4c9d-afbe-529463275a7c",
   "metadata": {},
   "outputs": [
    {
     "name": "stdin",
     "output_type": "stream",
     "text": [
      "Enter the first number 54\n",
      "Enter the first number 42\n",
      "Enter the first number 21\n"
     ]
    },
    {
     "name": "stdout",
     "output_type": "stream",
     "text": [
      "54.0 is the largest number\n"
     ]
    }
   ],
   "source": [
    "number1 =float(input(\"Enter the first number\"))\n",
    "number2=float(input(\"Enter the first number\"))\n",
    "number3=float(input(\"Enter the first number\"))\n",
    "if number1>=number2 and number1>=number3:\n",
    "    print(number1,\"is the largest number\")\n",
    "elif number2>=number3 and number2>=number1:\n",
    "    print(number2,\"is the largest number\")\n",
    "else:\n",
    "    print(number3,\"is the largest number\")"
   ]
  },
  {
   "cell_type": "code",
   "execution_count": null,
   "id": "942c8fe3-4d39-411d-a804-52ca49e613f6",
   "metadata": {},
   "outputs": [],
   "source": [
    "#Implement a program to determine if a triangle is equilateral, isosceles, or scalene."
   ]
  },
  {
   "cell_type": "code",
   "execution_count": 47,
   "id": "9c09df6c-aa75-46c7-8a37-a7e320b1fac9",
   "metadata": {},
   "outputs": [
    {
     "name": "stdin",
     "output_type": "stream",
     "text": [
      "Enter the first side of the triangle 4\n",
      "Enter the second side of the triangle 4\n",
      "Enter the third side of the triangle 6\n"
     ]
    },
    {
     "name": "stdout",
     "output_type": "stream",
     "text": [
      "Triangle is isoceles triangle\n"
     ]
    }
   ],
   "source": [
    "side1=int(input(\"Enter the first side of the triangle\"))\n",
    "side2=int(input(\"Enter the second side of the triangle\"))\n",
    "side3=int(input(\"Enter the third side of the triangle\"))\n",
    "if side1==side2==side3:\n",
    "    print(\"Triangle is equilateral triangle\")\n",
    "elif side1==side2!=side3   or side1==side3!=side2:\n",
    "    print(\"Triangle is isoceles triangle\")\n",
    "else:\n",
    "    print(\"Triangle is scalene\")"
   ]
  },
  {
   "cell_type": "code",
   "execution_count": null,
   "id": "f626c655-7ec3-44ca-b13e-874278be21b5",
   "metadata": {},
   "outputs": [],
   "source": [
    "#Develop a program that checks if a year is a leap year and also if it is a century year."
   ]
  },
  {
   "cell_type": "code",
   "execution_count": 48,
   "id": "c6412af3-3434-4a9a-b533-041f3488671c",
   "metadata": {},
   "outputs": [
    {
     "name": "stdin",
     "output_type": "stream",
     "text": [
      "Enter the year 2000\n"
     ]
    },
    {
     "name": "stdout",
     "output_type": "stream",
     "text": [
      "2000 year is leap year\n"
     ]
    }
   ],
   "source": [
    "year=int(input(\"Enter the year\"))\n",
    "if year%400==0 and year%100==0:\n",
    "    print(year,\"year is leap year\")\n",
    "elif year%4==0 and year%100!=0:\n",
    "    print(year,\"year is leap year\")\n",
    "elif year%100==0:\n",
    "    print(year,\"year is century year\")\n",
    "else:\n",
    "    print(year,\"year is not a leap year\")"
   ]
  },
  {
   "cell_type": "code",
   "execution_count": null,
   "id": "383fd7d0-2b59-45e5-9169-10b4e6d71fe0",
   "metadata": {},
   "outputs": [],
   "source": [
    "#Write a Python script to determine if a number is positive, negative, or zero."
   ]
  },
  {
   "cell_type": "code",
   "execution_count": 49,
   "id": "0124ae38-80b3-4140-a4f7-258d8c3184e9",
   "metadata": {},
   "outputs": [
    {
     "name": "stdin",
     "output_type": "stream",
     "text": [
      "Enter the number 9\n"
     ]
    },
    {
     "name": "stdout",
     "output_type": "stream",
     "text": [
      "Number is positive\n"
     ]
    }
   ],
   "source": [
    "number=int(input(\"Enter the number\"))\n",
    "if number==0:\n",
    "    print(\"Number is zero\")\n",
    "elif number>0:\n",
    "    print(\"Number is positive\")\n",
    "else:\n",
    "    print(\"Number is negative\")"
   ]
  },
  {
   "cell_type": "code",
   "execution_count": null,
   "id": "d1e217fc-8128-4046-8fbb-b8bcb8d05f29",
   "metadata": {},
   "outputs": [],
   "source": [
    "#Create a program to check if a person is a teenager (between 13 and 19 years old)."
   ]
  },
  {
   "cell_type": "code",
   "execution_count": 50,
   "id": "7e21c8f0-4e6b-4fb0-8b02-2d2dca566a12",
   "metadata": {},
   "outputs": [
    {
     "name": "stdin",
     "output_type": "stream",
     "text": [
      "Enter your age 12\n"
     ]
    },
    {
     "name": "stdout",
     "output_type": "stream",
     "text": [
      "Person is not teenager\n"
     ]
    }
   ],
   "source": [
    "age=int(input(\"Enter your age\"))\n",
    "if 13<=age<=19:\n",
    "    print(\"Person is teenager\")\n",
    "else:\n",
    "    print(\"Person is not teenager\")"
   ]
  },
  {
   "cell_type": "code",
   "execution_count": null,
   "id": "edec8553-f307-4d96-86f6-121dd195a4fa",
   "metadata": {},
   "outputs": [],
   "source": [
    "#Develop a program that determines the type of angle based on its measure (acute, obtuse, or right)."
   ]
  },
  {
   "cell_type": "code",
   "execution_count": 51,
   "id": "2d402518-cfa7-4ef1-af72-77fb67289e4a",
   "metadata": {},
   "outputs": [
    {
     "name": "stdin",
     "output_type": "stream",
     "text": [
      "Enter the first side of triangle 50\n",
      "Enter the second side of triangle 80\n",
      "Enter the third side of triangle 60\n"
     ]
    },
    {
     "name": "stdout",
     "output_type": "stream",
     "text": [
      "Obtuse Angle triangle\n"
     ]
    }
   ],
   "source": [
    "a=int(input(\"Enter the first side of triangle\"))\n",
    "b=int(input(\"Enter the second side of triangle\" ))\n",
    "c=int(input(\"Enter the third side of triangle\"))\n",
    "if a+b+c<=90:\n",
    "    print(\"Acute angle Triangle\")\n",
    "elif 90>a<=180 or 90>b<=180 or 90>c<=180:\n",
    "        print(\"Obtuse Angle triangle\")\n",
    "elif a==90 or b==90 or c==90:\n",
    "            print(\"Right Angled Triangle\")\n",
    "else:\n",
    "    if a+b+c>180:\n",
    "        print(\"Not a Triangle\")"
   ]
  },
  {
   "cell_type": "code",
   "execution_count": null,
   "id": "4d9ab20c-caa0-40c0-ba24-fda1d7440a2d",
   "metadata": {},
   "outputs": [],
   "source": [
    "#Write a Python program to calculate the roots of a quadratic equation."
   ]
  },
  {
   "cell_type": "code",
   "execution_count": 52,
   "id": "2e7236ee-46fd-471c-ad20-e12f9f8066ed",
   "metadata": {},
   "outputs": [
    {
     "name": "stdin",
     "output_type": "stream",
     "text": [
      "Enter the value of a 3\n",
      "Enter the value of b 4\n",
      "Enter the value of c 5\n"
     ]
    },
    {
     "name": "stdout",
     "output_type": "stream",
     "text": [
      "The solution are (-0.6666666666666666+1.1055415967851332j) and (-0.6666666666666666+1.1055415967851332j)\n"
     ]
    }
   ],
   "source": [
    "a=int(input(\"Enter the value of a\"))\n",
    "b=int(input(\"Enter the value of b\"))\n",
    "c=int(input(\"Enter the value of c\"))\n",
    "\n",
    "discriminant=(b**2)-(4*a*c)\n",
    "discriminant_sqrt = discriminant ** 0.5\n",
    "sol1 = (-b+discriminant_sqrt)/(2*a)\n",
    "sol2 = (-b+discriminant_sqrt)/(2*a)\n",
    "\n",
    "print('The solution are {0} and {1}'.format(sol1,sol2))\n"
   ]
  },
  {
   "cell_type": "code",
   "execution_count": null,
   "id": "f34a0e90-39ed-49f3-9c7e-ba93fb525c18",
   "metadata": {},
   "outputs": [],
   "source": [
    "#18. Implement a program to determine the day of the week based on a user-provided number (1 for Monday, 2\n",
    "#for Tuesday, etc.)."
   ]
  },
  {
   "cell_type": "code",
   "execution_count": 53,
   "id": "2d9ff684-4f03-4efe-a856-f5bcc810c15e",
   "metadata": {},
   "outputs": [
    {
     "name": "stdin",
     "output_type": "stream",
     "text": [
      "Enter the number 3\n"
     ]
    },
    {
     "name": "stdout",
     "output_type": "stream",
     "text": [
      "Wednesday\n"
     ]
    }
   ],
   "source": [
    "day=int(input(\"Enter the number\"))\n",
    "if day==1:\n",
    "    print(\"Monday\")\n",
    "elif day==2:\n",
    "    print(\"Tuesday\")\n",
    "elif day==3:\n",
    "    print(\"Wednesday\")\n",
    "elif day==4:\n",
    "    print(\"Thursday\")\n",
    "elif day==5:\n",
    "    print(\"Friday\")\n",
    "elif day==6:\n",
    "    print(\"Saturday\")\n",
    "elif day==7:\n",
    "    print(\"Sunday\")\n",
    "else:\n",
    "    print(\"Invalid Input\")"
   ]
  },
  {
   "cell_type": "code",
   "execution_count": null,
   "id": "b2ae205f-48af-43d1-81f2-85fdf0083b92",
   "metadata": {},
   "outputs": [],
   "source": [
    "#Create a program that determines if a year is a leap year and also if it is evenly divisible by 400."
   ]
  },
  {
   "cell_type": "code",
   "execution_count": 54,
   "id": "496ae091-15e2-4b27-94d4-ffb871e24d06",
   "metadata": {},
   "outputs": [
    {
     "name": "stdin",
     "output_type": "stream",
     "text": [
      "Enter the year 1992\n"
     ]
    },
    {
     "name": "stdout",
     "output_type": "stream",
     "text": [
      "1992 year is leap year\n"
     ]
    }
   ],
   "source": [
    "year=int(input(\"Enter the year\"))\n",
    "if year%400==0 and year%100==0:\n",
    "    print(year,\"year is leap year\")\n",
    "elif year%4==0 and year%100!=0:\n",
    "    print(year,\"year is leap year\")\n",
    "else:\n",
    "    print(year,\"year is not a leap year\")"
   ]
  },
  {
   "cell_type": "code",
   "execution_count": null,
   "id": "4b14d727-c317-4b0e-8065-45eef6736295",
   "metadata": {},
   "outputs": [],
   "source": [
    "#20. Develop a program that checks if a given number is prime or not using nested if-else statements."
   ]
  },
  {
   "cell_type": "code",
   "execution_count": 55,
   "id": "b742ad6f-ee24-4453-9f6e-e375e7b22a7b",
   "metadata": {},
   "outputs": [
    {
     "name": "stdout",
     "output_type": "stream",
     "text": [
      "11 is a prime number\n"
     ]
    }
   ],
   "source": [
    "num = 11\n",
    "# If given number is greater than 1\n",
    "if num > 1:\n",
    "    # Iterate from 2 to n / 2\n",
    "    for i in range(2, int(num/2)+1):\n",
    "        # If num is divisible by any number between\n",
    "        # 2 and n / 2, it is not prime\n",
    "        if (num % i) == 0:\n",
    "            print(num, \"is not a prime number\")\n",
    "            break\n",
    "    else:\n",
    "        print(num, \"is a prime number\")\n",
    "else:\n",
    "    print(num, \"is not a prime number\")"
   ]
  },
  {
   "cell_type": "code",
   "execution_count": null,
   "id": "89daafab-aaf7-433f-973f-9ef134552b0b",
   "metadata": {},
   "outputs": [],
   "source": [
    "#elif statements"
   ]
  },
  {
   "cell_type": "code",
   "execution_count": null,
   "id": "c5be82f3-b100-44d6-b2fe-e3c54d4e03e0",
   "metadata": {},
   "outputs": [],
   "source": [
    "#21. Write a Python program to assign grades based on different ranges of scores using elif statements."
   ]
  },
  {
   "cell_type": "code",
   "execution_count": 56,
   "id": "5bae5ca6-7a4d-47cc-8a79-73f333faa3c5",
   "metadata": {},
   "outputs": [
    {
     "name": "stdin",
     "output_type": "stream",
     "text": [
      "Enter the score obtained ny student 67\n"
     ]
    },
    {
     "name": "stdout",
     "output_type": "stream",
     "text": [
      "grade C\n"
     ]
    }
   ],
   "source": [
    "studentscore=int(input(\"Enter the score obtained ny student\"))\n",
    "if studentscore>=90:\n",
    "    print(\"Grade A\")\n",
    "elif studentscore>=70 and studentscore<90:\n",
    "    print(\"grade B\")\n",
    "elif studentscore>=50 and  studentscore<70:\n",
    "    print(\"grade C\")\n",
    "elif studentscore>=35 and studentscore<50:\n",
    "    print(\"Grade D\")\n",
    "else:\n",
    "    print(\"Sorry Better luck next time!!\")"
   ]
  },
  {
   "cell_type": "code",
   "execution_count": null,
   "id": "f5ce5637-ce7e-449c-83de-3987f0bd62d1",
   "metadata": {},
   "outputs": [],
   "source": [
    "#Implement a program to determine the type of a triangle based on its angles."
   ]
  },
  {
   "cell_type": "code",
   "execution_count": 57,
   "id": "e2c842d1-cc03-4c1d-8f10-08fe3a74eb5c",
   "metadata": {},
   "outputs": [
    {
     "name": "stdin",
     "output_type": "stream",
     "text": [
      "Enter the first side of the triangle 5\n",
      "Enter the second side of the triangle 5\n",
      "Enter the third side of the triangle 7\n"
     ]
    },
    {
     "name": "stdout",
     "output_type": "stream",
     "text": [
      "Triangle is isoceles triangle\n"
     ]
    }
   ],
   "source": [
    "side1=int(input(\"Enter the first side of the triangle\"))\n",
    "side2=int(input(\"Enter the second side of the triangle\"))\n",
    "side3=int(input(\"Enter the third side of the triangle\"))\n",
    "if side1==side2==side3:\n",
    "    print(\"Triangle is equilateral triangle\")\n",
    "elif side1==side2!=side3   or side1==side3!=side2:\n",
    "    print(\"Triangle is isoceles triangle\")\n",
    "else:\n",
    "    print(\"Triangle is scalene\")"
   ]
  },
  {
   "cell_type": "code",
   "execution_count": null,
   "id": "3a6ac761-1f8f-445d-9ba2-08bcb68896e9",
   "metadata": {},
   "outputs": [],
   "source": [
    "#23. Develop a program to categorize a given person's BMI into underweight, normal, overweight, or obese using\n",
    "#elif statements."
   ]
  },
  {
   "cell_type": "code",
   "execution_count": 58,
   "id": "3bb1c6a5-7c0b-449a-86ff-3930c384ccb8",
   "metadata": {},
   "outputs": [
    {
     "name": "stdin",
     "output_type": "stream",
     "text": [
      "Enter your height in meters:  55\n",
      "Enter your Weight in Kg:  70\n"
     ]
    },
    {
     "name": "stdout",
     "output_type": "stream",
     "text": [
      "BMI Calculated is:   0.023140495867768594\n",
      "You are very underweight\n"
     ]
    }
   ],
   "source": [
    "h=float(input(\"Enter your height in meters: \"))\n",
    "w=float(input(\"Enter your Weight in Kg: \"))\n",
    "\n",
    "BMI=w/(h*h)\n",
    "print(\"BMI Calculated is:  \",BMI)\n",
    "\n",
    "if(BMI>0):\n",
    "\tif(BMI<=16):\n",
    "\t\tprint(\"You are very underweight\")\n",
    "\telif(BMI<=18.5):\n",
    "\t\tprint(\"You are underweight\")\n",
    "\telif(BMI<=25):\n",
    "\t\tprint(\"Congrats! You are Healthy\")\n",
    "\telif(BMI<=30):\n",
    "\t\tprint(\"You are overweight\")\n",
    "\t\n",
    "else:\n",
    "    print(\"enter valid details\")"
   ]
  },
  {
   "cell_type": "code",
   "execution_count": null,
   "id": "c895acfe-a819-4bb6-bf3e-0060625bc4c9",
   "metadata": {},
   "outputs": [],
   "source": [
    "#Create a program that determines whether a given number is positive, negative, or zero using elif\n",
    "#statements."
   ]
  },
  {
   "cell_type": "code",
   "execution_count": 59,
   "id": "ecbb2a7a-30d8-49b8-95dd-4654bcb18399",
   "metadata": {},
   "outputs": [
    {
     "name": "stdin",
     "output_type": "stream",
     "text": [
      "Enter the number 9\n"
     ]
    },
    {
     "name": "stdout",
     "output_type": "stream",
     "text": [
      "Number is positive\n"
     ]
    }
   ],
   "source": [
    "number=int(input(\"Enter the number\"))\n",
    "if number==0:\n",
    "    print(\"Number is zero\")\n",
    "elif number>0:\n",
    "    print(\"Number is positive\")\n",
    "else:\n",
    "    print(\"Number is negative\")"
   ]
  },
  {
   "cell_type": "code",
   "execution_count": null,
   "id": "8838464a-3142-489f-ae13-707727b957fa",
   "metadata": {},
   "outputs": [],
   "source": [
    "#25. Write a Python script to determine the type of a character (uppercase, lowercase, or special) using elif\n",
    "#statements."
   ]
  },
  {
   "cell_type": "code",
   "execution_count": 60,
   "id": "6ffac572-9df7-46a3-bbf1-a01722362415",
   "metadata": {},
   "outputs": [
    {
     "name": "stdin",
     "output_type": "stream",
     "text": [
      "Enter the character A\n"
     ]
    },
    {
     "name": "stdout",
     "output_type": "stream",
     "text": [
      "Uppercase\n"
     ]
    }
   ],
   "source": [
    "character=input(\"Enter the character\")\n",
    "if character.isupper():\n",
    "    print(\"Uppercase\")\n",
    "elif character.islower():\n",
    "    print(\"lowercase\")\n",
    "else:\n",
    "    print(\"Other special characters\")"
   ]
  },
  {
   "cell_type": "code",
   "execution_count": null,
   "id": "beee3c94-c52e-4337-afe4-4e52ab57f7ac",
   "metadata": {},
   "outputs": [],
   "source": [
    "#26. Implement a program to calculate the discounted price based on different purchase amounts using elif\n",
    "#statements."
   ]
  },
  {
   "cell_type": "code",
   "execution_count": 62,
   "id": "aaa3b4a8-8ccf-4f6c-a156-9f17b351eab3",
   "metadata": {},
   "outputs": [
    {
     "name": "stdin",
     "output_type": "stream",
     "text": [
      "Enter the price value according to your budget 200\n"
     ]
    },
    {
     "name": "stdout",
     "output_type": "stream",
     "text": [
      "discounted price is 100.0\n",
      "discounted price is 100.0\n"
     ]
    }
   ],
   "source": [
    "shirt_price=int(input(\"Enter the price value according to your budget\"))\n",
    "if shirt_price<400:\n",
    "    discount_price=shirt_price-shirt_price*0.5\n",
    "    print(\"discounted price is\",discount_price)\n",
    "elif 500>shirt_price<=800:\n",
    "    discount_price=shirt_price-shirt_price*0.5\n",
    "    print(\"discounted price is\",discount_price)\n",
    "elif 800>shirt_price<=1000:\n",
    "    discount_price=shirt_price-shirt_price*2.0\n",
    "print(\"discounted price is\",discount_price)"
   ]
  },
  {
   "cell_type": "code",
   "execution_count": null,
   "id": "8a9d2c22-b651-4c43-81d0-436e6de1cde1",
   "metadata": {},
   "outputs": [],
   "source": [
    "#27. Develop a program to calculate the electricity bill based on different consumption slabs using elif\n",
    "#statements."
   ]
  },
  {
   "cell_type": "code",
   "execution_count": 64,
   "id": "803436d4-b75a-4be4-b414-20d0a8ca3e82",
   "metadata": {},
   "outputs": [
    {
     "name": "stdin",
     "output_type": "stream",
     "text": [
      "Enter the unit consumed in KwH 600\n"
     ]
    },
    {
     "name": "stdout",
     "output_type": "stream",
     "text": [
      "300.0\n",
      "300.0\n"
     ]
    }
   ],
   "source": [
    "unitconsumptionKwh=int(input(\"Enter the unit consumed in KwH\"))\n",
    "if 500<=unitconsumptionKwh<=1000:\n",
    "    totalprice=unitconsumptionKwh-unitconsumptionKwh*0.5\n",
    "    print(totalprice)\n",
    "elif 1000>unitconsumptionKwh<=1500:\n",
    "        totalprice=unitconsumptionKwh-unitconsumptionKwh*2.5\n",
    "print(totalprice)        \n",
    "\n",
    "   "
   ]
  },
  {
   "cell_type": "code",
   "execution_count": null,
   "id": "00f62cde-d1d5-44eb-a27b-2cad20d53c70",
   "metadata": {},
   "outputs": [],
   "source": [
    "#Write a Python script to determine the season based on a user-provided month using elif statements."
   ]
  },
  {
   "cell_type": "code",
   "execution_count": 65,
   "id": "070ba511-0eb4-4389-ac4b-aac90d4dfc39",
   "metadata": {},
   "outputs": [
    {
     "name": "stdin",
     "output_type": "stream",
     "text": [
      "Enter the month May\n"
     ]
    },
    {
     "name": "stdout",
     "output_type": "stream",
     "text": [
      "Summer Season\n"
     ]
    }
   ],
   "source": [
    "month=input(\"Enter the month\")\n",
    "if month=='January' or month=='February' or month=='November' or month=='December' or month=='March':\n",
    "    print(\"Winter season\")\n",
    "elif month=='April' or month=='May' or month=='June':\n",
    "    print(\"Summer Season\")\n",
    "elif month=='July' or month=='August':\n",
    "    print(\"Rainy season\")\n",
    "else:\n",
    "    print(\"Autumn season\")"
   ]
  },
  {
   "cell_type": "code",
   "execution_count": null,
   "id": "5651b75f-a57a-473d-ac05-71c5147ae2b5",
   "metadata": {},
   "outputs": [],
   "source": [
    "#30. Implement a program to determine the type of a year (leap or common) and month (30 or 31 days) using\n",
    "#elif statements."
   ]
  },
  {
   "cell_type": "code",
   "execution_count": 66,
   "id": "0b5d4a78-9229-491b-b921-270e91e8a450",
   "metadata": {},
   "outputs": [
    {
     "name": "stdin",
     "output_type": "stream",
     "text": [
      "Enter the year 1993\n",
      "Enter the month feb\n",
      "Enter the no of days in month 29\n"
     ]
    },
    {
     "name": "stdout",
     "output_type": "stream",
     "text": [
      "1993 year is a common year\n"
     ]
    }
   ],
   "source": [
    "year=int(input(\"Enter the year\"))\n",
    "month=input(\"Enter the month\")\n",
    "daysinmonth=int(input(\"Enter the no of days in month\"))\n",
    "if year%400==0 and year%100==0 and month=='February' and daysinmonth==29:\n",
    "    print(year,\"year is leap year\")\n",
    "elif year%4==0 and year%100!=0 and month=='February' and daysinmonth==29:\n",
    "    print(year,\"year is leap year\")\n",
    "else:\n",
    "    print(year,\"year is a common year\")"
   ]
  },
  {
   "cell_type": "code",
   "execution_count": null,
   "id": "41d4efec-3963-41ca-8407-6e3be45c08ef",
   "metadata": {},
   "outputs": [],
   "source": [
    "#Basic level"
   ]
  },
  {
   "cell_type": "code",
   "execution_count": null,
   "id": "65e8d2d3-b983-452c-a5c2-53f82ca84a06",
   "metadata": {},
   "outputs": [],
   "source": [
    "#Write a Python program that checks if a given number is positive, negative, or zero."
   ]
  },
  {
   "cell_type": "code",
   "execution_count": 67,
   "id": "16ed647d-910f-4b78-9bb7-bb7d509eed08",
   "metadata": {},
   "outputs": [
    {
     "name": "stdin",
     "output_type": "stream",
     "text": [
      "Enter the number 0\n"
     ]
    },
    {
     "name": "stdout",
     "output_type": "stream",
     "text": [
      "Number is zero\n"
     ]
    }
   ],
   "source": [
    "number=int(input(\"Enter the number\"))\n",
    "if number<0:\n",
    "    print(\"Number is negative\")\n",
    "elif number==0:\n",
    "    print(\"Number is zero\")\n",
    "else:\n",
    "    print(\"Number is positive\")"
   ]
  },
  {
   "cell_type": "code",
   "execution_count": null,
   "id": "ffe8100f-c8e3-4932-a983-63a876841592",
   "metadata": {},
   "outputs": [],
   "source": [
    "#Create a program to determine if a person is eligible to vote based on their age."
   ]
  },
  {
   "cell_type": "code",
   "execution_count": 68,
   "id": "1516b52d-c4c2-44b0-9cde-6ca96f24c406",
   "metadata": {},
   "outputs": [
    {
     "name": "stdin",
     "output_type": "stream",
     "text": [
      "Enter your age 12\n"
     ]
    },
    {
     "name": "stdout",
     "output_type": "stream",
     "text": [
      "You are not eligible to vote\n"
     ]
    }
   ],
   "source": [
    "age =int(input(\"Enter your age\"))\n",
    "if age>=18:\n",
    "    print(\"You are eligible to vote\")\n",
    "else:\n",
    "    print(\"You are not eligible to vote\")"
   ]
  },
  {
   "cell_type": "code",
   "execution_count": null,
   "id": "f61e9977-24f0-4117-a1a9-9162c4a2e4d8",
   "metadata": {},
   "outputs": [],
   "source": [
    "#Write a program to find the maximum of two given numbers using conditional statements."
   ]
  },
  {
   "cell_type": "code",
   "execution_count": 69,
   "id": "793f59b4-8c17-4f5b-85bb-1bb4329059d9",
   "metadata": {},
   "outputs": [
    {
     "name": "stdin",
     "output_type": "stream",
     "text": [
      "Enter the first number 5\n",
      "Enter the second number 4\n"
     ]
    },
    {
     "name": "stdout",
     "output_type": "stream",
     "text": [
      "number1 is greater than number2\n"
     ]
    }
   ],
   "source": [
    "number1=int(input(\"Enter the first number\"))\n",
    "number2=int(input(\"Enter the second number\"))\n",
    "if number1>number2:\n",
    "    print(\"number1 is greater than number2\")\n",
    "else:\n",
    "    print(\"number 2 is greater than number 1\")"
   ]
  },
  {
   "cell_type": "code",
   "execution_count": null,
   "id": "ead8584f-8acf-4da6-9a36-79b317fe29c2",
   "metadata": {},
   "outputs": [],
   "source": [
    "#4. Develop a program that calculates the grade of a student based on their exam score."
   ]
  },
  {
   "cell_type": "code",
   "execution_count": 70,
   "id": "c0d45dd6-40b3-48ad-9892-f303c65bba7f",
   "metadata": {},
   "outputs": [
    {
     "name": "stdin",
     "output_type": "stream",
     "text": [
      "Enter the score obtained ny student 90\n"
     ]
    },
    {
     "name": "stdout",
     "output_type": "stream",
     "text": [
      "Grade A\n"
     ]
    }
   ],
   "source": [
    "studentscore=int(input(\"Enter the score obtained ny student\"))\n",
    "if studentscore>=90:\n",
    "    print(\"Grade A\")\n",
    "elif studentscore>=70 and studentscore<90:\n",
    "    print(\"grade B\")\n",
    "elif studentscore>=50 and  studentscore<70:\n",
    "    print(\"grade C\")\n",
    "elif studentscore>=35 and studentscore<50:\n",
    "    print(\"Grade D\")\n",
    "else:\n",
    "    print(\"Sorry Better luck next time!!\")"
   ]
  },
  {
   "cell_type": "code",
   "execution_count": null,
   "id": "4e8ea2dc-0325-498d-b7dd-052286a17ce2",
   "metadata": {},
   "outputs": [],
   "source": [
    "#Create a program that checks if a year is a leap year or not."
   ]
  },
  {
   "cell_type": "code",
   "execution_count": 71,
   "id": "53dd8518-1f95-47e8-a54c-149ac19ea794",
   "metadata": {},
   "outputs": [
    {
     "name": "stdin",
     "output_type": "stream",
     "text": [
      "Enter the year 2000\n"
     ]
    },
    {
     "name": "stdout",
     "output_type": "stream",
     "text": [
      "2000 year is leap year\n"
     ]
    }
   ],
   "source": [
    "year=int(input(\"Enter the year\"))\n",
    "if year%400==0 and year%100==0:\n",
    "    print(year,\"year is leap year\")\n",
    "elif year%4==0 and year%100!=0:\n",
    "    print(year,\"year is leap year\")\n",
    "else:\n",
    "    print(year,\"year is not a leap year\")"
   ]
  },
  {
   "cell_type": "code",
   "execution_count": null,
   "id": "98e03f9e-8039-4013-b354-518e2d3ccd0d",
   "metadata": {},
   "outputs": [],
   "source": [
    "#Write a program to classify a triangle based on its sides' lengths."
   ]
  },
  {
   "cell_type": "code",
   "execution_count": 72,
   "id": "a5d5f16c-d26e-4943-b8f8-dc3cdb4258cc",
   "metadata": {},
   "outputs": [
    {
     "name": "stdin",
     "output_type": "stream",
     "text": [
      "Enter the first side of the triangle 3\n",
      "Enter the second side of the triangle 3\n",
      "Enter the third side of the triangle 4\n"
     ]
    },
    {
     "name": "stdout",
     "output_type": "stream",
     "text": [
      "Triangle is isoceles triangle\n"
     ]
    }
   ],
   "source": [
    "side1=int(input(\"Enter the first side of the triangle\"))\n",
    "side2=int(input(\"Enter the second side of the triangle\"))\n",
    "side3=int(input(\"Enter the third side of the triangle\"))\n",
    "if side1==side2==side3:\n",
    "    print(\"Triangle is equilateral triangle\")\n",
    "elif side1==side2!=side3   or side1==side3!=side2:\n",
    "    print(\"Triangle is isoceles triangle\")\n",
    "else:\n",
    "    print(\"Triangle is scalene\")"
   ]
  },
  {
   "cell_type": "code",
   "execution_count": null,
   "id": "070c3a81-11a2-4e94-8b72-b2e171b3b53e",
   "metadata": {},
   "outputs": [],
   "source": [
    "#Build a program that determines the largest of three given numbers."
   ]
  },
  {
   "cell_type": "code",
   "execution_count": 73,
   "id": "390faf2e-94b7-4516-ba02-7ddb9f21c2fc",
   "metadata": {},
   "outputs": [
    {
     "name": "stdin",
     "output_type": "stream",
     "text": [
      "Enter the first number 20\n",
      "Enter the first number 13\n",
      "Enter the first number 30\n"
     ]
    },
    {
     "name": "stdout",
     "output_type": "stream",
     "text": [
      "30.0 is the largest number\n"
     ]
    }
   ],
   "source": [
    "number1 =float(input(\"Enter the first number\"))\n",
    "number2=float(input(\"Enter the first number\"))\n",
    "number3=float(input(\"Enter the first number\"))\n",
    "if number1>=number2 and number1>=number3:\n",
    "    print(number1,\"is the largest number\")\n",
    "elif number2>=number3 and number2>=number1:\n",
    "    print(number2,\"is the largest number\")\n",
    "else:\n",
    "    print(number3,\"is the largest number\")"
   ]
  },
  {
   "cell_type": "code",
   "execution_count": null,
   "id": "ec8b2042-0d2c-4f6f-9db3-b4435c80e6c1",
   "metadata": {},
   "outputs": [],
   "source": [
    "#Develop a program that checks whether a character is a vowel or a consonant."
   ]
  },
  {
   "cell_type": "code",
   "execution_count": 74,
   "id": "478a41ed-50eb-43fd-822d-1e961b7a9758",
   "metadata": {},
   "outputs": [
    {
     "name": "stdin",
     "output_type": "stream",
     "text": [
      "Enter the alphabets e\n"
     ]
    },
    {
     "name": "stdout",
     "output_type": "stream",
     "text": [
      "letter is vowel\n"
     ]
    }
   ],
   "source": [
    "letter=input(\"Enter the alphabets\")\n",
    "if letter=='a' or letter=='e' or letter=='i' or letter =='o' or letter=='u':\n",
    "    print(\"letter is vowel\")\n",
    "else:\n",
    "    print(\"letter is consosnant\")"
   ]
  },
  {
   "cell_type": "code",
   "execution_count": null,
   "id": "14a814a5-aa51-4f08-82d3-4f16fc9a54f2",
   "metadata": {},
   "outputs": [],
   "source": [
    "#Create a program to calculate the total cost of a shopping cart based on discounts."
   ]
  },
  {
   "cell_type": "code",
   "execution_count": 75,
   "id": "222e9cee-07b6-4200-9a0b-ca483f0934a2",
   "metadata": {},
   "outputs": [
    {
     "name": "stdin",
     "output_type": "stream",
     "text": [
      "How much is the item:  4\n",
      "Next item:  10\n",
      "Next item:  11\n",
      "Next item:  12\n",
      "Next item:  13\n",
      "Next item:  14\n",
      "Next item:  15\n",
      "Next item:  16\n",
      "Next item:  17\n",
      "Next item:  18\n"
     ]
    },
    {
     "name": "stdout",
     "output_type": "stream",
     "text": [
      "Total price is 130\n"
     ]
    }
   ],
   "source": [
    "enter = int(input(\"How much is the item: \"))\n",
    "enter2 = int(input(\"Next item: \"))\n",
    "enter3 = int(input(\"Next item: \"))\n",
    "enter4 = int(input(\"Next item: \"))\n",
    "enter5 = int(input(\"Next item: \"))\n",
    "enter6 = int(input(\"Next item: \"))\n",
    "enter7 = int(input(\"Next item: \"))\n",
    "enter8 = int(input(\"Next item: \"))\n",
    "enter9 = int(input(\"Next item: \"))\n",
    "enter10 = int(input(\"Next item: \"))\n",
    "total = enter  + enter2 + enter3 + enter4 + enter5 + enter6 + enter7 + enter8 + enter9 + enter10\n",
    "print(\"Total price is\", total)\n",
    "\n",
    "if input == -1 :\n",
    "    print(\"Total price is\", total)\n"
   ]
  },
  {
   "cell_type": "code",
   "execution_count": null,
   "id": "ae2537eb-d27a-44a0-9697-1146c55e0303",
   "metadata": {},
   "outputs": [],
   "source": [
    "#Write a program that checks if a given number is even or odd."
   ]
  },
  {
   "cell_type": "code",
   "execution_count": 76,
   "id": "fcf5afde-e288-4570-a40a-7087de465c7a",
   "metadata": {},
   "outputs": [
    {
     "name": "stdin",
     "output_type": "stream",
     "text": [
      "Enter the number 20\n"
     ]
    },
    {
     "name": "stdout",
     "output_type": "stream",
     "text": [
      "number is even\n"
     ]
    }
   ],
   "source": [
    "number=int(input(\"Enter the number\"))\n",
    "if number%2==0:\n",
    "    print(\"number is even\")\n",
    "else:\n",
    "    print(\"number is odd\")"
   ]
  },
  {
   "cell_type": "code",
   "execution_count": null,
   "id": "ff6ca9a3-676b-4ceb-b0ce-178920372c0b",
   "metadata": {},
   "outputs": [],
   "source": [
    "#Intermediate level"
   ]
  },
  {
   "cell_type": "code",
   "execution_count": null,
   "id": "033c5ecc-2ee9-4acd-99c8-24600347253c",
   "metadata": {},
   "outputs": [],
   "source": [
    "#Write a program that calculates the roots of a quadratic equation"
   ]
  },
  {
   "cell_type": "code",
   "execution_count": 77,
   "id": "00502ea3-f446-4307-955f-8f890d6be0d9",
   "metadata": {},
   "outputs": [
    {
     "name": "stdin",
     "output_type": "stream",
     "text": [
      "Enter the value of a 3\n",
      "Enter the value of b 2\n",
      "Enter the value of c 4\n"
     ]
    },
    {
     "name": "stdout",
     "output_type": "stream",
     "text": [
      "The solution are (-0.33333333333333326+1.1055415967851332j) and (-0.33333333333333326+1.1055415967851332j)\n"
     ]
    }
   ],
   "source": [
    "a=int(input(\"Enter the value of a\"))\n",
    "b=int(input(\"Enter the value of b\"))\n",
    "c=int(input(\"Enter the value of c\"))\n",
    "\n",
    "discriminant=(b**2)-(4*a*c)\n",
    "discriminant_sqrt = discriminant ** 0.5\n",
    "sol1 = (-b+discriminant_sqrt)/(2*a)\n",
    "sol2 = (-b+discriminant_sqrt)/(2*a)\n",
    "\n",
    "print('The solution are {0} and {1}'.format(sol1,sol2))"
   ]
  },
  {
   "cell_type": "code",
   "execution_count": null,
   "id": "0584495f-d2c2-4f05-b27d-b6e64a5f7243",
   "metadata": {},
   "outputs": [],
   "source": [
    "#Create a program that determines the day of the week based on the day number (1-7)."
   ]
  },
  {
   "cell_type": "code",
   "execution_count": 78,
   "id": "26dd9383-9f61-4231-a509-bacc63221658",
   "metadata": {},
   "outputs": [
    {
     "name": "stdin",
     "output_type": "stream",
     "text": [
      "Enter the number 7\n"
     ]
    },
    {
     "name": "stdout",
     "output_type": "stream",
     "text": [
      "Sunday\n"
     ]
    }
   ],
   "source": [
    "day=int(input(\"Enter the number\"))\n",
    "if day==1:\n",
    "    print(\"Monday\")\n",
    "elif day==2:\n",
    "    print(\"Tuesday\")\n",
    "elif day==3:\n",
    "    print(\"Wednesday\")\n",
    "elif day==4:\n",
    "    print(\"Thursday\")\n",
    "elif day==5:\n",
    "    print(\"Friday\")\n",
    "elif day==6:\n",
    "    print(\"Saturday\")\n",
    "elif day==7:\n",
    "    print(\"Sunday\")\n",
    "else:\n",
    "    print(\"Invalid Input\")"
   ]
  },
  {
   "cell_type": "code",
   "execution_count": null,
   "id": "83666ac3-6693-4ec0-b65c-aa51e4c96bd4",
   "metadata": {},
   "outputs": [],
   "source": [
    "#13. Develop a program that calculates the factorial of a given number using recursion."
   ]
  },
  {
   "cell_type": "code",
   "execution_count": 79,
   "id": "304d9879-cfd8-48c6-a899-1cd976738792",
   "metadata": {},
   "outputs": [],
   "source": [
    "def factorial(n):\n",
    "    if n==0 or n==1:\n",
    "        return 1\n",
    "    else:\n",
    "        return n*factorial(n-1)\n",
    "        "
   ]
  },
  {
   "cell_type": "code",
   "execution_count": 80,
   "id": "fbe97e67-aac8-4fb9-9646-9360d3ebcb51",
   "metadata": {},
   "outputs": [],
   "source": [
    "x=factorial(4)"
   ]
  },
  {
   "cell_type": "code",
   "execution_count": 81,
   "id": "cac6988c-f225-4b53-b9a5-802efc514a26",
   "metadata": {},
   "outputs": [
    {
     "data": {
      "text/plain": [
       "24"
      ]
     },
     "execution_count": 81,
     "metadata": {},
     "output_type": "execute_result"
    }
   ],
   "source": [
    "x"
   ]
  },
  {
   "cell_type": "code",
   "execution_count": null,
   "id": "ece582d8-32b9-4f8d-b04f-d8a33ee19794",
   "metadata": {},
   "outputs": [],
   "source": [
    "#14. Write a program to find the largest among three numbers without using the `max()` function."
   ]
  },
  {
   "cell_type": "code",
   "execution_count": 82,
   "id": "b9b16123-8882-46a1-87a9-b91c2d2d8488",
   "metadata": {},
   "outputs": [
    {
     "name": "stdin",
     "output_type": "stream",
     "text": [
      "Enter the first number 12\n",
      "Enter the first number 10\n",
      "Enter the first number 16\n"
     ]
    },
    {
     "name": "stdout",
     "output_type": "stream",
     "text": [
      "16.0 is the largest number\n"
     ]
    }
   ],
   "source": [
    "number1 =float(input(\"Enter the first number\"))\n",
    "number2=float(input(\"Enter the first number\"))\n",
    "number3=float(input(\"Enter the first number\"))\n",
    "if number1>=number2 and number1>=number3:\n",
    "    print(number1,\"is the largest number\")\n",
    "elif number2>=number3 and number2>=number1:\n",
    "    print(number2,\"is the largest number\")\n",
    "else:\n",
    "    print(number3,\"is the largest number\")"
   ]
  },
  {
   "cell_type": "code",
   "execution_count": null,
   "id": "2512c824-b059-439d-bff5-a1d44570f46a",
   "metadata": {},
   "outputs": [],
   "source": [
    "#Create a program that simulates a basic ATM transaction menu."
   ]
  },
  {
   "cell_type": "code",
   "execution_count": 90,
   "id": "dede3bab-e790-4ed2-a76f-9cb02b17681d",
   "metadata": {},
   "outputs": [
    {
     "name": "stdin",
     "output_type": "stream",
     "text": [
      "Enter your choice 2\n"
     ]
    },
    {
     "name": "stdout",
     "output_type": "stream",
     "text": [
      "Welcome to ATM\n",
      "1. Check Balance\n",
      "2. Withdraw Money\n",
      "3. Deposit Money\n",
      "4. Exit\n"
     ]
    },
    {
     "name": "stdin",
     "output_type": "stream",
     "text": [
      "Enter the amount to be withdrawn 300\n"
     ]
    },
    {
     "name": "stdout",
     "output_type": "stream",
     "text": [
      "Withdrawal successful. Remaining balance: $3500.0\n"
     ]
    }
   ],
   "source": [
    "choice=int(input(\"Enter your choice\"))\n",
    "print(\"Welcome to ATM\")\n",
    "print(\"1. Check Balance\")\n",
    "print(\"2. Withdraw Money\")\n",
    "print(\"3. Deposit Money\")\n",
    "print(\"4. Exit\")\n",
    "originalbalance=4000\n",
    "if choice==1:\n",
    "    account_balance=originalbalance\n",
    "    print(\"Your account balance is\",account_balance)\n",
    "elif choice==2:\n",
    "    amount=float(input(\"Enter the amount to be withdrawn\"))\n",
    "    account_balance=account_balance-amount\n",
    "    print(f\"Withdrawal successful. Remaining balance: ${account_balance}\")\n",
    "else:\n",
    "    print(\"Invalid amount or insufficient funds\")      "
   ]
  },
  {
   "cell_type": "code",
   "execution_count": 91,
   "id": "8da79e42-5cd6-4bd8-966a-f477f90ccc30",
   "metadata": {},
   "outputs": [],
   "source": [
    "#Build a program that checks if a given string is a palindrome or not."
   ]
  },
  {
   "cell_type": "code",
   "execution_count": 92,
   "id": "cee79125-b029-4dc3-969c-a88f4bfb6f34",
   "metadata": {},
   "outputs": [
    {
     "name": "stdin",
     "output_type": "stream",
     "text": [
      "Enter the string malayalam\n"
     ]
    },
    {
     "name": "stdout",
     "output_type": "stream",
     "text": [
      "malayalam is the palindromic string\n"
     ]
    }
   ],
   "source": [
    "s=input(\"Enter the string\")\n",
    "if s==s[: : -1]:\n",
    "    print(s,\"is the palindromic string\")\n",
    "else:\n",
    "    print(s,\"is not the palindromic string\")"
   ]
  },
  {
   "cell_type": "code",
   "execution_count": 93,
   "id": "95e71e9f-53bd-4bbf-9ba3-27eb28b1fab8",
   "metadata": {},
   "outputs": [],
   "source": [
    "#Write a program that calculates the average of a list of numbers, excluding the smallest and largest values."
   ]
  },
  {
   "cell_type": "code",
   "execution_count": 95,
   "id": "08688eae-1f6a-4979-8438-1c2bfac06158",
   "metadata": {},
   "outputs": [
    {
     "name": "stdout",
     "output_type": "stream",
     "text": [
      "Average (excluding extremes): 6.0\n"
     ]
    }
   ],
   "source": [
    "def calculate_average_excluding_extremes(numbers):\n",
    "    if len(numbers) < 3:\n",
    "        return \"List must have at least three numbers.\"\n",
    "\n",
    "    # Exclude the smallest and largest values\n",
    "    sorted_numbers = sorted(numbers)\n",
    "    trimmed_numbers = sorted_numbers[1:-1]\n",
    "\n",
    "    # Calculate the average\n",
    "    average = sum(trimmed_numbers) / len(trimmed_numbers)\n",
    "    return average\n",
    "\n",
    "# Example usage:\n",
    "number_list = [4, 8, 2, 6, 10]\n",
    "result = calculate_average_excluding_extremes(number_list)\n",
    "print(\"Average (excluding extremes):\", result)\n"
   ]
  },
  {
   "cell_type": "code",
   "execution_count": 103,
   "id": "f871804a-f6bb-41b6-b2ea-4b7026100f60",
   "metadata": {},
   "outputs": [],
   "source": [
    "#18. Develop a program that converts a given temperature from Celsius to Fahrenheit."
   ]
  },
  {
   "cell_type": "code",
   "execution_count": 104,
   "id": "a05d9018-9ec9-4964-a711-e0ab98bc202c",
   "metadata": {},
   "outputs": [
    {
     "name": "stdin",
     "output_type": "stream",
     "text": [
      "Enter the temperature in celsius 45\n"
     ]
    },
    {
     "name": "stdout",
     "output_type": "stream",
     "text": [
      "The temperature in farenheit is  113.0\n"
     ]
    }
   ],
   "source": [
    "celsius=float(input(\"Enter the temperature in celsius\"))\n",
    "farenheittemp=(celsius*1.8)+32\n",
    "print(\"The temperature in farenheit is \",farenheittemp)"
   ]
  },
  {
   "cell_type": "code",
   "execution_count": 105,
   "id": "4f8319b9-a13f-4bac-85a8-69a6fdb6ebd8",
   "metadata": {},
   "outputs": [],
   "source": [
    "#Create a program that simulates a basic calculator for addition, subtraction, multiplication, and division."
   ]
  },
  {
   "cell_type": "code",
   "execution_count": null,
   "id": "64cc62a7-9650-44ef-bcd8-ed277ff7a4ba",
   "metadata": {},
   "outputs": [],
   "source": [
    "operator=input(\"Enter the operator\")\n",
    "a=10\n",
    "b=5\n",
    "if operator=='+':\n",
    "    print(\"Addition of two numbers is\",a+b)\n",
    "elif operator=='-':\n",
    "    print(\"Subtraction of two numbers is\",a-b)\n",
    "elif operator=='*':\n",
    "    print(\"Multiplication of two numbers\",a*b)\n",
    "elif opeartor=='/':\n",
    "    print(\"Division of two numbers\",a/b)\n",
    "else:\n",
    "    print(\"Invalid operator entered\")"
   ]
  },
  {
   "cell_type": "code",
   "execution_count": 109,
   "id": "5de4a8e2-3ff0-4ed1-8489-a65f2d797a5a",
   "metadata": {},
   "outputs": [],
   "source": [
    "#Create a program that calculates the income tax based on the user's income and tax brackets."
   ]
  },
  {
   "cell_type": "code",
   "execution_count": 126,
   "id": "51b46951-4364-4e3c-9a46-e4f920981930",
   "metadata": {},
   "outputs": [
    {
     "name": "stdin",
     "output_type": "stream",
     "text": [
      "Enter the income  50000\n"
     ]
    }
   ],
   "source": [
    "usersincome=float(input(\"Enter the income \"))\n",
    "if usersincome>100000:\n",
    "    netuserincome=usersincome-usersincome*0.5\n",
    "    \n",
    "elif 50000<=usersincome<100000:\n",
    "     netuserincome=usersincome-usersincome*0.2\n",
    "        \n",
    "else:\n",
    "    netuserincome=usersincome-usersincome*0.1\n",
    "    "
   ]
  },
  {
   "cell_type": "code",
   "execution_count": 127,
   "id": "1ea90696-c78b-4839-b1da-04813de85419",
   "metadata": {},
   "outputs": [
    {
     "data": {
      "text/plain": [
       "40000.0"
      ]
     },
     "execution_count": 127,
     "metadata": {},
     "output_type": "execute_result"
    }
   ],
   "source": [
    "netuserincome"
   ]
  },
  {
   "cell_type": "code",
   "execution_count": 128,
   "id": "0f971c51-8d5a-4dae-9d92-32cf57ec02cf",
   "metadata": {},
   "outputs": [],
   "source": [
    "#Write a program that simulates a rock-paper-scissors game against the computer."
   ]
  },
  {
   "cell_type": "code",
   "execution_count": 129,
   "id": "180192b5-2c06-491c-986a-07b3be20ef59",
   "metadata": {},
   "outputs": [
    {
     "name": "stdout",
     "output_type": "stream",
     "text": [
      "Enter your choice: rock, paper, or scissors\n"
     ]
    },
    {
     "name": "stdin",
     "output_type": "stream",
     "text": [
      " rock\n"
     ]
    },
    {
     "name": "stdout",
     "output_type": "stream",
     "text": [
      "You chose rock.\n",
      "Computer chose rock.\n",
      "It's a tie!\n",
      "Do you want to play again? (yes/no)\n"
     ]
    },
    {
     "name": "stdin",
     "output_type": "stream",
     "text": [
      " yes\n"
     ]
    },
    {
     "name": "stdout",
     "output_type": "stream",
     "text": [
      "Enter your choice: rock, paper, or scissors\n"
     ]
    },
    {
     "name": "stdin",
     "output_type": "stream",
     "text": [
      " paper\n"
     ]
    },
    {
     "name": "stdout",
     "output_type": "stream",
     "text": [
      "You chose paper.\n",
      "Computer chose paper.\n",
      "It's a tie!\n",
      "Do you want to play again? (yes/no)\n"
     ]
    },
    {
     "name": "stdin",
     "output_type": "stream",
     "text": [
      " no\n"
     ]
    },
    {
     "name": "stdout",
     "output_type": "stream",
     "text": [
      "Thanks for playing!\n"
     ]
    }
   ],
   "source": [
    "def get_user_choice():\n",
    "    print(\"Enter your choice: rock, paper, or scissors\")\n",
    "    user_choice = input().lower()\n",
    "    while user_choice not in ['rock', 'paper', 'scissors']:\n",
    "        print(\"Invalid choice. Please enter rock, paper, or scissors.\")\n",
    "        user_choice = input().lower()\n",
    "    return user_choice\n",
    "\n",
    "def get_computer_choice(previous_user_choice):\n",
    "    choices = ['rock', 'paper', 'scissors']\n",
    "\n",
    "    # Simple deterministic strategy: Computer chooses the option that beats the user's previous choice\n",
    "    if previous_user_choice == 'rock':\n",
    "        return 'paper'\n",
    "    elif previous_user_choice == 'paper':\n",
    "        return 'scissors'\n",
    "    else:\n",
    "        return 'rock'\n",
    "\n",
    "def determine_winner(user_choice, computer_choice):\n",
    "    if user_choice == computer_choice:\n",
    "        return \"It's a tie!\"\n",
    "    elif (\n",
    "        (user_choice == 'rock' and computer_choice == 'scissors') or\n",
    "        (user_choice == 'paper' and computer_choice == 'rock') or\n",
    "        (user_choice == 'scissors' and computer_choice == 'paper')\n",
    "    ):\n",
    "        return \"You win!\"\n",
    "    else:\n",
    "        return \"Computer wins!\"\n",
    "\n",
    "# Main game loop\n",
    "previous_user_choice = None\n",
    "\n",
    "while True:\n",
    "    user_choice = get_user_choice()\n",
    "    computer_choice = get_computer_choice(previous_user_choice)\n",
    "\n",
    "    print(f\"You chose {user_choice}.\")\n",
    "    print(f\"Computer chose {computer_choice}.\")\n",
    "\n",
    "    result = determine_winner(user_choice, computer_choice)\n",
    "    print(result)\n",
    "\n",
    "    previous_user_choice = user_choice\n",
    "\n",
    "    print(\"Do you want to play again? (yes/no)\")\n",
    "    play_again = input().lower()\n",
    "    if play_again != 'yes':\n",
    "        break\n",
    "\n",
    "print(\"Thanks for playing!\")\n"
   ]
  },
  {
   "cell_type": "code",
   "execution_count": 130,
   "id": "afa77495-c6d0-4802-acf1-a2eec3fa1d71",
   "metadata": {},
   "outputs": [],
   "source": [
    "#23. Develop a program that generates a random password based on user preferences (length, complexity)."
   ]
  },
  {
   "cell_type": "code",
   "execution_count": 139,
   "id": "463a0f1f-caa7-4b48-b268-c39a87a956cd",
   "metadata": {},
   "outputs": [
    {
     "name": "stdin",
     "output_type": "stream",
     "text": [
      "Enter the length of the password 5\n"
     ]
    },
    {
     "name": "stdout",
     "output_type": "stream",
     "text": [
      "Choose character set for password from these : \n",
      "         1. Digits\n",
      "         2. Letters\n",
      "         3. Special characters\n",
      "         4. Exit\n"
     ]
    },
    {
     "name": "stdin",
     "output_type": "stream",
     "text": [
      "Pick a number  2\n",
      "Pick a number  1\n",
      "Pick a number  3\n",
      "Pick a number  4\n"
     ]
    }
   ],
   "source": [
    "length=int(input(\"Enter the length of the password\"))\n",
    "print('''Choose character set for password from these : \n",
    "         1. Digits\n",
    "         2. Letters\n",
    "         3. Special characters\n",
    "         4. Exit''')\n",
    "characterList=\"abcdfh1436@1!hfdefb\"\n",
    "while(True):\n",
    "    choice = int(input(\"Pick a number \"))\n",
    "    if(choice == 1):\n",
    "         \n",
    "        # Adding letters to possible characters\n",
    "        characterList += string.ascii_letters\n",
    "    elif(choice == 2):\n",
    "         \n",
    "        # Adding digits to possible characters\n",
    "        characterList += string.digits\n",
    "    elif(choice == 3):\n",
    "         \n",
    "        # Adding special characters to possible\n",
    "        # characters\n",
    "        characterList += string.punctuation\n",
    "    elif(choice == 4):\n",
    "        break\n",
    "    else:\n",
    "        print(\"Please pick a valid option!\")"
   ]
  },
  {
   "cell_type": "code",
   "execution_count": 140,
   "id": "4989f1a4-5963-4e03-a603-6cc0bc9c198e",
   "metadata": {},
   "outputs": [
    {
     "data": {
      "text/plain": [
       "'abcdfh1436@1!hfdefb0123456789abcdefghijklmnopqrstuvwxyzABCDEFGHIJKLMNOPQRSTUVWXYZ!\"#$%&\\'()*+,-./:;<=>?@[\\\\]^_`{|}~'"
      ]
     },
     "execution_count": 140,
     "metadata": {},
     "output_type": "execute_result"
    }
   ],
   "source": [
    "characterList"
   ]
  },
  {
   "cell_type": "code",
   "execution_count": 141,
   "id": "ba0ef28d-a04c-49e8-8346-ed971bca8cf9",
   "metadata": {},
   "outputs": [],
   "source": [
    "#Create a program that implements a simple text-based adventure game with branching scenarios."
   ]
  },
  {
   "cell_type": "code",
   "execution_count": null,
   "id": "b1f28227-4130-4960-913d-5a74e044ff9d",
   "metadata": {},
   "outputs": [],
   "source": []
  },
  {
   "cell_type": "code",
   "execution_count": 142,
   "id": "9261f9bc-15ef-447d-ba39-0773f8c81403",
   "metadata": {},
   "outputs": [],
   "source": [
    "#25. Build a program that solves a linear equation for x, considering different cases."
   ]
  },
  {
   "cell_type": "code",
   "execution_count": 145,
   "id": "3a4dce49-fb72-4100-8b9f-4c7ed708ce71",
   "metadata": {},
   "outputs": [
    {
     "name": "stdin",
     "output_type": "stream",
     "text": [
      "Enter the value of a 2\n",
      "Enter the value of b 6\n"
     ]
    },
    {
     "name": "stdout",
     "output_type": "stream",
     "text": [
      "The solution of x is  {-3.0}\n"
     ]
    }
   ],
   "source": [
    "a=int(input(\"Enter the value of a\"))\n",
    "b=int(input(\"Enter the value of b\"))\n",
    "#case 1 if a is 0 then equation is not linear\n",
    "if a==0:\n",
    "    if b==0:\n",
    "        print(\"Infinite solutions\")\n",
    "    else:\n",
    "        print(\"No solutions\")\n",
    "\n",
    "#Case 2 if a is not zero solve for x:\n",
    "x=-b/a\n",
    "print(f\"The solution of x is \",{x})  "
   ]
  },
  {
   "cell_type": "code",
   "execution_count": null,
   "id": "272958bd-dd80-4c2f-9f43-5a49aeaeff15",
   "metadata": {},
   "outputs": [],
   "source": [
    "#26. Write a program that simulates a basic quiz game with multiple-choice questions and scoring."
   ]
  },
  {
   "cell_type": "code",
   "execution_count": 147,
   "id": "6488aaab-c6a8-4326-b889-39122de097c5",
   "metadata": {},
   "outputs": [
    {
     "name": "stdout",
     "output_type": "stream",
     "text": [
      "Wellcome to quiz game !!\n",
      "NOTE: if your spelling is incorrect then it is considered as wrong answer\n"
     ]
    },
    {
     "name": "stdin",
     "output_type": "stream",
     "text": [
      "Do you want to play ?  yes\n",
      "\n",
      "1. what does CPU stand for?  centralprocessingunit\n"
     ]
    },
    {
     "name": "stdout",
     "output_type": "stream",
     "text": [
      "Incorrect!\n",
      "current answer is --> central processing unit\n"
     ]
    },
    {
     "name": "stdin",
     "output_type": "stream",
     "text": [
      "\n",
      "2. what does GPU stand for?  graphics processing unit\n"
     ]
    },
    {
     "name": "stdout",
     "output_type": "stream",
     "text": [
      "correct! you got 1 point\n"
     ]
    },
    {
     "name": "stdin",
     "output_type": "stream",
     "text": [
      "\n",
      "3. what does RAM stand for?  ggx\n"
     ]
    },
    {
     "name": "stdout",
     "output_type": "stream",
     "text": [
      "Incorrect!\n",
      "current answer is --> random access memory\n"
     ]
    },
    {
     "name": "stdin",
     "output_type": "stream",
     "text": [
      "\n",
      "4. what does PSU stand for?  jwjd\n"
     ]
    },
    {
     "name": "stdout",
     "output_type": "stream",
     "text": [
      "Incorrect!\n",
      "current answer is --> power supply unit\n"
     ]
    },
    {
     "name": "stdin",
     "output_type": "stream",
     "text": [
      "\n",
      "5. what does ROM stand for?  dnsjnc\n"
     ]
    },
    {
     "name": "stdout",
     "output_type": "stream",
     "text": [
      "Incorrect!\n",
      "current answer is --> read only memory\n",
      "\n",
      "number of question is 5\n",
      "your score is 1\n",
      "20.0% questions are correct.\n"
     ]
    }
   ],
   "source": [
    "print(\"Wellcome to quiz game !!\")\n",
    "print('NOTE: if your spelling is incorrect then it is considered as wrong answer')\n",
    "score = 0\n",
    "question_no = 0\n",
    "playing = input('Do you want to play ? ').lower()\n",
    "if playing == 'yes':\n",
    "    question_no += 1\n",
    "    ques = input(f'\\n{question_no}. what does CPU stand for? ').lower()\n",
    "    if ques == 'central processing unit':\n",
    "        score +=1\n",
    "        print('correct! you got 1 point')\n",
    "        \n",
    "    else:\n",
    "        print('Incorrect!')\n",
    "        print(f'current answer is --> central processing unit')\n",
    "\n",
    "# ------1\n",
    "    question_no += 1\n",
    "    ques = input(f'\\n{question_no}. what does GPU stand for? ').lower()\n",
    "    \n",
    "    if ques == 'graphics processing unit':\n",
    "        score +=1\n",
    "        print('correct! you got 1 point')\n",
    "        \n",
    "    else:\n",
    "        print('Incorrect!')\n",
    "        print(f'current answer is --> graphics processing unit')\n",
    "\n",
    "# -----2\n",
    "    question_no += 1\n",
    "    ques = input(f'\\n{question_no}. what does RAM stand for? ').lower()\n",
    "    \n",
    "    if ques == 'random access memory':\n",
    "        score +=1\n",
    "        print('correct! you got 1 point')\n",
    "        \n",
    "    else:\n",
    "        print('Incorrect!')\n",
    "        print(f'current answer is --> random access memory')\n",
    "\n",
    "# -----3\n",
    "    question_no += 1\n",
    "    ques = input(f'\\n{question_no}. what does PSU stand for? ').lower()\n",
    "    \n",
    "    if ques == 'power supply unit':\n",
    "        score +=1\n",
    "        print('correct! you got 1 point')\n",
    "        \n",
    "    else:\n",
    "        print('Incorrect!')\n",
    "        print(f'current answer is --> power supply unit')\n",
    "\n",
    "\n",
    "# -----4\n",
    "    question_no += 1\n",
    "    ques = input(f'\\n{question_no}. what does ROM stand for? ').lower()\n",
    "    \n",
    "    if ques == 'read only memory':\n",
    "        score +=1\n",
    "        print('correct! you got 1 point')\n",
    "        \n",
    "    else:\n",
    "        print('Incorrect!')\n",
    "        print(f'current answer is --> read only memory')\n",
    "\n",
    "\n",
    "# ------5 \n",
    "\n",
    "else:\n",
    "    print('thankyou you are out of a game.')\n",
    "    quit()\n",
    "\n",
    "print(f'\\nnumber of question is {question_no}')\n",
    "print(f'your score is {score}')\n",
    "try:\n",
    "    percentage = (score *100)/question_no\n",
    "except ZeroDivisionError:\n",
    "    print('0% quetions are correct')\n",
    "\n",
    "print(f'{percentage}% questions are correct.')"
   ]
  },
  {
   "cell_type": "code",
   "execution_count": 1,
   "id": "c6d1419f-620a-45e0-8550-6ed2c10650dc",
   "metadata": {},
   "outputs": [],
   "source": [
    "#Develop a program that determines whether a given year is a prime number or not."
   ]
  },
  {
   "cell_type": "code",
   "execution_count": 15,
   "id": "082fb12b-c572-4809-9810-e679c24f8499",
   "metadata": {},
   "outputs": [
    {
     "name": "stdin",
     "output_type": "stream",
     "text": [
      "Enter the year to be checked 2003\n"
     ]
    },
    {
     "name": "stdout",
     "output_type": "stream",
     "text": [
      "2003 is a prime number.\n"
     ]
    }
   ],
   "source": [
    "def is_Prime(year):\n",
    "    if year<2:\n",
    "        return false\n",
    "    for i in range(2,int(year**2)+1):\n",
    "        if year%i==0:\n",
    "            return false\n",
    "        return true\n",
    "year_to_check=int(input(\"Enter the year to be checked\"))\n",
    "if is_prime(year_to_check):\n",
    "    print(f\"{year_to_check} is a prime number.\")\n",
    "else:\n",
    "    print(f\"{year_to_check} is not a prime number.\")"
   ]
  },
  {
   "cell_type": "code",
   "execution_count": 16,
   "id": "65c4e4b2-6304-4b13-851c-38977925180b",
   "metadata": {},
   "outputs": [],
   "source": [
    "#28. Create a program that sorts three numbers in ascending order using conditional statements."
   ]
  },
  {
   "cell_type": "code",
   "execution_count": 20,
   "id": "55520a2b-0b51-4d07-aa00-0fa45b832014",
   "metadata": {},
   "outputs": [
    {
     "name": "stdout",
     "output_type": "stream",
     "text": [
      "Sorted numbers in ascending order are (2, 4, 8)\n"
     ]
    }
   ],
   "source": [
    "def sort(num1,num2,num3):\n",
    "    if num1<=num2 and num1<=num3:\n",
    "        smallest=num1\n",
    "        if num2<=num3:\n",
    "            middle=num2\n",
    "            largest=num3\n",
    "        else:\n",
    "            middle=num3\n",
    "            largest=num2\n",
    "    elif num2<=num1 and num2<=num3:\n",
    "            smallest=num2\n",
    "            if num1<=num3:\n",
    "                middle=num1\n",
    "                largest=num3\n",
    "            else:\n",
    "                middle=num3\n",
    "                largest=num1\n",
    "    else:\n",
    "        smallest = num3\n",
    "        if num1 <= num2:\n",
    "            middle = num1\n",
    "            largest = num2\n",
    "        else:\n",
    "            middle = num2\n",
    "            largest = num1\n",
    "    \n",
    "    return smallest, middle, largest\n",
    "                 \n",
    "sorted_numbers=sort(4,2,8)\n",
    "print(\"Sorted numbers in ascending order are\",sorted_numbers)"
   ]
  },
  {
   "cell_type": "code",
   "execution_count": 21,
   "id": "75157bcc-8c3d-44de-b196-31bda0c494b2",
   "metadata": {},
   "outputs": [],
   "source": [
    "#29. Build a program that determines the roots of a quartic equation using numerical methods."
   ]
  },
  {
   "cell_type": "code",
   "execution_count": 22,
   "id": "10918d81-05e7-432c-a0ce-cd3c8eea83fd",
   "metadata": {},
   "outputs": [
    {
     "name": "stdin",
     "output_type": "stream",
     "text": [
      "Enter the coefficient a:  4\n",
      "Enter the coefficient b:  6\n",
      "Enter the coefficient c:  5\n",
      "Enter the coefficient d:  7\n",
      "Enter the constant term e:  2\n",
      "Enter the initial guess:  4\n"
     ]
    },
    {
     "name": "stdout",
     "output_type": "stream",
     "text": [
      "Approximate root: -0.34309689011024824\n"
     ]
    }
   ],
   "source": [
    "def quartic_equation(x, a, b, c, d, e):\n",
    "    return a * x**4 + b * x**3 + c * x**2 + d * x + e\n",
    "\n",
    "def derivative_quartic_equation(x, a, b, c, d):\n",
    "    return 4 * a * x**3 + 3 * b * x**2 + 2 * c * x + d\n",
    "\n",
    "def newton_raphson_quartic(initial_guess, tolerance, max_iterations, a, b, c, d, e):\n",
    "    x = initial_guess\n",
    "\n",
    "    for _ in range(max_iterations):\n",
    "        f_x = quartic_equation(x, a, b, c, d, e)\n",
    "        f_prime_x = derivative_quartic_equation(x, a, b, c, d)\n",
    "\n",
    "        if abs(f_x) < tolerance:\n",
    "            return x  # Found a root\n",
    "\n",
    "        if f_prime_x == 0:\n",
    "            break  # Avoid division by zero\n",
    "\n",
    "        x = x - f_x / f_prime_x\n",
    "\n",
    "    return None  # No convergence within max_iterations\n",
    "\n",
    "# Example usage\n",
    "a = float(input(\"Enter the coefficient a: \"))\n",
    "b = float(input(\"Enter the coefficient b: \"))\n",
    "c = float(input(\"Enter the coefficient c: \"))\n",
    "d = float(input(\"Enter the coefficient d: \"))\n",
    "e = float(input(\"Enter the constant term e: \"))\n",
    "\n",
    "initial_guess = float(input(\"Enter the initial guess: \"))\n",
    "tolerance = 1e-6\n",
    "max_iterations = 1000\n",
    "\n",
    "root = newton_raphson_quartic(initial_guess, tolerance, max_iterations, a, b, c, d, e)\n",
    "\n",
    "if root is not None:\n",
    "    print(f\"Approximate root: {root}\")\n",
    "else:\n",
    "    print(\"No convergence within the maximum number of iterations.\")\n"
   ]
  },
  {
   "cell_type": "code",
   "execution_count": null,
   "id": "34d766d9-d410-45ac-85f6-affb1e9bd86c",
   "metadata": {},
   "outputs": [],
   "source": [
    "#Write a program that calculates the BMI (Body Mass Index) and provides health recommendations based\n",
    "#on the user's input."
   ]
  },
  {
   "cell_type": "code",
   "execution_count": 24,
   "id": "e117aacd-ba96-442e-bf4f-f433995ec817",
   "metadata": {},
   "outputs": [
    {
     "name": "stdin",
     "output_type": "stream",
     "text": [
      "Enter your height 55\n",
      "Enter your weight 60\n"
     ]
    },
    {
     "name": "stdout",
     "output_type": "stream",
     "text": [
      "BMI result is 0.019834710743801654\n",
      "You are underweight\n"
     ]
    }
   ],
   "source": [
    "height=int(input(\"Enter your height\"))\n",
    "weight=int(input(\"Enter your weight\"))\n",
    "BMI=weight/(height*height)\n",
    "print(\"BMI result is\",BMI)\n",
    "\n",
    "if BMI>0:\n",
    "    if BMI<=15:\n",
    "        print(\"You are underweight\")\n",
    "    elif BMI>15 and BMI<=18.5:\n",
    "        print(\"Youa are normal\")\n",
    "    elif BMI>18.5 and BMI <22.5:\n",
    "        print(\"You are overwight\")\n",
    "    else:\n",
    "        print(\"Youa are obses\")\n",
    "else:\n",
    "    print(\"Invalid detais\")"
   ]
  },
  {
   "cell_type": "code",
   "execution_count": 25,
   "id": "febab529-de55-4214-a9c9-4bbb3b554b6b",
   "metadata": {},
   "outputs": [],
   "source": [
    "#Create a program that validates a password based on complexity rules (length, characters, etc.)."
   ]
  },
  {
   "cell_type": "code",
   "execution_count": 30,
   "id": "db5cb579-73e8-4fd1-8071-a4ade4724fbd",
   "metadata": {},
   "outputs": [
    {
     "name": "stdout",
     "output_type": "stream",
     "text": [
      "Valid paasword\n"
     ]
    }
   ],
   "source": [
    "password=\"Golu0@87\"\n",
    "if len(password)<8:\n",
    "    print(\"Invalid password\")\n",
    "    if not any (char.isUpper() for char in paasword):\n",
    "        print(\"Invalid password\")\n",
    "        if not any (char.isLower() for char in password):\n",
    "            print(\"Invalid Password\")\n",
    "            if not any(char.isdigit() for char in paasword):\n",
    "                print(\"Invalid passwsord\")\n",
    "        \n",
    "else:\n",
    "    print(\"Valid paasword\")"
   ]
  },
  {
   "cell_type": "code",
   "execution_count": 31,
   "id": "f82a5bf9-e069-4ff3-8730-c500de1f67c3",
   "metadata": {},
   "outputs": [],
   "source": [
    "#Develop a program that performs matrix addition and subtraction based on user input."
   ]
  },
  {
   "cell_type": "code",
   "execution_count": 34,
   "id": "31b99a7a-4cac-4ce5-8c03-619cd92206ae",
   "metadata": {},
   "outputs": [
    {
     "name": "stdout",
     "output_type": "stream",
     "text": [
      "Enter details for the first matrix:\n"
     ]
    },
    {
     "name": "stdin",
     "output_type": "stream",
     "text": [
      "Enter the number of rows:  2\n",
      "Enter the number of columns:  2\n"
     ]
    },
    {
     "name": "stdout",
     "output_type": "stream",
     "text": [
      "Enter matrix elements row-wise:\n"
     ]
    },
    {
     "name": "stdin",
     "output_type": "stream",
     "text": [
      "Enter element at position (1, 1):  1\n",
      "Enter element at position (1, 2):  2\n",
      "Enter element at position (2, 1):  3\n",
      "Enter element at position (2, 2):  4\n"
     ]
    },
    {
     "name": "stdout",
     "output_type": "stream",
     "text": [
      "\n",
      "Enter details for the second matrix:\n"
     ]
    },
    {
     "name": "stdin",
     "output_type": "stream",
     "text": [
      "Enter the number of rows:  2\n",
      "Enter the number of columns:  2\n"
     ]
    },
    {
     "name": "stdout",
     "output_type": "stream",
     "text": [
      "Enter matrix elements row-wise:\n"
     ]
    },
    {
     "name": "stdin",
     "output_type": "stream",
     "text": [
      "Enter element at position (1, 1):  2\n",
      "Enter element at position (1, 2):  3\n",
      "Enter element at position (2, 1):  4\n",
      "Enter element at position (2, 2):  5\n"
     ]
    },
    {
     "name": "stdout",
     "output_type": "stream",
     "text": [
      "\n",
      "Matrix Addition:\n",
      "Matrix\n",
      "[3.0, 5.0]\n",
      "[7.0, 9.0]\n",
      "\n",
      "Matrix Subtraction:\n",
      "Matrix\n",
      "[-1.0, -1.0]\n",
      "[-1.0, -1.0]\n"
     ]
    }
   ],
   "source": [
    "def matrix_addition(matrix1, matrix2):\n",
    "    result = [[0 for _ in range(len(matrix1[0]))] for _ in range(len(matrix1))]\n",
    "    \n",
    "    for i in range(len(matrix1)):\n",
    "        for j in range(len(matrix1[0])):\n",
    "            result[i][j] = matrix1[i][j] + matrix2[i][j]\n",
    "    \n",
    "    return result\n",
    "\n",
    "def matrix_subtraction(matrix1, matrix2):\n",
    "    result = [[0 for _ in range(len(matrix1[0]))] for _ in range(len(matrix1))]\n",
    "    \n",
    "    for i in range(len(matrix1)):\n",
    "        for j in range(len(matrix1[0])):\n",
    "            result[i][j] = matrix1[i][j] - matrix2[i][j]\n",
    "    \n",
    "    return result\n",
    "\n",
    "def input_matrix():\n",
    "    rows = int(input(\"Enter the number of rows: \"))\n",
    "    cols = int(input(\"Enter the number of columns: \"))\n",
    "    \n",
    "    matrix = []\n",
    "    print(\"Enter matrix elements row-wise:\")\n",
    "    for i in range(rows):\n",
    "        row = [float(input(f\"Enter element at position ({i+1}, {j+1}): \")) for j in range(cols)]\n",
    "        matrix.append(row)\n",
    "    \n",
    "    return matrix\n",
    "\n",
    "def print_matrix(matrix, label=\"Matrix\"):\n",
    "    print(label)\n",
    "    for row in matrix:\n",
    "        print(row)\n",
    "\n",
    "# Example usage\n",
    "print(\"Enter details for the first matrix:\")\n",
    "matrix1 = input_matrix()\n",
    "\n",
    "print(\"\\nEnter details for the second matrix:\")\n",
    "matrix2 = input_matrix()\n",
    "\n",
    "# Check if matrices can be added/subtracted\n",
    "if len(matrix1) == len(matrix2) and len(matrix1[0]) == len(matrix2[0]):\n",
    "    # Perform addition\n",
    "    result_addition = matrix_addition(matrix1, matrix2)\n",
    "    print(\"\\nMatrix Addition:\")\n",
    "    print_matrix(result_addition)\n",
    "\n",
    "    # Perform subtraction\n",
    "    result_subtraction = matrix_subtraction(matrix1, matrix2)\n",
    "    print(\"\\nMatrix Subtraction:\")\n",
    "    print_matrix(result_subtraction)\n",
    "else:\n",
    "    print(\"Matrices cannot be added or subtracted due to incompatible dimensions.\")\n"
   ]
  },
  {
   "cell_type": "code",
   "execution_count": 35,
   "id": "8395a116-54c3-4d5c-b504-41e022fa53e7",
   "metadata": {},
   "outputs": [],
   "source": [
    "#33. Write a program that calculates the greatest common divisor (GCD) of two numbers using the Euclidean\n",
    "#algorithm."
   ]
  },
  {
   "cell_type": "code",
   "execution_count": 43,
   "id": "8cfe75f0-910e-4636-99b2-172bf3f5fed3",
   "metadata": {},
   "outputs": [
    {
     "name": "stdout",
     "output_type": "stream",
     "text": [
      "gcd of 12 and 36 is  36\n"
     ]
    }
   ],
   "source": [
    "def gcd(a,b):\n",
    "    while b:\n",
    "        a,b=b,a%b\n",
    "        return a\n",
    "    \n",
    "result=gcd(12,36)\n",
    "print(\"gcd of 12 and 36 is \",result)"
   ]
  },
  {
   "cell_type": "code",
   "execution_count": 44,
   "id": "0b1c27f1-3f1e-4f66-8395-1f917510b408",
   "metadata": {},
   "outputs": [],
   "source": [
    "#34. Build a program that performs matrix multiplication using nested loops and conditional statements."
   ]
  },
  {
   "cell_type": "code",
   "execution_count": 45,
   "id": "07245357-8766-4be3-ba94-7dc8caf87511",
   "metadata": {},
   "outputs": [
    {
     "name": "stdout",
     "output_type": "stream",
     "text": [
      "Enter details for the first matrix:\n"
     ]
    },
    {
     "name": "stdin",
     "output_type": "stream",
     "text": [
      "Enter the number of rows:  2\n",
      "Enter the number of columns:  2\n"
     ]
    },
    {
     "name": "stdout",
     "output_type": "stream",
     "text": [
      "Enter matrix elements row-wise:\n"
     ]
    },
    {
     "name": "stdin",
     "output_type": "stream",
     "text": [
      "Enter element at position (1, 1):  1\n",
      "Enter element at position (1, 2):  2\n",
      "Enter element at position (2, 1):  3\n",
      "Enter element at position (2, 2):  4\n"
     ]
    },
    {
     "name": "stdout",
     "output_type": "stream",
     "text": [
      "\n",
      "Enter details for the second matrix:\n"
     ]
    },
    {
     "name": "stdin",
     "output_type": "stream",
     "text": [
      "Enter the number of rows:  2\n",
      "Enter the number of columns:  3\n"
     ]
    },
    {
     "name": "stdout",
     "output_type": "stream",
     "text": [
      "Enter matrix elements row-wise:\n"
     ]
    },
    {
     "name": "stdin",
     "output_type": "stream",
     "text": [
      "Enter element at position (1, 1):  4\n",
      "Enter element at position (1, 2):  5\n",
      "Enter element at position (1, 3):  4\n",
      "Enter element at position (2, 1):  7\n",
      "Enter element at position (2, 2):  7\n",
      "Enter element at position (2, 3):  7\n"
     ]
    },
    {
     "name": "stdout",
     "output_type": "stream",
     "text": [
      "\n",
      "Matrix Multiplication:\n",
      "Matrix\n",
      "[18.0, 19.0, 18.0]\n",
      "[40.0, 43.0, 40.0]\n"
     ]
    }
   ],
   "source": [
    "def matrix_multiplication(matrix1, matrix2):\n",
    "    rows1, cols1 = len(matrix1), len(matrix1[0])\n",
    "    rows2, cols2 = len(matrix2), len(matrix2[0])\n",
    "\n",
    "    # Check if matrices can be multiplied\n",
    "    if cols1 != rows2:\n",
    "        print(\"Error: Matrices cannot be multiplied due to incompatible dimensions.\")\n",
    "        return None\n",
    "\n",
    "    result = [[0 for _ in range(cols2)] for _ in range(rows1)]\n",
    "\n",
    "    for i in range(rows1):\n",
    "        for j in range(cols2):\n",
    "            # Calculate the dot product of the i-th row of matrix1 and j-th column of matrix2\n",
    "            dot_product = 0\n",
    "            for k in range(cols1):\n",
    "                dot_product += matrix1[i][k] * matrix2[k][j]\n",
    "\n",
    "            result[i][j] = dot_product\n",
    "\n",
    "    return result\n",
    "\n",
    "def input_matrix():\n",
    "    rows = int(input(\"Enter the number of rows: \"))\n",
    "    cols = int(input(\"Enter the number of columns: \"))\n",
    "\n",
    "    matrix = []\n",
    "    print(\"Enter matrix elements row-wise:\")\n",
    "    for i in range(rows):\n",
    "        row = [float(input(f\"Enter element at position ({i+1}, {j+1}): \")) for j in range(cols)]\n",
    "        matrix.append(row)\n",
    "\n",
    "    return matrix\n",
    "\n",
    "def print_matrix(matrix, label=\"Matrix\"):\n",
    "    print(label)\n",
    "    for row in matrix:\n",
    "        print(row)\n",
    "\n",
    "# Example usage\n",
    "print(\"Enter details for the first matrix:\")\n",
    "matrix1 = input_matrix()\n",
    "\n",
    "print(\"\\nEnter details for the second matrix:\")\n",
    "matrix2 = input_matrix()\n",
    "\n",
    "# Perform matrix multiplication\n",
    "result_multiplication = matrix_multiplication(matrix1, matrix2)\n",
    "\n",
    "# Print the result if matrices were multiplied successfully\n",
    "if result_multiplication is not None:\n",
    "    print(\"\\nMatrix Multiplication:\")\n",
    "    print_matrix(result_multiplication)\n"
   ]
  },
  {
   "cell_type": "code",
   "execution_count": 46,
   "id": "28b15fb1-17e2-41ad-8098-508f6984a354",
   "metadata": {},
   "outputs": [],
   "source": [
    "#Create a program that simulates a basic text-based tic-tac-toe game against the computer."
   ]
  },
  {
   "cell_type": "code",
   "execution_count": 47,
   "id": "36deef03-cd55-4186-a8f5-b3d1a9d204c7",
   "metadata": {},
   "outputs": [
    {
     "name": "stdout",
     "output_type": "stream",
     "text": [
      "Welcome to Tic-Tac-Toe!\n",
      "  |   |  \n",
      "---------\n",
      "  |   |  \n",
      "---------\n",
      "  |   |  \n",
      "---------\n"
     ]
    },
    {
     "name": "stdin",
     "output_type": "stream",
     "text": [
      "Enter the row (1, 2, or 3):  1\n",
      "Enter the column (1, 2, or 3):  3\n"
     ]
    },
    {
     "name": "stdout",
     "output_type": "stream",
     "text": [
      "\n",
      "Computer's move:\n",
      "  |   | X\n",
      "---------\n",
      "  |   |  \n",
      "---------\n",
      "  |   | O\n",
      "---------\n"
     ]
    },
    {
     "name": "stdin",
     "output_type": "stream",
     "text": [
      "Enter the row (1, 2, or 3):  2\n",
      "Enter the column (1, 2, or 3):  1\n"
     ]
    },
    {
     "name": "stdout",
     "output_type": "stream",
     "text": [
      "\n",
      "Computer's move:\n",
      "  |   | X\n",
      "---------\n",
      "X |   | O\n",
      "---------\n",
      "  |   | O\n",
      "---------\n"
     ]
    },
    {
     "name": "stdin",
     "output_type": "stream",
     "text": [
      "Enter the row (1, 2, or 3):  3\n",
      "Enter the column (1, 2, or 3):  2\n"
     ]
    },
    {
     "name": "stdout",
     "output_type": "stream",
     "text": [
      "\n",
      "Computer's move:\n",
      "  |   | X\n",
      "---------\n",
      "X |   | O\n",
      "---------\n",
      "O | X | O\n",
      "---------\n"
     ]
    },
    {
     "name": "stdin",
     "output_type": "stream",
     "text": [
      "Enter the row (1, 2, or 3):  1\n",
      "Enter the column (1, 2, or 3):  1\n"
     ]
    },
    {
     "name": "stdout",
     "output_type": "stream",
     "text": [
      "\n",
      "Computer's move:\n",
      "X |   | X\n",
      "---------\n",
      "X | O | O\n",
      "---------\n",
      "O | X | O\n",
      "---------\n"
     ]
    },
    {
     "name": "stdin",
     "output_type": "stream",
     "text": [
      "Enter the row (1, 2, or 3):  2\n",
      "Enter the column (1, 2, or 3):  3\n"
     ]
    },
    {
     "name": "stdout",
     "output_type": "stream",
     "text": [
      "Invalid move. Please try again.\n"
     ]
    },
    {
     "name": "stdin",
     "output_type": "stream",
     "text": [
      "Enter the row (1, 2, or 3):  1\n",
      "Enter the column (1, 2, or 3):  1\n"
     ]
    },
    {
     "name": "stdout",
     "output_type": "stream",
     "text": [
      "Invalid move. Please try again.\n"
     ]
    },
    {
     "name": "stdin",
     "output_type": "stream",
     "text": [
      "Enter the row (1, 2, or 3):  1\n",
      "Enter the column (1, 2, or 3):  1\n"
     ]
    },
    {
     "name": "stdout",
     "output_type": "stream",
     "text": [
      "Invalid move. Please try again.\n"
     ]
    },
    {
     "name": "stdin",
     "output_type": "stream",
     "text": [
      "Enter the row (1, 2, or 3):  1\n",
      "Enter the column (1, 2, or 3):  1\n"
     ]
    },
    {
     "name": "stdout",
     "output_type": "stream",
     "text": [
      "Invalid move. Please try again.\n"
     ]
    },
    {
     "name": "stdin",
     "output_type": "stream",
     "text": [
      "Enter the row (1, 2, or 3):  2\n",
      "Enter the column (1, 2, or 3):  3\n"
     ]
    },
    {
     "name": "stdout",
     "output_type": "stream",
     "text": [
      "Invalid move. Please try again.\n"
     ]
    },
    {
     "name": "stdin",
     "output_type": "stream",
     "text": [
      "Enter the row (1, 2, or 3):  3\n",
      "Enter the column (1, 2, or 3):  1\n"
     ]
    },
    {
     "name": "stdout",
     "output_type": "stream",
     "text": [
      "Invalid move. Please try again.\n"
     ]
    },
    {
     "name": "stdin",
     "output_type": "stream",
     "text": [
      "Enter the row (1, 2, or 3):  2\n",
      "Enter the column (1, 2, or 3):  4\n"
     ]
    },
    {
     "name": "stdout",
     "output_type": "stream",
     "text": [
      "Invalid move. Please try again.\n"
     ]
    },
    {
     "name": "stdin",
     "output_type": "stream",
     "text": [
      "Enter the row (1, 2, or 3):  1\n",
      "Enter the column (1, 2, or 3):  2\n"
     ]
    },
    {
     "name": "stdout",
     "output_type": "stream",
     "text": [
      "X | X | X\n",
      "---------\n",
      "X | O | O\n",
      "---------\n",
      "O | X | O\n",
      "---------\n",
      "Congratulations! You win!\n"
     ]
    }
   ],
   "source": [
    "import random\n",
    "\n",
    "def print_board(board):\n",
    "    for row in board:\n",
    "        print(\" | \".join(row))\n",
    "        print(\"-\" * 9)\n",
    "\n",
    "def check_winner(board, player):\n",
    "    # Check rows and columns\n",
    "    for i in range(3):\n",
    "        if all(board[i][j] == player for j in range(3)) or all(board[j][i] == player for j in range(3)):\n",
    "            return True\n",
    "    \n",
    "    # Check diagonals\n",
    "    if all(board[i][i] == player for i in range(3)) or all(board[i][2 - i] == player for i in range(3)):\n",
    "        return True\n",
    "    \n",
    "    return False\n",
    "\n",
    "def is_board_full(board):\n",
    "    return all(board[i][j] != ' ' for i in range(3) for j in range(3))\n",
    "\n",
    "def get_empty_cells(board):\n",
    "    return [(i, j) for i in range(3) for j in range(3) if board[i][j] == ' ']\n",
    "\n",
    "def player_move(board):\n",
    "    while True:\n",
    "        try:\n",
    "            row = int(input(\"Enter the row (1, 2, or 3): \")) - 1\n",
    "            col = int(input(\"Enter the column (1, 2, or 3): \")) - 1\n",
    "\n",
    "            if 0 <= row < 3 and 0 <= col < 3 and board[row][col] == ' ':\n",
    "                return row, col\n",
    "            else:\n",
    "                print(\"Invalid move. Please try again.\")\n",
    "        except ValueError:\n",
    "            print(\"Invalid input. Please enter a number.\")\n",
    "\n",
    "def computer_move(board):\n",
    "    empty_cells = get_empty_cells(board)\n",
    "    move = random.choice(empty_cells)\n",
    "    return move\n",
    "\n",
    "def play_tic_tac_toe():\n",
    "    board = [[' ' for _ in range(3)] for _ in range(3)]\n",
    "    player_symbol = 'X'\n",
    "    computer_symbol = 'O'\n",
    "\n",
    "    print(\"Welcome to Tic-Tac-Toe!\")\n",
    "\n",
    "    while True:\n",
    "        print_board(board)\n",
    "\n",
    "        # Player's move\n",
    "        player_row, player_col = player_move(board)\n",
    "        board[player_row][player_col] = player_symbol\n",
    "\n",
    "        # Check if the player wins\n",
    "        if check_winner(board, player_symbol):\n",
    "            print_board(board)\n",
    "            print(\"Congratulations! You win!\")\n",
    "            break\n",
    "\n",
    "        # Check if the game is a draw\n",
    "        elif is_board_full(board):\n",
    "            print_board(board)\n",
    "            print(\"It's a draw!\")\n",
    "            break\n",
    "\n",
    "        # Computer's move\n",
    "        else:\n",
    "            print(\"\\nComputer's move:\")\n",
    "            computer_row, computer_col = computer_move(board)\n",
    "            board[computer_row][computer_col] = computer_symbol\n",
    "\n",
    "            # Check if the computer wins\n",
    "            if check_winner(board, computer_symbol):\n",
    "                print_board(board)\n",
    "                print(\"Sorry, you lose. The computer wins!\")\n",
    "                break\n",
    "\n",
    "if __name__ == \"__main__\":\n",
    "    play_tic_tac_toe()\n"
   ]
  },
  {
   "cell_type": "code",
   "execution_count": 48,
   "id": "b7f98f45-8ea0-4db2-a232-db493f5256d3",
   "metadata": {},
   "outputs": [
    {
     "name": "stdin",
     "output_type": "stream",
     "text": [
      "Enter the number of terms for the Fibonacci sequence:  3\n"
     ]
    },
    {
     "name": "stdout",
     "output_type": "stream",
     "text": [
      "Fibonacci sequence up to term 3:\n",
      "[0, 1, 1]\n"
     ]
    }
   ],
   "source": [
    "def generate_fibonacci(n):\n",
    "    fibonacci_sequence = [0, 1]\n",
    "\n",
    "    for i in range(2, n):\n",
    "        next_term = fibonacci_sequence[i-1] + fibonacci_sequence[i-2]\n",
    "        fibonacci_sequence.append(next_term)\n",
    "\n",
    "    return fibonacci_sequence\n",
    "\n",
    "# Example usage\n",
    "try:\n",
    "    term = int(input(\"Enter the number of terms for the Fibonacci sequence: \"))\n",
    "    if term < 0:\n",
    "        raise ValueError(\"Please enter a non-negative integer.\")\n",
    "    \n",
    "    fibonacci_numbers = generate_fibonacci(term)\n",
    "    print(f\"Fibonacci sequence up to term {term}:\")\n",
    "    print(fibonacci_numbers)\n",
    "except ValueError as e:\n",
    "    print(f\"Error: {e}\")\n"
   ]
  },
  {
   "cell_type": "code",
   "execution_count": 49,
   "id": "093c0686-5618-4694-87b5-79902001db0e",
   "metadata": {},
   "outputs": [
    {
     "name": "stdin",
     "output_type": "stream",
     "text": [
      "Enter the value of n for the nth term of the Fibonacci sequence:  3\n"
     ]
    },
    {
     "name": "stdout",
     "output_type": "stream",
     "text": [
      "The 3-th term of the Fibonacci sequence is: 2\n"
     ]
    }
   ],
   "source": [
    "def fibonacci_memoization(n, memo={}):\n",
    "    if n in memo:\n",
    "        return memo[n]\n",
    "    \n",
    "    if n <= 1:\n",
    "        result = n\n",
    "    else:\n",
    "        result = fibonacci_memoization(n-1, memo) + fibonacci_memoization(n-2, memo)\n",
    "    \n",
    "    memo[n] = result\n",
    "    return result\n",
    "\n",
    "# Example usage\n",
    "try:\n",
    "    term = int(input(\"Enter the value of n for the nth term of the Fibonacci sequence: \"))\n",
    "    if term < 0:\n",
    "        raise ValueError(\"Please enter a non-negative integer.\")\n",
    "    \n",
    "    fibonacci_result = fibonacci_memoization(term)\n",
    "    print(f\"The {term}-th term of the Fibonacci sequence is: {fibonacci_result}\")\n",
    "except ValueError as e:\n",
    "    print(f\"Error: {e}\")\n"
   ]
  },
  {
   "cell_type": "code",
   "execution_count": null,
   "id": "0530ef5b-33b4-4629-a8f8-a62a119b15ea",
   "metadata": {},
   "outputs": [],
   "source": [
    "#Create a program that generates a calendar for a given month and year using conditional statements."
   ]
  },
  {
   "cell_type": "code",
   "execution_count": 50,
   "id": "b5212717-6b74-41a6-bf0d-cc8f949ed0a0",
   "metadata": {},
   "outputs": [
    {
     "name": "stdin",
     "output_type": "stream",
     "text": [
      "Enter the year:  2018\n",
      "Enter the month (1-12):  2\n"
     ]
    },
    {
     "name": "stdout",
     "output_type": "stream",
     "text": [
      "\n",
      "Calendar for February 2018\n",
      "\n",
      " Mo Tu We Th Fr Sa Su\n",
      "          1  2  3  4 \n",
      " 5  6  7  8  9 10 11 \n",
      "12 13 14 15 16 17 18 \n",
      "19 20 21 22 23 24 25 \n",
      "26 27 28             \n"
     ]
    }
   ],
   "source": [
    "import calendar\n",
    "\n",
    "def generate_calendar(year, month):\n",
    "    cal = calendar.monthcalendar(year, month)\n",
    "    month_name = calendar.month_name[month]\n",
    "\n",
    "    print(f\"\\nCalendar for {month_name} {year}\\n\")\n",
    "    print(\" Mo Tu We Th Fr Sa Su\")\n",
    "    \n",
    "    for week in cal:\n",
    "        for day in week:\n",
    "            if day == 0:\n",
    "                print(\"   \", end=\"\")\n",
    "            else:\n",
    "                print(f\"{day:2} \", end=\"\")\n",
    "        print()\n",
    "\n",
    "# Example usage\n",
    "try:\n",
    "    year = int(input(\"Enter the year: \"))\n",
    "    month = int(input(\"Enter the month (1-12): \"))\n",
    "\n",
    "    if 1 <= month <= 12:\n",
    "        generate_calendar(year, month)\n",
    "    else:\n",
    "        print(\"Invalid month. Please enter a number between 1 and 12.\")\n",
    "except ValueError as e:\n",
    "    print(f\"Error: {e}\")\n"
   ]
  },
  {
   "cell_type": "code",
   "execution_count": 51,
   "id": "335ec3ec-c8a7-4b17-abec-28dc4ba58add",
   "metadata": {},
   "outputs": [],
   "source": [
    "#Build a program that simulates a basic text-based blackjack game against the computer."
   ]
  },
  {
   "cell_type": "code",
   "execution_count": 52,
   "id": "f0bfc9a6-24b8-42a7-bd26-0a8fdd35df88",
   "metadata": {},
   "outputs": [
    {
     "name": "stdout",
     "output_type": "stream",
     "text": [
      "Welcome to Blackjack!\n",
      "\n",
      "Your cards: [2, 8], current score: 10\n",
      "Computer's first card: 10\n"
     ]
    },
    {
     "name": "stdin",
     "output_type": "stream",
     "text": [
      "Type 'y' to get another card, 'n' to pass:  y\n"
     ]
    },
    {
     "name": "stdout",
     "output_type": "stream",
     "text": [
      "\n",
      "Your cards: [2, 8, 11], current score: 21\n",
      "Computer's first card: 10\n"
     ]
    },
    {
     "name": "stdin",
     "output_type": "stream",
     "text": [
      "Type 'y' to get another card, 'n' to pass:  n\n"
     ]
    },
    {
     "name": "stdout",
     "output_type": "stream",
     "text": [
      "\n",
      "Your final hand: [2, 8, 11], final score: 21\n",
      "Computer's final hand: [10, 8], final score: 18\n",
      "You win!\n"
     ]
    }
   ],
   "source": [
    "import random\n",
    "\n",
    "def calculate_score(cards):\n",
    "    \"\"\"Calculate the score of a given hand of cards.\"\"\"\n",
    "    score = sum(cards)\n",
    "    if 11 in cards and score > 21:\n",
    "        cards.remove(11)\n",
    "        cards.append(1)\n",
    "    return score\n",
    "\n",
    "def blackjack():\n",
    "    \"\"\"Simulate a text-based Blackjack game.\"\"\"\n",
    "    print(\"Welcome to Blackjack!\")\n",
    "\n",
    "    # Initialize the deck\n",
    "    ranks = [2, 3, 4, 5, 6, 7, 8, 9, 10, 10, 10, 10, 11]\n",
    "    deck = ranks * 4  # Four sets of ranks for each suit\n",
    "\n",
    "    # Deal initial cards\n",
    "    player_cards = [random.choice(deck), random.choice(deck)]\n",
    "    computer_cards = [random.choice(deck), random.choice(deck)]\n",
    "\n",
    "    game_over = False\n",
    "\n",
    "    while not game_over:\n",
    "        # Calculate scores\n",
    "        player_score = calculate_score(player_cards)\n",
    "        computer_score = calculate_score(computer_cards)\n",
    "\n",
    "        print(f\"\\nYour cards: {player_cards}, current score: {player_score}\")\n",
    "        print(f\"Computer's first card: {computer_cards[0]}\")\n",
    "\n",
    "        # Check for Blackjack\n",
    "        if player_score == 21 and len(player_cards) == 2:\n",
    "            print(\"Blackjack! You win!\")\n",
    "            game_over = True\n",
    "        elif computer_score == 21 and len(computer_cards) == 2:\n",
    "            print(\"Computer has Blackjack. You lose.\")\n",
    "            game_over = True\n",
    "        elif player_score > 21:\n",
    "            print(\"You went over. You lose.\")\n",
    "            game_over = True\n",
    "        elif computer_score > 21:\n",
    "            print(\"Computer went over. You win!\")\n",
    "            game_over = True\n",
    "        elif player_score == computer_score == 21:\n",
    "            print(\"It's a draw! Both have Blackjack.\")\n",
    "            game_over = True\n",
    "        else:\n",
    "            # Ask the player if they want to draw another card\n",
    "            draw_card = input(\"Type 'y' to get another card, 'n' to pass: \").lower()\n",
    "            if draw_card == 'y':\n",
    "                player_cards.append(random.choice(deck))\n",
    "            else:\n",
    "                game_over = True\n",
    "\n",
    "    # Computer's turn\n",
    "    while computer_score < 17:\n",
    "        computer_cards.append(random.choice(deck))\n",
    "        computer_score = calculate_score(computer_cards)\n",
    "\n",
    "    # Display final hands and scores\n",
    "    print(f\"\\nYour final hand: {player_cards}, final score: {player_score}\")\n",
    "    print(f\"Computer's final hand: {computer_cards}, final score: {computer_score}\")\n",
    "\n",
    "    # Determine the winner\n",
    "    if player_score > 21:\n",
    "        print(\"You went over. You lose.\")\n",
    "    elif computer_score > 21:\n",
    "        print(\"Computer went over. You win!\")\n",
    "    elif player_score > computer_score:\n",
    "        print(\"You win!\")\n",
    "    elif player_score < computer_score:\n",
    "        print(\"You lose.\")\n",
    "    else:\n",
    "        print(\"It's a draw!\")\n",
    "\n",
    "# Run the Blackjack game\n",
    "if __name__ == \"__main__\":\n",
    "    blackjack()\n"
   ]
  },
  {
   "cell_type": "code",
   "execution_count": null,
   "id": "7376fc3b-7edc-4828-8e35-fea5b649941f",
   "metadata": {},
   "outputs": [],
   "source": []
  }
 ],
 "metadata": {
  "kernelspec": {
   "display_name": "Python 3 (ipykernel)",
   "language": "python",
   "name": "python3"
  },
  "language_info": {
   "codemirror_mode": {
    "name": "ipython",
    "version": 3
   },
   "file_extension": ".py",
   "mimetype": "text/x-python",
   "name": "python",
   "nbconvert_exporter": "python",
   "pygments_lexer": "ipython3",
   "version": "3.10.8"
  }
 },
 "nbformat": 4,
 "nbformat_minor": 5
}
