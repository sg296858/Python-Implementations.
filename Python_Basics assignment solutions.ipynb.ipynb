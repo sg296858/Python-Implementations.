{
 "cells": [
  {
   "cell_type": "code",
   "execution_count": 14,
   "id": "2d0632ea-42b2-49b7-b550-12df422462f4",
   "metadata": {},
   "outputs": [],
   "source": [
    "#Python basic variables"
   ]
  },
  {
   "cell_type": "code",
   "execution_count": 15,
   "id": "00b40c2c-7ddc-4ad4-9f14-a131b5035c99",
   "metadata": {},
   "outputs": [],
   "source": [
    "#Swap the value of 2 numbers without using any temporary variable"
   ]
  },
  {
   "cell_type": "code",
   "execution_count": 16,
   "id": "b6105dce-ffc2-4b67-bdc2-7e0a86d7b615",
   "metadata": {},
   "outputs": [
    {
     "name": "stdin",
     "output_type": "stream",
     "text": [
      "Enter the first number 2\n",
      "Enter the second number 4\n"
     ]
    },
    {
     "name": "stdout",
     "output_type": "stream",
     "text": [
      "Swap of 2 numbers are 4 2\n"
     ]
    }
   ],
   "source": [
    "x=int(input(\"Enter the first number\"))\n",
    "y=int(input(\"Enter the second number\"))\n",
    "x=y-x\n",
    "y=y-x\n",
    "x=x+y\n",
    "print(\"Swap of 2 numbers are\" ,x,y)"
   ]
  },
  {
   "cell_type": "code",
   "execution_count": 17,
   "id": "dde62d00-62b2-4606-92c4-527c34b1e503",
   "metadata": {},
   "outputs": [],
   "source": [
    "# Calculate Area of rectangle and dispaly the area"
   ]
  },
  {
   "cell_type": "code",
   "execution_count": 18,
   "id": "cf5537ce-f4a6-486f-8ecb-6d2e5ab53cc6",
   "metadata": {},
   "outputs": [
    {
     "name": "stdin",
     "output_type": "stream",
     "text": [
      "Enter the length of the rectangle 10\n",
      "Enter the breadth of rectangle 20\n"
     ]
    },
    {
     "name": "stdout",
     "output_type": "stream",
     "text": [
      "The area of rectangle is 200\n"
     ]
    }
   ],
   "source": [
    "l=int(input(\"Enter the length of the rectangle\"))\n",
    "b=int(input(\"Enter the breadth of rectangle\"))\n",
    "Area=l*b\n",
    "print(\"The area of rectangle is\",Area)"
   ]
  },
  {
   "cell_type": "code",
   "execution_count": 19,
   "id": "fd954ed6-3d73-4b0b-9ed9-d001d496dff6",
   "metadata": {},
   "outputs": [],
   "source": [
    "#Program to convert celsius to Farenheit and dispaly the result"
   ]
  },
  {
   "cell_type": "code",
   "execution_count": 20,
   "id": "5178b59a-8580-44ba-a66d-79148c75943d",
   "metadata": {},
   "outputs": [
    {
     "name": "stdin",
     "output_type": "stream",
     "text": [
      "Enter the temperature in celsius 30\n"
     ]
    },
    {
     "name": "stdout",
     "output_type": "stream",
     "text": [
      "Converted celsius to farenheit tempearture is 86.0\n"
     ]
    }
   ],
   "source": [
    "celsiustemp=int(input(\"Enter the temperature in celsius\"))\n",
    "farenheittemp=celsiustemp * (9/5) + 32\n",
    "print(\"Converted celsius to farenheit tempearture is\",farenheittemp)"
   ]
  },
  {
   "cell_type": "code",
   "execution_count": null,
   "id": "17f8734f-4b4c-46f8-a269-7eafb97793f0",
   "metadata": {},
   "outputs": [],
   "source": [
    "#String based questions Print the length of the string"
   ]
  },
  {
   "cell_type": "code",
   "execution_count": 21,
   "id": "f263f07f-e8e2-4c7b-b660-3779c54da7fc",
   "metadata": {},
   "outputs": [
    {
     "name": "stdin",
     "output_type": "stream",
     "text": [
      "Enter the string shubham\n"
     ]
    },
    {
     "data": {
      "text/plain": [
       "7"
      ]
     },
     "execution_count": 21,
     "metadata": {},
     "output_type": "execute_result"
    }
   ],
   "source": [
    "text=input(\"Enter the string\")\n",
    "len(text)"
   ]
  },
  {
   "cell_type": "code",
   "execution_count": 22,
   "id": "cfefeb1d-7dd2-49fd-8907-4e41e09f16c4",
   "metadata": {},
   "outputs": [],
   "source": [
    "#Sentence from user and counts the number of vowls"
   ]
  },
  {
   "cell_type": "code",
   "execution_count": 37,
   "id": "127e4883-aa45-415c-9941-1ce04d175e79",
   "metadata": {},
   "outputs": [
    {
     "name": "stdin",
     "output_type": "stream",
     "text": [
      "Enter the sentence shubhamgupta\n"
     ]
    }
   ],
   "source": [
    "sentence=input(\"Enter the sentence\")\n",
    "vowels=0\n",
    "for i in sentence:\n",
    "    if i=='a'or i=='e'or i=='i' or i=='o' or i=='u':\n",
    "        vowels=vowels+1     "
   ]
  },
  {
   "cell_type": "code",
   "execution_count": 38,
   "id": "104368cc-7e82-4e42-ac08-18ce099b1fec",
   "metadata": {},
   "outputs": [
    {
     "data": {
      "text/plain": [
       "4"
      ]
     },
     "execution_count": 38,
     "metadata": {},
     "output_type": "execute_result"
    }
   ],
   "source": [
    "vowels"
   ]
  },
  {
   "cell_type": "code",
   "execution_count": 39,
   "id": "60343c0b-83c1-4b25-8d5b-fd69963687e5",
   "metadata": {},
   "outputs": [],
   "source": [
    "#Given a string reverse the order of characters using splicing and print reversed string"
   ]
  },
  {
   "cell_type": "code",
   "execution_count": 47,
   "id": "73637916-35a3-46ed-8162-ac1d82d91439",
   "metadata": {},
   "outputs": [
    {
     "name": "stdout",
     "output_type": "stream",
     "text": [
      "The reversed string is  sllikS wP\n"
     ]
    }
   ],
   "source": [
    "s=\"Pw Skills\"\n",
    "print(\"The reversed string is \",s[: : -1])"
   ]
  },
  {
   "cell_type": "code",
   "execution_count": 5,
   "id": "06222221-6619-44d6-ad90-f772cf624a41",
   "metadata": {},
   "outputs": [
    {
     "name": "stdin",
     "output_type": "stream",
     "text": [
      "Enter the string sdtr hg\n"
     ]
    }
   ],
   "source": [
    "s=input(\"Enter the string\")\n",
    "s=s.replace(\" \",\"\")"
   ]
  },
  {
   "cell_type": "code",
   "execution_count": 6,
   "id": "8c395ae7-3d4e-4a42-881d-ec83871f93cf",
   "metadata": {},
   "outputs": [
    {
     "data": {
      "text/plain": [
       "'sdtrhg'"
      ]
     },
     "execution_count": 6,
     "metadata": {},
     "output_type": "execute_result"
    }
   ],
   "source": [
    "s"
   ]
  },
  {
   "cell_type": "code",
   "execution_count": 10,
   "id": "1a692c4e-c9bb-4fb6-8327-2c39c6d3870b",
   "metadata": {},
   "outputs": [
    {
     "name": "stdin",
     "output_type": "stream",
     "text": [
      "Enter the string malayalam\n"
     ]
    },
    {
     "name": "stdout",
     "output_type": "stream",
     "text": [
      "The string is palindromic\n"
     ]
    }
   ],
   "source": [
    "s=input(\"Enter the string\")\n",
    "if s==s[: : -1]:\n",
    "    print(\"The string is palindromic\")\n",
    "else:\n",
    "        print(\"Not palindromic string\")"
   ]
  },
  {
   "cell_type": "code",
   "execution_count": null,
   "id": "7b85462d-fc37-4698-85f4-1e9f3c8af67e",
   "metadata": {},
   "outputs": [],
   "source": []
  }
 ],
 "metadata": {
  "kernelspec": {
   "display_name": "Python 3 (ipykernel)",
   "language": "python",
   "name": "python3"
  },
  "language_info": {
   "codemirror_mode": {
    "name": "ipython",
    "version": 3
   },
   "file_extension": ".py",
   "mimetype": "text/x-python",
   "name": "python",
   "nbconvert_exporter": "python",
   "pygments_lexer": "ipython3",
   "version": "3.10.8"
  }
 },
 "nbformat": 4,
 "nbformat_minor": 5
}
