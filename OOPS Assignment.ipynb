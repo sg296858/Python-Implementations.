{
 "cells": [
  {
   "cell_type": "code",
   "execution_count": 2,
   "id": "6656f151-a2e5-482c-9eaf-b8e4ea7cdd6e",
   "metadata": {},
   "outputs": [],
   "source": [
    "#Inheritance in python means a child class can inherit the properties and methods of parent class."
   ]
  },
  {
   "cell_type": "code",
   "execution_count": 3,
   "id": "5e143461-8ad5-41bc-bf34-94e8fdde4213",
   "metadata": {},
   "outputs": [],
   "source": [
    "#Single inheritance:A single child class can inherit the properties and methods an of a parent class.\n",
    "#Multiple inheritance: A parent  class can be inherited by more than one child class."
   ]
  },
  {
   "cell_type": "code",
   "execution_count": 5,
   "id": "77a5b9e7-d274-477b-8998-a08e6ab6b422",
   "metadata": {},
   "outputs": [],
   "source": [
    "#Example of Single inheritance\n",
    "class a:\n",
    "    def test(self):\n",
    "        print(\"This is test method\")\n",
    "        \n",
    "class b(a):\n",
    "    def test1(self):\n",
    "        print(\"This is a test1 method\")"
   ]
  },
  {
   "cell_type": "code",
   "execution_count": 6,
   "id": "73ca5e96-50aa-49a1-bf90-96d753cf10f3",
   "metadata": {},
   "outputs": [
    {
     "name": "stdout",
     "output_type": "stream",
     "text": [
      "This is test method\n"
     ]
    }
   ],
   "source": [
    "a1=b()\n",
    "a1.test()"
   ]
  },
  {
   "cell_type": "code",
   "execution_count": 7,
   "id": "9a820ba2-2edc-41c9-971e-19800ed57739",
   "metadata": {},
   "outputs": [],
   "source": [
    "#Example of multiple inheritance"
   ]
  },
  {
   "cell_type": "code",
   "execution_count": 8,
   "id": "a8b5cb4d-22ab-4a4d-a7bb-253777f0bec4",
   "metadata": {},
   "outputs": [],
   "source": [
    "class a:\n",
    "    def test(self):\n",
    "        print(\"This is a test method\")\n",
    "        \n",
    "class b:\n",
    "    def test1(self):\n",
    "        print(\"This is a test1 method\")"
   ]
  },
  {
   "cell_type": "code",
   "execution_count": 9,
   "id": "998a7e23-f239-4142-8ee2-f8debcf0d465",
   "metadata": {},
   "outputs": [
    {
     "name": "stdout",
     "output_type": "stream",
     "text": [
      "This is a test1 method\n"
     ]
    }
   ],
   "source": [
    "class c(a,b):\n",
    "    def test2(self):\n",
    "        print(\"This is a test2 method\")\n",
    "        \n",
    "c1=c()\n",
    "c1.test1()"
   ]
  },
  {
   "cell_type": "code",
   "execution_count": 11,
   "id": "c60bfa4d-577f-4983-8e23-620200a22d45",
   "metadata": {},
   "outputs": [],
   "source": [
    "class vehicle:\n",
    "    def __init__(self,color,speed):\n",
    "        self.color=color\n",
    "        self.speed=speed\n",
    "        print(self.color,self.speed)\n",
    "        \n",
    "class Car(vehicle):\n",
    "    def __init__(self,brand):\n",
    "        self.brand=brand\n",
    "        print(self.brand)"
   ]
  },
  {
   "cell_type": "code",
   "execution_count": 13,
   "id": "0ae8cf9f-3711-43b6-a33e-497a5adc6477",
   "metadata": {},
   "outputs": [
    {
     "name": "stdout",
     "output_type": "stream",
     "text": [
      "BMW\n"
     ]
    }
   ],
   "source": [
    "m=Car(\"BMW\")"
   ]
  },
  {
   "cell_type": "code",
   "execution_count": 14,
   "id": "dcbbcaed-21b1-4209-bab5-f2d72f682e16",
   "metadata": {},
   "outputs": [],
   "source": [
    "#method overriding:What is method overriding in Python?\n",
    "#Method overriding allows you to redefine a method in a subclass or the derived class previously defined in its parent or the superclass"
   ]
  },
  {
   "cell_type": "code",
   "execution_count": 16,
   "id": "e347ae50-cb56-4dab-8f52-fda216bf4926",
   "metadata": {},
   "outputs": [],
   "source": [
    "class a:\n",
    "    def test(self):\n",
    "        print(\"this is class a\")\n",
    "\n",
    "class b(a):\n",
    "    def test(self):\n",
    "        print(\"this is class b\")\n",
    "    \n",
    "class c(a):\n",
    "    def test(self):\n",
    "        print(\"this is class c\")"
   ]
  },
  {
   "cell_type": "code",
   "execution_count": 17,
   "id": "be433460-9dd1-4be3-9290-1c588fb8a535",
   "metadata": {},
   "outputs": [
    {
     "name": "stdout",
     "output_type": "stream",
     "text": [
      "this is class c\n"
     ]
    }
   ],
   "source": [
    "c1=c()\n",
    "c1.test()"
   ]
  },
  {
   "cell_type": "code",
   "execution_count": 19,
   "id": "73cfb8aa-7249-479a-8266-eca6b89c251b",
   "metadata": {},
   "outputs": [
    {
     "name": "stdout",
     "output_type": "stream",
     "text": [
      "this is class b\n"
     ]
    }
   ],
   "source": [
    "b1=b()\n",
    "b1.test()"
   ]
  },
  {
   "cell_type": "code",
   "execution_count": 20,
   "id": "9f45b06b-1a1e-4144-aa84-0fd05d90935e",
   "metadata": {},
   "outputs": [
    {
     "name": "stdout",
     "output_type": "stream",
     "text": [
      "this is class a\n"
     ]
    }
   ],
   "source": [
    "a1=a()\n",
    "a1.test()"
   ]
  },
  {
   "cell_type": "code",
   "execution_count": 21,
   "id": "8931ba80-d3bb-43d9-bc75-b859ceaeaf51",
   "metadata": {},
   "outputs": [],
   "source": [
    "#By creating the object of child class we can access the methods and properties of parent class"
   ]
  },
  {
   "cell_type": "code",
   "execution_count": 25,
   "id": "4a76207c-4ef6-4e1a-990f-229c2f37d50a",
   "metadata": {},
   "outputs": [],
   "source": [
    "class a:\n",
    "    def test(self):\n",
    "        print(\"this is my class a\")\n",
    "        self.a=a\n",
    "        \n",
    "class b(a):\n",
    "    def test1(self):\n",
    "        print(\"this is my class b\")"
   ]
  },
  {
   "cell_type": "code",
   "execution_count": 26,
   "id": "77ceba96-f4fc-4ce2-8607-233a53769d85",
   "metadata": {},
   "outputs": [
    {
     "name": "stdout",
     "output_type": "stream",
     "text": [
      "this is my class a\n"
     ]
    }
   ],
   "source": [
    "b1=b()\n",
    "b1.test()"
   ]
  },
  {
   "cell_type": "code",
   "execution_count": 28,
   "id": "292d1dd8-060f-485e-b4cb-f3919c536a87",
   "metadata": {},
   "outputs": [],
   "source": [
    "#The super function in Python is used to access methods of the immediate parent class."
   ]
  },
  {
   "cell_type": "code",
   "execution_count": 35,
   "id": "33fcc1b2-1926-46fe-b4d8-267a344ca5cd",
   "metadata": {},
   "outputs": [],
   "source": [
    "class a:\n",
    "    def test(self,mentor):\n",
    "        self.mentor=mentor\n",
    "\n",
    "class b(a):\n",
    "    def test(self,mentor,name):\n",
    "        super(). __init(mentor)\n",
    "        self.name=name        "
   ]
  },
  {
   "cell_type": "code",
   "execution_count": 37,
   "id": "05737449-14da-453c-8734-76d1b9e54a9c",
   "metadata": {},
   "outputs": [],
   "source": [
    "class Animal:\n",
    "    def speak(self):\n",
    "        print(\"This is the animal class\")\n",
    "        \n",
    "class Dog(Animal):\n",
    "    def speak(self):\n",
    "        print(\"This is the dog class\")\n",
    "        \n",
    "class Cat(Animal):\n",
    "    def speak(self):\n",
    "        print(\"This is the cat class\")"
   ]
  },
  {
   "cell_type": "code",
   "execution_count": 38,
   "id": "c651e662-478a-4cb8-8a69-2eae748233cb",
   "metadata": {},
   "outputs": [
    {
     "name": "stdout",
     "output_type": "stream",
     "text": [
      "This is the cat class\n"
     ]
    }
   ],
   "source": [
    "c=Cat()\n",
    "c.speak()"
   ]
  },
  {
   "cell_type": "code",
   "execution_count": 39,
   "id": "b1b91a1d-71ef-441f-a014-3c71a7786885",
   "metadata": {},
   "outputs": [
    {
     "name": "stdout",
     "output_type": "stream",
     "text": [
      "This is the dog class\n"
     ]
    }
   ],
   "source": [
    "d=Dog()\n",
    "d.speak()"
   ]
  },
  {
   "cell_type": "code",
   "execution_count": 40,
   "id": "2a9d42c1-692a-4ebe-bb80-fef65af1670d",
   "metadata": {},
   "outputs": [],
   "source": [
    "#The isinstance() function returns True if the specified object is of the specified type, otherwise False "
   ]
  },
  {
   "cell_type": "code",
   "execution_count": 41,
   "id": "62467943-d6f7-4db3-ae9e-bae52d0aaa0d",
   "metadata": {},
   "outputs": [],
   "source": [
    "#In Python, the isinstance function is used to check if an object is an instance of a specified class or a tuple of classes. It is often used to perform type checking and is a way to determine whether an object belongs to a certain class or its subclasses.\n",
    "#Regarding its relationship to inheritance in Python, isinstance is particularly useful when dealing with class hierarchies. When you create a new class that inherits from another class, the new class is considered a subclass, and the original class is its superclass. If you use isinstance to check the type of an object, it will return True not only for instances of the specified class but also for instances of any of its subclasses."
   ]
  },
  {
   "cell_type": "code",
   "execution_count": 44,
   "id": "4e2141e6-2d2c-47b2-aeee-3b94734d6e00",
   "metadata": {},
   "outputs": [
    {
     "name": "stdout",
     "output_type": "stream",
     "text": [
      "True\n",
      "True\n",
      "True\n"
     ]
    }
   ],
   "source": [
    "class Animal:\n",
    "    pass\n",
    "\n",
    "class Mammal(Animal):\n",
    "    pass\n",
    "\n",
    "class Dog(Mammal):\n",
    "    pass\n",
    "\n",
    "dog_instance=Dog()\n",
    "print(isinstance(dog_instance,Dog))\n",
    "print(isinstance(dog_instance,Mammal))\n",
    "print(isinstance(dog_instance,Animal))"
   ]
  },
  {
   "cell_type": "code",
   "execution_count": 45,
   "id": "0f7b8e73-22e7-4f80-aa77-b924f8114d19",
   "metadata": {},
   "outputs": [],
   "source": [
    "#The issubclass() function returns True if the specified object is a subclass of the specified object, otherwise False ."
   ]
  },
  {
   "cell_type": "code",
   "execution_count": 49,
   "id": "2ab794af-831b-46f0-a414-f7a0e185c809",
   "metadata": {},
   "outputs": [
    {
     "name": "stdout",
     "output_type": "stream",
     "text": [
      "True\n",
      "True\n"
     ]
    }
   ],
   "source": [
    "class Animal:\n",
    "    pass\n",
    "\n",
    "class Mammal(Animal):\n",
    "    pass\n",
    "\n",
    "class Dog(Mammal):\n",
    "    pass\n",
    "\n",
    "dog_instance=Dog()\n",
    "print(issubclass(Dog,Animal))\n",
    "print(issubclass(Dog,Mammal))"
   ]
  },
  {
   "cell_type": "code",
   "execution_count": 50,
   "id": "7eac6068-0800-4535-bf63-c1f2c20b96b7",
   "metadata": {},
   "outputs": [],
   "source": [
    "#Constructor inheritance:In Python, constructor inheritance refers to the ability of a derived class to use the constructor (or initializer) of its base class. When a class is inherited in Python, the derived class can choose to override or extend the behavior of the base class constructor."
   ]
  },
  {
   "cell_type": "code",
   "execution_count": 53,
   "id": "acb993be-a909-4829-a3ee-8af2348bf4d4",
   "metadata": {},
   "outputs": [
    {
     "data": {
      "text/plain": [
       "10"
      ]
     },
     "execution_count": 53,
     "metadata": {},
     "output_type": "execute_result"
    }
   ],
   "source": [
    "class Baseclass:\n",
    "    def __init__(self,x):\n",
    "        self.x=x\n",
    "        \n",
    "class Derivedclass(Baseclass):\n",
    "    def __init__(self,x,y):\n",
    "        super(). __init__(x)\n",
    "        self.y=y\n",
    "    \n",
    "obj=Derivedclass(10,20)\n",
    "obj.y\n",
    "obj.x"
   ]
  },
  {
   "cell_type": "code",
   "execution_count": 54,
   "id": "8b40bf69-c838-45cf-b606-e0eea30cfec0",
   "metadata": {},
   "outputs": [
    {
     "name": "stdout",
     "output_type": "stream",
     "text": [
      "50.285714285714285\n",
      "30\n"
     ]
    }
   ],
   "source": [
    "class shape:\n",
    "    def area(self,radius,length,breadth):\n",
    "        self.radius=radius\n",
    "        self.length=length\n",
    "        self.breadth=breadth\n",
    "        \n",
    "        areaofcircle=22/7*self.radius*self.radius\n",
    "        areaofrectangle=self.length*self.breadth\n",
    "        print(areaofcircle)\n",
    "        print(areaofrectangle)\n",
    "        \n",
    "\n",
    "class Circle(shape):\n",
    "    pass\n",
    "\n",
    "class Rectangle(shape):\n",
    "    pass\n",
    "\n",
    "\n",
    "rect=Rectangle()\n",
    "rect.area(4,5,6)\n",
    "    \n",
    "        "
   ]
  },
  {
   "cell_type": "code",
   "execution_count": 56,
   "id": "dcac8e65-3e8a-496f-8a03-8c0634e33eae",
   "metadata": {},
   "outputs": [],
   "source": [
    "# We can prevent child class from modifying certain attributes or method from parent class by using \n",
    "#encapsulation and access modifiers."
   ]
  },
  {
   "cell_type": "code",
   "execution_count": 57,
   "id": "15036d02-105b-4308-a67e-ce712b0b68fd",
   "metadata": {},
   "outputs": [
    {
     "name": "stdout",
     "output_type": "stream",
     "text": [
      "shubham 4999\n"
     ]
    }
   ],
   "source": [
    "class Employee:\n",
    "    def emp_details(self,name,salary):\n",
    "        self.name=name\n",
    "        self.salary=salary\n",
    "        print(self.name,self.salary)\n",
    "        \n",
    "class Manager(Employee):\n",
    "    def manager_details(self,department):\n",
    "        self.department=department\n",
    "        print(self.department)\n",
    "        \n",
    "m=Manager()\n",
    "m.emp_details(\"shubham\",4999)"
   ]
  },
  {
   "cell_type": "code",
   "execution_count": 59,
   "id": "c1df557c-5d85-4df7-9eec-dc4878c8464a",
   "metadata": {},
   "outputs": [
    {
     "name": "stdout",
     "output_type": "stream",
     "text": [
      "Parent class method: param1=value1, param2=default\n",
      "Child class method: param1=value2, param2=overloaded\n"
     ]
    }
   ],
   "source": [
    "class Parent:\n",
    "    def example_method(self, param1, param2=\"default\"):\n",
    "        print(f\"Parent class method: param1={param1}, param2={param2}\")\n",
    "\n",
    "class Child(Parent):\n",
    "    def example_method(self, param1, param2=\"overloaded\"):\n",
    "        print(f\"Child class method: param1={param1}, param2={param2}\")\n",
    "\n",
    "# Creating instances\n",
    "parent_instance = Parent()\n",
    "child_instance = Child()\n",
    "\n",
    "# Calling methods\n",
    "parent_instance.example_method(\"value1\")  # Calls Parent class method\n",
    "child_instance.example_method(\"value2\")   # Calls Child class method\n"
   ]
  },
  {
   "cell_type": "code",
   "execution_count": 60,
   "id": "f28e7e37-0a3c-4dad-81eb-9c482bb49588",
   "metadata": {},
   "outputs": [],
   "source": [
    "#The __init__() method is a special method in Python classes that are called when an object is created. The super() function is often used with the __init__() method to initialize the attributes of the parent class. In this example, we have a Parent class and a Child class that inherits from the Parent class."
   ]
  },
  {
   "cell_type": "code",
   "execution_count": 62,
   "id": "83653c68-f654-41fa-82fb-81207b4da704",
   "metadata": {},
   "outputs": [
    {
     "name": "stdout",
     "output_type": "stream",
     "text": [
      "this is a method of sparrow class\n",
      "this is a method of Eagle class\n",
      "this is a method of fly class\n"
     ]
    }
   ],
   "source": [
    "class Bird:\n",
    "    def fly(self):\n",
    "        print(\"this is a method of fly class\")\n",
    "        \n",
    "class Eagle(Bird):\n",
    "    def fly(self):\n",
    "        print(\"this is a method of Eagle class\")\n",
    "        \n",
    "class Sparrow(Bird):\n",
    "    def fly(self):\n",
    "        print(\"this is a method of sparrow class\")\n",
    "        \n",
    "s=Sparrow()\n",
    "s.fly()\n",
    "e=Eagle()\n",
    "e.fly()\n",
    "b=Bird()\n",
    "b.fly()"
   ]
  },
  {
   "cell_type": "code",
   "execution_count": 64,
   "id": "aba05d52-9a17-40fd-ab00-bd367f9c3959",
   "metadata": {},
   "outputs": [],
   "source": [
    "#The \"diamond problem\" in the context of multiple inheritance refers to a situation in object-oriented programming where a class inherits from two classes that have a common ancestor. This can lead to ambiguity and challenges in the inheritance hierarchy.\n",
    "#It can lead to ambiguity because D has two paths to the method through B and C, both inheriting from A. This can make it unclear which implementation of the method should be called.\n",
    "#To address the diamond problem in Python, the method resolution order (MRO) is used. The MRO defines the order in which base classes are searched when looking for a method in a class. In Python, you can use the mro() method or the __mro__ attribute to see the method resolution order for a class:"
   ]
  },
  {
   "cell_type": "code",
   "execution_count": 65,
   "id": "c8f83cf4-1827-4d40-aab6-afa00bf139e6",
   "metadata": {},
   "outputs": [
    {
     "name": "stdout",
     "output_type": "stream",
     "text": [
      "method of class B\n"
     ]
    }
   ],
   "source": [
    "class A:\n",
    "    def method(self):\n",
    "        print(\"method of class A\")\n",
    "        \n",
    "class B:\n",
    "    def method(self):\n",
    "        print(\"method of class B\")\n",
    "        \n",
    "class C:\n",
    "    def method(self):\n",
    "        print(\"method of class C\")\n",
    "        \n",
    "class D(B,C):\n",
    "    pass\n",
    "\n",
    "d=D()\n",
    "d.method()"
   ]
  },
  {
   "cell_type": "code",
   "execution_count": 66,
   "id": "27556ab5-1f7a-4b0b-8e07-3c3830daff14",
   "metadata": {},
   "outputs": [],
   "source": [
    "#An \"is-a\" relationship represents a situation where one class is a specialized version of another. It signifies inheritance or specialization. In Python, this is implemented using class inheritance.\n",
    "#Example: If you have a base class Animal, and you create a derived class Dog, you can say that a Dog \"is-a\" type of Animal"
   ]
  },
  {
   "cell_type": "code",
   "execution_count": 67,
   "id": "d2e93c02-56aa-4558-a275-6e4bc495727d",
   "metadata": {},
   "outputs": [],
   "source": [
    "class Animal:\n",
    "    def speak(self):\n",
    "        pass\n",
    "\n",
    "class Dog(Animal):\n",
    "    def speak(self):\n",
    "        print(\"bark\")\n",
    "    "
   ]
  },
  {
   "cell_type": "code",
   "execution_count": 68,
   "id": "8c1e152a-8d7c-485f-be0a-18618d142cb8",
   "metadata": {},
   "outputs": [],
   "source": [
    "#A \"has-a\" relationship represents a situation where one class contains an instance of another class. It signifies composition or aggregation. In Python, this is implemented by creating an instance of the other class within the class.\n",
    "#Example: If you have a class Car and a class Engine, you can say that a Car \"has-a\" relationship with an Engine."
   ]
  },
  {
   "cell_type": "code",
   "execution_count": 69,
   "id": "b38082df-6b95-4834-a90b-d550bd367dd4",
   "metadata": {},
   "outputs": [],
   "source": [
    "class Engine:\n",
    "    def start(self):\n",
    "        return \"Engine started\"\n",
    "\n",
    "class Car:\n",
    "    def __init__(self):\n",
    "        self.engine = Engine()\n",
    "\n",
    "    def start_car(self):\n",
    "        return self.engine.start()"
   ]
  },
  {
   "cell_type": "code",
   "execution_count": 72,
   "id": "67766fdb-64dd-47c9-bbb6-0fecc5b0a526",
   "metadata": {},
   "outputs": [
    {
     "name": "stdout",
     "output_type": "stream",
     "text": [
      "this is a professor class\n"
     ]
    }
   ],
   "source": [
    "class Person:\n",
    "    def details(self,name ,age):\n",
    "        self.name=name\n",
    "        self.age=age\n",
    "        print(self.name,self.age)\n",
    "        \n",
    "class Student(Person):\n",
    "    def print_details(self):\n",
    "        print(\"this is the student class\")\n",
    "        \n",
    "class Professor(Person):\n",
    "    def print_detials(self):\n",
    "        print(\"this is a professor class\")\n",
    "    \n",
    "p=Professor()\n",
    "p.print_detials()"
   ]
  },
  {
   "cell_type": "code",
   "execution_count": 2,
   "id": "9e00a6ed-1788-4393-b0ee-d0ee0ebedc8e",
   "metadata": {},
   "outputs": [],
   "source": [
    "#1. Explain the concept of encapsulation in Python. What is its role in object-oriented programming?"
   ]
  },
  {
   "cell_type": "code",
   "execution_count": 3,
   "id": "5d3e5046-ccc8-4a09-80bd-e7adb7a6dbd0",
   "metadata": {},
   "outputs": [],
   "source": [
    "#Encapsulation is the process of hiding the members the class and providing the implementation."
   ]
  },
  {
   "cell_type": "code",
   "execution_count": 4,
   "id": "080ea6f7-3162-4d51-b943-21793e18ec06",
   "metadata": {},
   "outputs": [],
   "source": [
    "#Describe the key principles of encapsulation, including access control and data hiding."
   ]
  },
  {
   "cell_type": "code",
   "execution_count": 5,
   "id": "50153ed9-ba88-43c4-a2c6-7c27696fed59",
   "metadata": {},
   "outputs": [],
   "source": [
    "#Encapsulation is one of the fundamental concepts in object-oriented programming (OOP). It describes the idea of wrapping data and the methods that work on data within one unit. "
   ]
  },
  {
   "cell_type": "code",
   "execution_count": 6,
   "id": "06900400-5cf9-4b29-8fee-c0becc46fa7b",
   "metadata": {},
   "outputs": [],
   "source": [
    "#3. How can you achieve encapsulation in Python classes? Provide an example."
   ]
  },
  {
   "cell_type": "code",
   "execution_count": 7,
   "id": "dbfb0a13-d6db-4260-96ae-66b6aada6987",
   "metadata": {},
   "outputs": [],
   "source": [
    "#We can acheive encapsulation in python by hiding the members of class and providing implementation"
   ]
  },
  {
   "cell_type": "code",
   "execution_count": 17,
   "id": "d4416809-933a-4a46-9dfa-1871d36eb0a2",
   "metadata": {},
   "outputs": [
    {
     "data": {
      "text/plain": [
       "4"
      ]
     },
     "execution_count": 17,
     "metadata": {},
     "output_type": "execute_result"
    }
   ],
   "source": [
    "class Encapsulation:\n",
    "    def __init__(self,x,y):\n",
    "        self.__x=x\n",
    "        self.__y=y\n",
    "        \n",
    "    def implement(self):\n",
    "        return self.__x\n",
    "    \n",
    "    def implement1(self):\n",
    "        return self.__y\n",
    "        \n",
    "    \n",
    "obj=Encapsulation(4,5)\n",
    "obj.implement()\n",
    "        "
   ]
  },
  {
   "cell_type": "code",
   "execution_count": 19,
   "id": "2278987d-a397-449c-9f44-17b8dd89a2fe",
   "metadata": {},
   "outputs": [],
   "source": [
    "#4. Discuss the difference between public, private, and protected access modifiers in Python."
   ]
  },
  {
   "cell_type": "code",
   "execution_count": 20,
   "id": "bc69e6ef-39d1-4f7a-995d-a81d5640d206",
   "metadata": {},
   "outputs": [],
   "source": [
    "#Public variables are accessible outside the class ,private variables are not accessible outside the class\n",
    "#Private variables are not accessible outside the class."
   ]
  },
  {
   "cell_type": "code",
   "execution_count": 22,
   "id": "7ba13be0-80a7-4d13-a21f-9c17f62becda",
   "metadata": {},
   "outputs": [
    {
     "data": {
      "text/plain": [
       "5"
      ]
     },
     "execution_count": 22,
     "metadata": {},
     "output_type": "execute_result"
    }
   ],
   "source": [
    "class Public:\n",
    "    def __init__(self,x):\n",
    "        self.x=x\n",
    "        \n",
    "obj=Public(5)  \n",
    "obj.x"
   ]
  },
  {
   "cell_type": "code",
   "execution_count": 25,
   "id": "42264d57-524e-4b32-99f7-5e07a1d83e6a",
   "metadata": {},
   "outputs": [],
   "source": [
    "#Private variables \n",
    "class Private:\n",
    "    def __init__(self,x):\n",
    "        self.__x=x\n",
    "        \n",
    "obj=Private(4)\n",
    "#obj._x"
   ]
  },
  {
   "cell_type": "code",
   "execution_count": 33,
   "id": "bba21a0a-00e8-4012-96b5-9d3aced9a32f",
   "metadata": {},
   "outputs": [
    {
     "data": {
      "text/plain": [
       "4"
      ]
     },
     "execution_count": 33,
     "metadata": {},
     "output_type": "execute_result"
    }
   ],
   "source": [
    "obj._Private__x"
   ]
  },
  {
   "cell_type": "code",
   "execution_count": 34,
   "id": "c933a013-7208-45d0-ae1c-3fba02780e91",
   "metadata": {},
   "outputs": [],
   "source": [
    "#Protected variable"
   ]
  },
  {
   "cell_type": "code",
   "execution_count": 36,
   "id": "9b85431b-e827-4f1d-9a19-43f259d547ac",
   "metadata": {},
   "outputs": [
    {
     "data": {
      "text/plain": [
       "5"
      ]
     },
     "execution_count": 36,
     "metadata": {},
     "output_type": "execute_result"
    }
   ],
   "source": [
    "class Protected:\n",
    "    def __init__(self,x):\n",
    "        self._x=x\n",
    "       \n",
    "obj=Protected(5) \n",
    "obj._x"
   ]
  },
  {
   "cell_type": "code",
   "execution_count": 51,
   "id": "bb66a4cd-6e28-47f0-beff-448e250014d9",
   "metadata": {},
   "outputs": [
    {
     "data": {
      "text/plain": [
       "'shubham'"
      ]
     },
     "execution_count": 51,
     "metadata": {},
     "output_type": "execute_result"
    }
   ],
   "source": [
    "class Person:\n",
    "    def __init__(self,name):\n",
    "        self.__name=name\n",
    "        \n",
    "    def get_method(self):\n",
    "        return self.__name\n",
    "    \n",
    "    def set_method(self,new_name):\n",
    "        self.__name=new_name\n",
    "        return self.__name\n",
    "        \n",
    "    \n",
    "   \n",
    "p=Person(\"shubham\")  \n",
    "p.get_method()"
   ]
  },
  {
   "cell_type": "code",
   "execution_count": 52,
   "id": "0c9146f2-1e54-48dd-9292-92c2c1334a67",
   "metadata": {},
   "outputs": [
    {
     "data": {
      "text/plain": [
       "'rohan'"
      ]
     },
     "execution_count": 52,
     "metadata": {},
     "output_type": "execute_result"
    }
   ],
   "source": [
    "p.set_method(\"rohan\")"
   ]
  },
  {
   "cell_type": "code",
   "execution_count": 37,
   "id": "f6b3eb6c-7bc8-4f2b-bc29-23aca93d8d5a",
   "metadata": {},
   "outputs": [],
   "source": [
    "#Getter:A getter method is used to retrieve the value of a private instance variable.\n",
    "#Setter : A setter method is used to modify the value of a private instance variable"
   ]
  },
  {
   "cell_type": "code",
   "execution_count": 53,
   "id": "69a0e8cf-1584-4eb7-9c24-da3393bc7e6c",
   "metadata": {},
   "outputs": [],
   "source": [
    "class a:\n",
    "    def __init__(self,x):\n",
    "        self.__x=x\n",
    "        \n",
    "    def set_method(self):\n",
    "        return self.__x\n",
    "    \n",
    "    def get_method(self,y):\n",
    "        self.__x=y\n",
    "        return self.__x\n",
    "    "
   ]
  },
  {
   "cell_type": "code",
   "execution_count": 57,
   "id": "4761acde-e706-44a9-beae-47cf02416b09",
   "metadata": {},
   "outputs": [
    {
     "data": {
      "text/plain": [
       "3"
      ]
     },
     "execution_count": 57,
     "metadata": {},
     "output_type": "execute_result"
    }
   ],
   "source": [
    "a1=a(4)\n",
    "a1.get_method(3)"
   ]
  },
  {
   "cell_type": "code",
   "execution_count": 58,
   "id": "16160e5e-57a2-4b9e-af74-3a85a66be4e1",
   "metadata": {},
   "outputs": [
    {
     "data": {
      "text/plain": [
       "3"
      ]
     },
     "execution_count": 58,
     "metadata": {},
     "output_type": "execute_result"
    }
   ],
   "source": [
    "a1.set_method()"
   ]
  },
  {
   "cell_type": "code",
   "execution_count": 59,
   "id": "a05e2a71-e1d3-40ac-a0ae-8558f0f55e41",
   "metadata": {},
   "outputs": [],
   "source": [
    "#Name mangling:Name mangling in Python is a technique used to make the names of attributes in a class more unique to avoid accidental name conflicts in the case of inheritance. It is primarily used to enhance encapsulation by making certain attributes of a class more private.\n",
    "\n",
    "#In Python, there is no strict enforcement of access modifiers like private or protected as in some other programming languages. However, by convention, a single leading underscore (e.g., _variable) indicates a weak \"internal use\" variable, and it is considered protected. A double leading underscore (e.g., __variable) initiates name mangling.\n",
    "\n",
    "#When name mangling is applied to an attribute with a double leading underscore in a class, the Python interpreter changes the name of the attribute to include the class name as a prefix and a leading underscore. This modification is done to avoid accidental name clashes with attributes in subclasses. The actual name of the attribute becomes _classname__variable."
   ]
  },
  {
   "cell_type": "code",
   "execution_count": 60,
   "id": "8c264b29-41e4-4224-9bec-09234dfca067",
   "metadata": {},
   "outputs": [
    {
     "data": {
      "text/plain": [
       "42"
      ]
     },
     "execution_count": 60,
     "metadata": {},
     "output_type": "execute_result"
    }
   ],
   "source": [
    "class example:\n",
    "    def __init__(self):\n",
    "        self.__x=42\n",
    "        \n",
    "        \n",
    "obj=example()\n",
    "obj._example__x"
   ]
  },
  {
   "cell_type": "code",
   "execution_count": 61,
   "id": "99111247-8a27-469f-9115-d93e7f9e6e20",
   "metadata": {},
   "outputs": [],
   "source": [
    "#Create a Python class called `BankAccount` with private attributes for the account balance (`__balance`)"
   ]
  },
  {
   "cell_type": "code",
   "execution_count": 68,
   "id": "0a0d4e3b-dd3d-40ea-866c-44127bc7e5e3",
   "metadata": {},
   "outputs": [
    {
     "data": {
      "text/plain": [
       "65000"
      ]
     },
     "execution_count": 68,
     "metadata": {},
     "output_type": "execute_result"
    }
   ],
   "source": [
    "class Bankaccount:\n",
    "    def __init__(self,accountbalance,accountnumber):\n",
    "        self.__acccountbalance=accountbalance\n",
    "        self.__accountnumber=accountnumber\n",
    "        \n",
    "    def deposit_money(self,account_balance,account_number):\n",
    "        self.__accountbalance=account_balance\n",
    "        self.__accountnumber=account_number\n",
    "        \n",
    "        if account_number==\"123457\":\n",
    "            account_balance=account_balance+20000\n",
    "            return account_balance\n",
    "        else:\n",
    "            return \"account number is valid\"\n",
    "    \n",
    "    def withdraw_money(self,accountbalance1,accountnumber1):\n",
    "        self.__accountbalance=accountbalance1\n",
    "        self.__accountnumber=accountnumber1\n",
    "        \n",
    "        if accountnumber1==\"123457\":\n",
    "            accountbalance1=accountbalance1-2000\n",
    "            return accountbalance1\n",
    "        else:\n",
    "            return \"account number is not valid\"\n",
    "        \n",
    "        \n",
    "    \n",
    "obj=Bankaccount(42000,\"123457\")\n",
    "obj.deposit_money(45000,\"123457\")\n",
    "#obj.withdraw_money(25000,\"12475\")\n",
    "    \n",
    "    \n",
    "    "
   ]
  },
  {
   "cell_type": "code",
   "execution_count": 69,
   "id": "4d14420c-ef65-4d8b-98ed-6473e620a819",
   "metadata": {},
   "outputs": [
    {
     "data": {
      "text/plain": [
       "'account number is not valid'"
      ]
     },
     "execution_count": 69,
     "metadata": {},
     "output_type": "execute_result"
    }
   ],
   "source": [
    "obj.withdraw_money(45000,\"12458\")"
   ]
  },
  {
   "cell_type": "code",
   "execution_count": 70,
   "id": "e779a105-5b67-495e-a5bf-b21c9c7cc76e",
   "metadata": {},
   "outputs": [],
   "source": [
    "#Discuss the advantages of encapsulation in terms of code maintainability and security."
   ]
  },
  {
   "cell_type": "code",
   "execution_count": null,
   "id": "aa227657-aa8c-42e4-9b78-47f04c33c7d2",
   "metadata": {},
   "outputs": [],
   "source": [
    "#Improved Security: By encapsulating data and providing controlled access through methods, encapsulation helps in building a more secure codebase. It limits direct access to variables and ensures that data is accessed and modified only through defined interfaces, reducing the risk of unintended data manipulation.\n",
    "\n",
    "#Code Reusability: Encapsulation encourages the creation of reusable components. Once a class is encapsulated properly, it can be reused in different parts of the code or even in different projects without affecting the existing functionality."
   ]
  },
  {
   "cell_type": "code",
   "execution_count": 71,
   "id": "42230d19-2251-4ddd-bf22-4e477d5d0161",
   "metadata": {},
   "outputs": [],
   "source": [
    "#10. How can you access private attributes in Python? Provide an example demonstrating the use of name\n",
    "#mangling."
   ]
  },
  {
   "cell_type": "code",
   "execution_count": 78,
   "id": "06499645-0a38-4dfb-b0d8-70b64b84b77e",
   "metadata": {},
   "outputs": [
    {
     "data": {
      "text/plain": [
       "4"
      ]
     },
     "execution_count": 78,
     "metadata": {},
     "output_type": "execute_result"
    }
   ],
   "source": [
    "class example:\n",
    "    def __init__(self,x):\n",
    "        self.__x=x\n",
    "        \n",
    "obj=example(4)\n",
    "obj._example__x  #------Python Mangling"
   ]
  },
  {
   "cell_type": "code",
   "execution_count": 79,
   "id": "da080400-e20d-492b-bdc1-110caa88e20b",
   "metadata": {},
   "outputs": [],
   "source": [
    "#11. Create a Python class hierarchy for a school system, including classes for students, teachers, and courses,\n",
    "#and implement encapsulation principles to protect sensitive information."
   ]
  },
  {
   "cell_type": "code",
   "execution_count": 98,
   "id": "947ba3d9-a8ee-4477-af10-fe41472b3783",
   "metadata": {},
   "outputs": [],
   "source": [
    "class Student:\n",
    "    def __init__(self,name,age):\n",
    "        self.__name=name\n",
    "        self.__age=age\n",
    "        \n",
    "    def Student_Details(self):\n",
    "        return self.__name\n",
    "    \n",
    "class Teachers:\n",
    "    def __init__(self,name,experience):\n",
    "        self.__name=name\n",
    "        self.__experience=experience\n",
    "        \n",
    "        def teachers_details(self,name1,experience1):\n",
    "            self.__name=name1\n",
    "            self.__experience=experience1\n",
    "            \n",
    "            if experience1==5:\n",
    "                return self.__name\n",
    "            else:\n",
    "                return \"invalid input\"\n",
    "                \n",
    "            \n",
    "class Courses:\n",
    "    def __init__(self,coursename):\n",
    "        self.__coursename=coursename\n",
    "        \n",
    "        def course_details(self,coursename1):\n",
    "            self.__coursename=coursename1\n",
    "            \n",
    "            if coursename1==\"CSE\":\n",
    "                return self.__coursename1\n",
    "            else:\n",
    "                pass\n",
    "            \n",
    "            \n",
    "    "
   ]
  },
  {
   "cell_type": "code",
   "execution_count": 99,
   "id": "01bbb71b-a146-4c0b-b5ae-345b4a98fff1",
   "metadata": {},
   "outputs": [
    {
     "data": {
      "text/plain": [
       "'shubham'"
      ]
     },
     "execution_count": 99,
     "metadata": {},
     "output_type": "execute_result"
    }
   ],
   "source": [
    "s=Student(\"shubham\",24)\n",
    "s.Student_Details()"
   ]
  },
  {
   "cell_type": "code",
   "execution_count": 100,
   "id": "8e902407-44cc-44fe-ae2c-15c9bafde916",
   "metadata": {},
   "outputs": [],
   "source": [
    "#s._Student__name"
   ]
  },
  {
   "cell_type": "code",
   "execution_count": 101,
   "id": "86bf3797-9548-4ceb-94b0-20572930d8a2",
   "metadata": {},
   "outputs": [],
   "source": [
    "t=Teachers(\"shubham\",5)"
   ]
  },
  {
   "cell_type": "code",
   "execution_count": 102,
   "id": "1703e839-8732-4cf3-aa8e-22a59b41ad7b",
   "metadata": {},
   "outputs": [],
   "source": [
    "#In Python, property decorators are a way to define getter, setter, and deleter methods for class attributes, allowing you to encapsulate the access and modification of class properties. They are used to create properties, which are special attributes with getter, setter, and deleter methods that control the access, assignment, and deletion of the associated attribute."
   ]
  },
  {
   "cell_type": "code",
   "execution_count": 106,
   "id": "4aefe812-14eb-414b-a478-c104e4161853",
   "metadata": {},
   "outputs": [],
   "source": [
    "class Circle:\n",
    "    def __init__(self,radius):\n",
    "        self.__radius=radius\n",
    "        \n",
    "    @property \n",
    "    def radius(self):\n",
    "        return self.__radius\n",
    "    \n",
    "    @property\n",
    "    def radius(self,value):\n",
    "        self.__radius=value\n",
    "        if value < 0:\n",
    "            raise ValueError(\"Radius cannot be negative\")\n",
    "        else:\n",
    "            self._radius = value\n",
    "        "
   ]
  },
  {
   "cell_type": "code",
   "execution_count": 113,
   "id": "1eae930d-3362-4fbb-985c-b44b329389f3",
   "metadata": {},
   "outputs": [],
   "source": [
    "c=Circle(5)"
   ]
  },
  {
   "cell_type": "code",
   "execution_count": 115,
   "id": "31b1908a-aece-48c5-bb5f-a1fe653799b9",
   "metadata": {},
   "outputs": [],
   "source": [
    "#Data hiding in Python is the method to prevent access to specific users in the application. Data hiding in Python is done by using a double underscore before (prefix) the attribute name. This makes the attribute private/ inaccessible and hides them from users."
   ]
  },
  {
   "cell_type": "code",
   "execution_count": 126,
   "id": "b92c097c-265b-467a-bfff-1830cd3bd73a",
   "metadata": {},
   "outputs": [
    {
     "data": {
      "text/plain": [
       "6000"
      ]
     },
     "execution_count": 126,
     "metadata": {},
     "output_type": "execute_result"
    }
   ],
   "source": [
    "class Bankaccount:\n",
    "    def __init__(self,balance):\n",
    "        self.__balance=balance\n",
    "        \n",
    "    def deposit(self,amount):\n",
    "        self.__balance+=amount\n",
    "        \n",
    "    def withdraw(self,amount):\n",
    "        if amount<=self.__balance:\n",
    "            self.__balance-=amount\n",
    "        else:\n",
    "            print(\"Insufficient funds\")\n",
    "            \n",
    "    def get_balance(self):\n",
    "        return self.__balance\n",
    "            \n",
    "      \n",
    "    \n",
    "b=Bankaccount(2000)\n",
    "b.deposit(4000)\n",
    "b.get_balance()"
   ]
  },
  {
   "cell_type": "code",
   "execution_count": 127,
   "id": "c3bc4c61-ab6f-4798-b71c-d6babf127a9f",
   "metadata": {},
   "outputs": [
    {
     "data": {
      "text/plain": [
       "6000"
      ]
     },
     "execution_count": 127,
     "metadata": {},
     "output_type": "execute_result"
    }
   ],
   "source": [
    "b.get_balance()"
   ]
  },
  {
   "cell_type": "code",
   "execution_count": 128,
   "id": "394cc2b9-f57e-4e70-ab80-a01edfade129",
   "metadata": {},
   "outputs": [],
   "source": [
    "b.withdraw(2000)"
   ]
  },
  {
   "cell_type": "code",
   "execution_count": 129,
   "id": "7f48cb3a-9c85-4d08-9891-22127440bcbe",
   "metadata": {},
   "outputs": [
    {
     "data": {
      "text/plain": [
       "4000"
      ]
     },
     "execution_count": 129,
     "metadata": {},
     "output_type": "execute_result"
    }
   ],
   "source": [
    "b.get_balance()"
   ]
  },
  {
   "cell_type": "code",
   "execution_count": 130,
   "id": "2a444867-4b06-4096-8795-73382f562507",
   "metadata": {},
   "outputs": [],
   "source": [
    "#14. Create a Python class called `Employee` with private attributes for salary (`__salary`) and employee ID (`__employee_id`). Provide a method to calculate yearly bonuses."
   ]
  },
  {
   "cell_type": "code",
   "execution_count": 133,
   "id": "fd67b380-1a4d-4f34-9377-e81d9e7b19c9",
   "metadata": {},
   "outputs": [
    {
     "data": {
      "text/plain": [
       "2"
      ]
     },
     "execution_count": 133,
     "metadata": {},
     "output_type": "execute_result"
    }
   ],
   "source": [
    "class employee:\n",
    "    def __init__(self,salary,empid):\n",
    "        self.__salary=salary\n",
    "        self.__empid=empid\n",
    "        \n",
    "    def get_salary(self):\n",
    "        return self.__salary\n",
    "    \n",
    "    def get_emp_id(self):\n",
    "        return self.__empid\n",
    "    \n",
    "    def set_salary(self,newsalary):\n",
    "        self.__salary=newsalary\n",
    "        \n",
    "    def set_emp_id(self,empid):\n",
    "        self.__empid=empid\n",
    "        \n",
    "    def yearlybonus(self,bonuspercentage):\n",
    "        bonusamount=bonuspercentage*100+self.__salary\n",
    "        return bonusamount\n",
    "    \n",
    "    \n",
    "        \n",
    "e=employee(30000,2)\n",
    "e.get_emp_id()"
   ]
  },
  {
   "cell_type": "code",
   "execution_count": 134,
   "id": "3fbb79d0-f3f1-4318-82e4-ec0bbb60d278",
   "metadata": {},
   "outputs": [
    {
     "data": {
      "text/plain": [
       "30000"
      ]
     },
     "execution_count": 134,
     "metadata": {},
     "output_type": "execute_result"
    }
   ],
   "source": [
    "e.get_salary()"
   ]
  },
  {
   "cell_type": "code",
   "execution_count": 135,
   "id": "6d18d251-23e2-4c58-ae22-500a5eba6d0a",
   "metadata": {},
   "outputs": [],
   "source": [
    "e.set_emp_id(3)"
   ]
  },
  {
   "cell_type": "code",
   "execution_count": 136,
   "id": "be01163c-9fd0-4fa3-9baa-2add74a9950a",
   "metadata": {},
   "outputs": [
    {
     "data": {
      "text/plain": [
       "3"
      ]
     },
     "execution_count": 136,
     "metadata": {},
     "output_type": "execute_result"
    }
   ],
   "source": [
    "e.get_emp_id()"
   ]
  },
  {
   "cell_type": "code",
   "execution_count": 137,
   "id": "c3499d46-4e7c-4841-ae44-35e447ae48f0",
   "metadata": {},
   "outputs": [
    {
     "data": {
      "text/plain": [
       "33000"
      ]
     },
     "execution_count": 137,
     "metadata": {},
     "output_type": "execute_result"
    }
   ],
   "source": [
    "e.yearlybonus(30)"
   ]
  },
  {
   "cell_type": "code",
   "execution_count": 138,
   "id": "6e014414-8465-45ea-945d-6ec75e4aa734",
   "metadata": {},
   "outputs": [],
   "source": [
    "#Answer: Accessors (getters) are methods that retrieve the values of an object's attributes, while mutators (setters) are methods that modify the values of attributes. They are used to control access to object data, enforcing encapsulation and data integrity."
   ]
  },
  {
   "cell_type": "code",
   "execution_count": 139,
   "id": "6c52940c-fe68-459c-b561-874ac7c1de82",
   "metadata": {},
   "outputs": [],
   "source": [
    "#Disadvantages of Encapsulation in Python Language\n",
    "#Increased Complexity: Encapsulation can introduce additional complexity to the codebase, especially when getter and setter methods are used extensively. This complexity can make the code harder to read and maintain, particularly in large projects."
   ]
  },
  {
   "cell_type": "code",
   "execution_count": 140,
   "id": "d9afac83-f86d-4877-985a-e2dec5cdbd8b",
   "metadata": {},
   "outputs": [],
   "source": [
    "#Create a Python class for a library system that encapsulates book information, including titles, authors,\n",
    "#and availability status."
   ]
  },
  {
   "cell_type": "code",
   "execution_count": 3,
   "id": "fd687125-c53e-453e-b9f7-02c71f5ca51d",
   "metadata": {},
   "outputs": [
    {
     "data": {
      "text/plain": [
       "'xyz'"
      ]
     },
     "execution_count": 3,
     "metadata": {},
     "output_type": "execute_result"
    }
   ],
   "source": [
    "class Library:\n",
    "    def __init__(self,titles,authors,status):\n",
    "        self.__titles=titles\n",
    "        self.__authors=authors\n",
    "        self.__status=status\n",
    "        \n",
    "    def get_titles(self):\n",
    "        return self.__titles\n",
    "    \n",
    "    def get_authors(self):\n",
    "        return self.__authors\n",
    "    \n",
    "    def set_titles(self,new_title):\n",
    "        self.__titles=new_title\n",
    "        \n",
    "    def set_authors(self,new_author):\n",
    "        self.__authors=new_author\n",
    "        \n",
    "    def get_status(self):\n",
    "        return self.__status\n",
    "    \n",
    "        \n",
    "    \n",
    "lib=Library(\"xyz\",\"CVRaman\",\"available\")   \n",
    "lib.get_titles()\n",
    "        "
   ]
  },
  {
   "cell_type": "code",
   "execution_count": 4,
   "id": "0476fb26-26bd-4fee-9fa4-9f27c0e21013",
   "metadata": {},
   "outputs": [
    {
     "data": {
      "text/plain": [
       "'available'"
      ]
     },
     "execution_count": 4,
     "metadata": {},
     "output_type": "execute_result"
    }
   ],
   "source": [
    "lib.get_status()"
   ]
  },
  {
   "cell_type": "code",
   "execution_count": 5,
   "id": "d39c8efe-0407-47fa-aad5-232e6bc50ba8",
   "metadata": {},
   "outputs": [
    {
     "data": {
      "text/plain": [
       "'CVRaman'"
      ]
     },
     "execution_count": 5,
     "metadata": {},
     "output_type": "execute_result"
    }
   ],
   "source": [
    "lib.get_authors()"
   ]
  },
  {
   "cell_type": "code",
   "execution_count": 6,
   "id": "5ec33921-58e3-4eb3-8e4e-a33fb2825d11",
   "metadata": {},
   "outputs": [],
   "source": [
    "lib.set_titles(\"abc\")"
   ]
  },
  {
   "cell_type": "code",
   "execution_count": 7,
   "id": "e21f4c64-8a4e-4787-a364-13f983822af0",
   "metadata": {},
   "outputs": [
    {
     "data": {
      "text/plain": [
       "'abc'"
      ]
     },
     "execution_count": 7,
     "metadata": {},
     "output_type": "execute_result"
    }
   ],
   "source": [
    "lib.get_titles()"
   ]
  },
  {
   "cell_type": "code",
   "execution_count": 46,
   "id": "7baf84ef-5c44-4096-961b-c1e729177793",
   "metadata": {},
   "outputs": [],
   "source": [
    "#Encapsulation promotes code reusability by encapsulating related functionalities within a class. Once you've defined a class with well-defined attributes and methods, you can reuse that class in different parts of your program or in different programs altogether.\n",
    "#Other developers can also reuse your class in their projects without needing to understand the internal implementation details, resulting in more modular and maintainable code.\n",
    "#Modularity:Encapsulation contributes to modularity by organizing code into self-contained units (classes). Each class represents a module with a specific responsibility or functionality.\n",
    "#Changes to the internal implementation of a class do not affect the rest of the program as long as the external interface (public methods) remains unchanged. This isolation of implementation details enhances modularity and simplifies maintenance."
   ]
  },
  {
   "cell_type": "code",
   "execution_count": 47,
   "id": "142aa9be-857d-4a45-8f3d-4ece7cb56212",
   "metadata": {},
   "outputs": [],
   "source": [
    "#information hiding in encapsulation is essential for creating robust, secure, and maintainable software"
   ]
  },
  {
   "cell_type": "code",
   "execution_count": 49,
   "id": "dc6dbd29-77f2-4e1d-ab1c-e6104a7c4f93",
   "metadata": {},
   "outputs": [],
   "source": [
    "class Customer:\n",
    "    def __init__(self,name,address,contactinfo):\n",
    "        self.__name=name\n",
    "        self.__address=address\n",
    "        self.__contactinfo=contactinfo\n",
    "        \n",
    "    def get_name(self):\n",
    "        return self.__name\n",
    "    \n",
    "    def get_address(self):\n",
    "        return self.__address\n",
    "    \n",
    "    def get_contactinfo(self):\n",
    "        return self.__contactinfo\n",
    "    \n",
    "    def set_name(self,n):\n",
    "        self.__name=n\n",
    "        return self.__name\n",
    "        \n",
    "    def set_address(self,a):\n",
    "        self.__address=a\n",
    "        return self.__address\n",
    "        \n",
    "    def set_contactinfo(self,c):\n",
    "        self.__contactinfo=c\n",
    "        return self.__contactinfo\n",
    "    \n",
    "c=Customer(\"Shubham\",\"delhi\",1234567890)"
   ]
  },
  {
   "cell_type": "code",
   "execution_count": 50,
   "id": "c7628f95-f090-40bd-97d8-5c293eb667fb",
   "metadata": {},
   "outputs": [
    {
     "data": {
      "text/plain": [
       "'Shubham'"
      ]
     },
     "execution_count": 50,
     "metadata": {},
     "output_type": "execute_result"
    }
   ],
   "source": [
    "c.get_name()"
   ]
  },
  {
   "cell_type": "code",
   "execution_count": 51,
   "id": "c6fc5bbe-f3fa-4ed0-8760-0dc9b08540ab",
   "metadata": {},
   "outputs": [
    {
     "data": {
      "text/plain": [
       "1234567890"
      ]
     },
     "execution_count": 51,
     "metadata": {},
     "output_type": "execute_result"
    }
   ],
   "source": [
    "c.get_contactinfo()"
   ]
  },
  {
   "cell_type": "code",
   "execution_count": 52,
   "id": "11918b6d-1b3a-434b-9242-755e2f61217d",
   "metadata": {},
   "outputs": [
    {
     "data": {
      "text/plain": [
       "'delhi'"
      ]
     },
     "execution_count": 52,
     "metadata": {},
     "output_type": "execute_result"
    }
   ],
   "source": [
    "c.get_address()"
   ]
  },
  {
   "cell_type": "code",
   "execution_count": 53,
   "id": "79b77ed0-49d7-420e-b659-a9453aa5c4ec",
   "metadata": {},
   "outputs": [
    {
     "data": {
      "text/plain": [
       "'rohan'"
      ]
     },
     "execution_count": 53,
     "metadata": {},
     "output_type": "execute_result"
    }
   ],
   "source": [
    "c.set_name(\"rohan\")"
   ]
  },
  {
   "cell_type": "code",
   "execution_count": 1,
   "id": "21fd41b9-db90-4460-a056-13602047c0bd",
   "metadata": {},
   "outputs": [],
   "source": [
    "#In Python, a constructor is a special method that is automatically called when an object of a class is created. It is named __init__ and is used to initialize the attributes of the object. The purpose of a constructor is to set up the initial state of an object, allowing you to perform any necessary setup or initialization tasks."
   ]
  },
  {
   "cell_type": "code",
   "execution_count": 3,
   "id": "6e0c7441-28f1-4c70-afd6-366e45f7a7be",
   "metadata": {},
   "outputs": [],
   "source": [
    "#Differentiate between a parameterless constructor and a parameterized constructor in Python."
   ]
  },
  {
   "cell_type": "code",
   "execution_count": 2,
   "id": "a45a2963-1f8b-49aa-b716-0b5d39384fc7",
   "metadata": {},
   "outputs": [],
   "source": [
    "#A parameterless constructor has no arguments to it , but a parametrised constructor has arguments to it."
   ]
  },
  {
   "cell_type": "code",
   "execution_count": 4,
   "id": "dc213bb9-3552-4afc-96ea-485b7b27fd95",
   "metadata": {},
   "outputs": [],
   "source": [
    "#3. How do you define a constructor in a Python class? Provide an example."
   ]
  },
  {
   "cell_type": "code",
   "execution_count": 5,
   "id": "113a20c8-8e98-4ffc-8fed-2a668fe687fe",
   "metadata": {},
   "outputs": [],
   "source": [
    "#We can define a constructor in python classs by using __init__()"
   ]
  },
  {
   "cell_type": "code",
   "execution_count": 7,
   "id": "833ccc0f-7965-4f4d-b026-40f3b5549f3e",
   "metadata": {},
   "outputs": [
    {
     "name": "stdout",
     "output_type": "stream",
     "text": [
      "shubham\n"
     ]
    }
   ],
   "source": [
    "class a:\n",
    "    def __init__(self,name):\n",
    "        self.name=name\n",
    "        print(self.name)\n",
    "        \n",
    "a1=a(\"shubham\")        "
   ]
  },
  {
   "cell_type": "code",
   "execution_count": 8,
   "id": "e6c5c812-45ee-496d-bfec-cb4b1aa57953",
   "metadata": {},
   "outputs": [],
   "source": [
    "#In Python, the __init__ method is a special method that plays a crucial role in constructors. It is automatically called when an object of a class is created. The name __init__ stands for \"initialize,\" and its primary purpose is to initialize the attributes of the object, setting up its initial state."
   ]
  },
  {
   "cell_type": "code",
   "execution_count": 9,
   "id": "2b8ba6b8-6fee-480d-abbf-0566f45a7135",
   "metadata": {},
   "outputs": [],
   "source": [
    "#Roles: initialisation,automatic invocation"
   ]
  },
  {
   "cell_type": "code",
   "execution_count": 10,
   "id": "a6977ba6-41ce-4a53-b637-3e538aefcfb3",
   "metadata": {},
   "outputs": [],
   "source": [
    "#In a class named `Person`, create a constructor that initializes the `name` and `age` attributes. Provide an\n",
    "#example of creating an object of this class."
   ]
  },
  {
   "cell_type": "code",
   "execution_count": 11,
   "id": "e6a1ac67-66e8-4dfa-a581-f4c5acb9c536",
   "metadata": {},
   "outputs": [
    {
     "data": {
      "text/plain": [
       "'shubham'"
      ]
     },
     "execution_count": 11,
     "metadata": {},
     "output_type": "execute_result"
    }
   ],
   "source": [
    "class Person:\n",
    "    def __init__(self,name,age):\n",
    "        self.name=name\n",
    "        self.age=age\n",
    "        \n",
    "Ram=Person(\"shubham\",23)\n",
    "Ram.age\n",
    "Ram.name"
   ]
  },
  {
   "cell_type": "code",
   "execution_count": 13,
   "id": "58323f43-dbbc-4140-b348-319e3aa97589",
   "metadata": {},
   "outputs": [
    {
     "data": {
      "text/plain": [
       "23"
      ]
     },
     "execution_count": 13,
     "metadata": {},
     "output_type": "execute_result"
    }
   ],
   "source": [
    "Ram.age"
   ]
  },
  {
   "cell_type": "code",
   "execution_count": 14,
   "id": "eafd27f1-4907-46f8-8a49-7eb68a88a198",
   "metadata": {},
   "outputs": [],
   "source": [
    "#6. How can you call a constructor explicitly in Python? Give an example."
   ]
  },
  {
   "cell_type": "code",
   "execution_count": 15,
   "id": "380cf9d5-b39a-4770-9372-adbf0d214f5c",
   "metadata": {},
   "outputs": [],
   "source": [
    "#To call a constructor explicitly, you use the class name and the .__init__ method, passing an instance of the class as the first argument (self)"
   ]
  },
  {
   "cell_type": "code",
   "execution_count": 18,
   "id": "86c03002-a1bb-444d-8049-7a89b47f9200",
   "metadata": {},
   "outputs": [],
   "source": [
    "class Person:\n",
    "    def __init__(self,name,age):\n",
    "        self.name=name\n",
    "        self.age=age\n",
    "        \n",
    "obj1=Person(name=\"shubham\",age=24)\n",
    "obj2=Person.__init__(obj1,name=\"rohan\",age=24)"
   ]
  },
  {
   "cell_type": "code",
   "execution_count": 23,
   "id": "05aa66e7-d29d-40b4-b824-d5e4aaf92551",
   "metadata": {},
   "outputs": [
    {
     "name": "stdout",
     "output_type": "stream",
     "text": [
      "obj1 attributes: name=rohan, age=24\n"
     ]
    }
   ],
   "source": [
    "print(f\"obj1 attributes: name={obj1.name}, age={obj1.age}\")\n",
    "#print(f\"obj2 attributes: name={obj2.name}, age={obj2.age}\")"
   ]
  },
  {
   "cell_type": "code",
   "execution_count": 28,
   "id": "8e264f48-73de-45e5-8059-085d44d27de6",
   "metadata": {},
   "outputs": [],
   "source": [
    "# The self parameter allows you to access and modify the attributes of the instance within the class"
   ]
  },
  {
   "cell_type": "code",
   "execution_count": 31,
   "id": "02d5c401-908b-4cc3-9f7d-2641a184fdb5",
   "metadata": {},
   "outputs": [],
   "source": [
    "class a:\n",
    "    def test(self,x,y):\n",
    "        self.x=x\n",
    "        self.y=y\n",
    "        \n",
    "a1=a()"
   ]
  },
  {
   "cell_type": "code",
   "execution_count": 32,
   "id": "35498a98-2d25-4bb7-bde3-367996095f02",
   "metadata": {},
   "outputs": [],
   "source": [
    "a1.test(10,20)"
   ]
  },
  {
   "cell_type": "code",
   "execution_count": 33,
   "id": "3fce3a98-0177-4370-aa0b-540ad9f2384a",
   "metadata": {},
   "outputs": [
    {
     "data": {
      "text/plain": [
       "10"
      ]
     },
     "execution_count": 33,
     "metadata": {},
     "output_type": "execute_result"
    }
   ],
   "source": [
    "a1.x"
   ]
  },
  {
   "cell_type": "code",
   "execution_count": 34,
   "id": "aaee3d89-c880-4d50-8408-f5d1c2b350f6",
   "metadata": {},
   "outputs": [
    {
     "data": {
      "text/plain": [
       "20"
      ]
     },
     "execution_count": 34,
     "metadata": {},
     "output_type": "execute_result"
    }
   ],
   "source": [
    "a1.y"
   ]
  },
  {
   "cell_type": "code",
   "execution_count": 35,
   "id": "b15b1ef4-fbbc-45e2-b492-7e03b1fce31b",
   "metadata": {},
   "outputs": [],
   "source": [
    "#If a class doesn't have an __init__ method, Python creates a default constructor for it. This default constructor doesn't perform any special initialization; it's an empty method that simply passes."
   ]
  },
  {
   "cell_type": "code",
   "execution_count": 36,
   "id": "1b52248d-2690-4642-b8ff-bae7bce6ad35",
   "metadata": {},
   "outputs": [],
   "source": [
    "class abc:\n",
    "    pass\n",
    "\n",
    "obj=abc()"
   ]
  },
  {
   "cell_type": "code",
   "execution_count": 37,
   "id": "81e90e2d-53ec-4b86-9e0a-8d40a41ef786",
   "metadata": {},
   "outputs": [],
   "source": [
    "#When are default constructors used?\n",
    "#Implicit Creation: Default constructors are used when a class does not have an explicitly defined __init__ method. If you don't provide a constructor in your class, Python will automatically use the default constructor when creating instances.\n",
    "\n",
    "#Minimal Initialization: In cases where a class doesn't require any special initialization, you might choose not to define a custom constructor. The default constructor then serves to ensure that instances of the class can still be created and used.\n",
    "\n",
    "#Inheritance: If a class inherits from another class and doesn't provide its own __init__ method, it will inherit the default constructor from the parent class. In this way, default constructors can be part of the inheritance chain."
   ]
  },
  {
   "cell_type": "code",
   "execution_count": 38,
   "id": "c6678eed-70bd-4d76-8951-84d98fcdd65e",
   "metadata": {},
   "outputs": [],
   "source": [
    "#9. Create a Python class called `Rectangle` with a constructor that initializes the `width` and `height`\n",
    "#attributes. Provide a method to calculate the area of the rectangle."
   ]
  },
  {
   "cell_type": "code",
   "execution_count": 40,
   "id": "0ce48f72-e6a0-44a3-b4a0-38b401f8a90b",
   "metadata": {},
   "outputs": [
    {
     "name": "stdout",
     "output_type": "stream",
     "text": [
      "120\n"
     ]
    }
   ],
   "source": [
    "class Rectangle:\n",
    "    def __init__(self,width,height):\n",
    "        self.width=width\n",
    "        self.height=height\n",
    "        \n",
    "    def Area(self):\n",
    "        a=self.width*self.height\n",
    "        print(a)\n",
    "        \n",
    "r=Rectangle(12,10)\n",
    "r.Area()"
   ]
  },
  {
   "cell_type": "code",
   "execution_count": 1,
   "id": "d3293a53-8d6c-4e81-b322-27a1bb1c256c",
   "metadata": {},
   "outputs": [],
   "source": [
    "#In Python, a class can't have multiple constructors in the same way that some other programming languages support method overloading. However, you can achieve similar functionality by using default parameter values and class methods."
   ]
  },
  {
   "cell_type": "code",
   "execution_count": 2,
   "id": "920250c7-0080-4f77-8210-c9f0d3df6e3d",
   "metadata": {},
   "outputs": [
    {
     "data": {
      "text/plain": [
       "0"
      ]
     },
     "execution_count": 2,
     "metadata": {},
     "output_type": "execute_result"
    }
   ],
   "source": [
    "class person:\n",
    "    def __init__(self,x=0,y=0):\n",
    "        self.x=x\n",
    "        self.y=y\n",
    "        \n",
    "ram=person()\n",
    "ram.x\n",
    "        "
   ]
  },
  {
   "cell_type": "code",
   "execution_count": 3,
   "id": "2f4d3a99-b643-4f10-a2e6-dfcb0f3e2928",
   "metadata": {},
   "outputs": [],
   "source": [
    "shubham=person(x=10,y=20)"
   ]
  },
  {
   "cell_type": "code",
   "execution_count": 4,
   "id": "c6b6761d-9702-4a5c-bcd2-f43b567f5abb",
   "metadata": {},
   "outputs": [
    {
     "data": {
      "text/plain": [
       "10"
      ]
     },
     "execution_count": 4,
     "metadata": {},
     "output_type": "execute_result"
    }
   ],
   "source": [
    "shubham.x"
   ]
  },
  {
   "cell_type": "code",
   "execution_count": 5,
   "id": "0ff4fd8f-f1af-409f-b417-d826884e23a9",
   "metadata": {},
   "outputs": [],
   "source": [
    "#11. What is method overloading, and how is it related to constructors in Python?"
   ]
  },
  {
   "cell_type": "code",
   "execution_count": 6,
   "id": "cc3f0841-54f5-4b4c-b1b9-4135dc1758a8",
   "metadata": {},
   "outputs": [],
   "source": [
    "# Python does not support method overloading in the traditional sense. In Python, if you define multiple methods with the same name in a class, the last method definition will override any previous ones, and only the latest definition will be used.\n",
    "#Despite the lack of explicit method overloading, Python allows you to achieve similar functionality by using default parameter values and variable-length argument lists (*args and **kwargs). This flexibility makes it possible to create functions or methods that can handle different numbers or types of arguments."
   ]
  },
  {
   "cell_type": "code",
   "execution_count": 7,
   "id": "7737907c-2f81-4046-bbaa-1b654c0140d8",
   "metadata": {},
   "outputs": [],
   "source": [
    "#Explain the use of the `super()` function in Python constructors. Provide an example."
   ]
  },
  {
   "cell_type": "code",
   "execution_count": 8,
   "id": "24c7428c-819e-4155-9cb9-4a1bcd19746e",
   "metadata": {},
   "outputs": [],
   "source": [
    "#In Python, the super() function is used to call a method from a parent class. It is commonly used in constructors to invoke the constructor of the parent class, allowing you to initialize the inherited attributes before adding any additional initialization specific to the subclass."
   ]
  },
  {
   "cell_type": "code",
   "execution_count": 20,
   "id": "a69abff1-c1a1-4f3c-b5a4-37f766aa6bf7",
   "metadata": {},
   "outputs": [
    {
     "name": "stdout",
     "output_type": "stream",
     "text": [
      "My dog is a Canine of breed Labrador\n",
      "Woof! Woof!\n"
     ]
    }
   ],
   "source": [
    "class Animal:\n",
    "    def __init__(self, species):\n",
    "        self.species = species\n",
    "\n",
    "    def make_sound(self):\n",
    "        print(\"Generic animal sound\")\n",
    "\n",
    "class Dog(Animal):\n",
    "    def __init__(self, species, breed):\n",
    "        # Calling the constructor of the parent class using super()\n",
    "        super().__init__(species)\n",
    "        self.breed = breed\n",
    "\n",
    "    # Overriding the make_sound method\n",
    "    def make_sound(self):\n",
    "        print(\"Woof! Woof!\")\n",
    "\n",
    "# Creating an instance of the Dog class\n",
    "my_dog = Dog(species=\"Canine\", breed=\"Labrador\")\n",
    "\n",
    "# Accessing attributes and calling methods\n",
    "print(f\"My dog is a {my_dog.species} of breed {my_dog.breed}\")\n",
    "my_dog.make_sound()\n"
   ]
  },
  {
   "cell_type": "code",
   "execution_count": 21,
   "id": "c4cc62a9-f276-424d-877d-aba01a04f634",
   "metadata": {},
   "outputs": [],
   "source": [
    "#Create a class called `Book` with a constructor that initializes the `title`, `author`, and `published_year`\n",
    "#attributes. Provide a method to display book details."
   ]
  },
  {
   "cell_type": "code",
   "execution_count": 24,
   "id": "15c908de-9771-454b-a529-d7f98604bd5d",
   "metadata": {},
   "outputs": [
    {
     "name": "stdout",
     "output_type": "stream",
     "text": [
      "abc MOV 2008\n"
     ]
    }
   ],
   "source": [
    "class book:\n",
    "    def __init__(self,title,author,published_year):\n",
    "        self.title=title\n",
    "        self.author=author\n",
    "        self.published_year=published_year\n",
    "        \n",
    "        \n",
    "    def get_book_details(self):\n",
    "        print(self.title,self.author,self.published_year)\n",
    "\n",
    "b=book(\"abc\",\"MOV\",2008)\n",
    "b.get_book_details()\n",
    "\n",
    "        "
   ]
  },
  {
   "cell_type": "code",
   "execution_count": 25,
   "id": "6893fb91-370f-42cf-918f-f9d099844df9",
   "metadata": {},
   "outputs": [],
   "source": [
    "#14. Discuss the differences between constructors and regular methods in Python classes."
   ]
  },
  {
   "cell_type": "code",
   "execution_count": 26,
   "id": "f06c7c05-5147-4c87-9430-5145f9012c2c",
   "metadata": {},
   "outputs": [
    {
     "data": {
      "text/plain": [
       "\"Constructor: The constructor typically has the name __init__ and takes self (the instance) along with other parameters as needed.\\nRegular Method: Regular methods can have any name and take self along with other parameters based on their functionality.\\nInvocation:\\n\\nConstructor: Constructors are automatically called when an object is created using the class. They are invoked implicitly during object instantiation.\\nRegular Method: Regular methods are called explicitly on an instance of a class. You need to invoke them using the instance and the dot notation (e.g., object.method()).\\nReturn Value:\\n\\nConstructor: Constructors usually do not return a value explicitly. The focus is on initializing the object's state.\\nRegular Method: Regular methods can return values as needed. Their primary purpose is to perform some operation and, optionally, return a result.\""
      ]
     },
     "execution_count": 26,
     "metadata": {},
     "output_type": "execute_result"
    }
   ],
   "source": [
    "#Initialization vs. Regular Operation:\n",
    "\n",
    "#Constructor: The primary purpose of a constructor (usually __init__ method) is to initialize the attributes of an object and set up its initial state. It is called automatically when an object is created.\n",
    "#Regular Method: Regular methods perform various operations on the object and are not specifically intended for initialization. They are called explicitly on an instance of a class.\n",
    "#Name and Signature:\n",
    "\n",
    "'''Constructor: The constructor typically has the name __init__ and takes self (the instance) along with other parameters as needed.\n",
    "Regular Method: Regular methods can have any name and take self along with other parameters based on their functionality.\n",
    "Invocation:\n",
    "\n",
    "Constructor: Constructors are automatically called when an object is created using the class. They are invoked implicitly during object instantiation.\n",
    "Regular Method: Regular methods are called explicitly on an instance of a class. You need to invoke them using the instance and the dot notation (e.g., object.method()).\n",
    "Return Value:\n",
    "\n",
    "Constructor: Constructors usually do not return a value explicitly. The focus is on initializing the object's state.\n",
    "Regular Method: Regular methods can return values as needed. Their primary purpose is to perform some operation and, optionally, return a result.'''"
   ]
  },
  {
   "cell_type": "code",
   "execution_count": 27,
   "id": "fe2d71a7-a657-472f-b046-02349fb1407c",
   "metadata": {},
   "outputs": [],
   "source": [
    "#Explain the role of the `self` parameter in instance variable initialization within a constructor."
   ]
  },
  {
   "cell_type": "code",
   "execution_count": 28,
   "id": "0f7927bb-0355-4aab-b816-1c1fe1b213d6",
   "metadata": {},
   "outputs": [],
   "source": [
    "#In Python, the self parameter in a constructor plays a crucial role in instance variable initialization. The self parameter represents the instance of the class, and it allows you to refer to and manipulate instance variables within the methods of the class, including the constructor (__init__ method)."
   ]
  },
  {
   "cell_type": "code",
   "execution_count": 30,
   "id": "0b99d2ed-c3ff-4f5e-bb8e-abb8319c61f6",
   "metadata": {},
   "outputs": [],
   "source": [
    "#17. Create a Python class called `Student` with a constructor that takes a list of subjects as a parameter and\n",
    "#initializes the `subjects` attribute."
   ]
  },
  {
   "cell_type": "code",
   "execution_count": 31,
   "id": "a29e0eed-8ab9-4481-ae48-143f128e9f1a",
   "metadata": {},
   "outputs": [
    {
     "data": {
      "text/plain": [
       "'ML'"
      ]
     },
     "execution_count": 31,
     "metadata": {},
     "output_type": "execute_result"
    }
   ],
   "source": [
    "class student:\n",
    "    def __init__(self,subject1,subject2):\n",
    "        self.subject1=subject1\n",
    "        self.subject2=subject2\n",
    "        \n",
    "shub=student(\"ML\",\"NLP\")\n",
    "shub.subject1\n",
    "\n"
   ]
  },
  {
   "cell_type": "code",
   "execution_count": 32,
   "id": "36b90ac3-0952-47f6-b1ed-aa74ccfb3cf6",
   "metadata": {},
   "outputs": [],
   "source": [
    "#18. What is the purpose of the `__del__` method in Python classes, and how does it relate to constructors?"
   ]
  },
  {
   "cell_type": "code",
   "execution_count": 33,
   "id": "7e48c091-b867-4aeb-89da-7a97c816ba8b",
   "metadata": {},
   "outputs": [],
   "source": [
    "#The __del__ method in Python is a special method that serves as a destructor for a class. It is called when an object is about to be destroyed or garbage-collected. The primary purpose of the __del__ method is to perform cleanup operations or release resources associated with an object before it is removed from memory."
   ]
  },
  {
   "cell_type": "code",
   "execution_count": 34,
   "id": "cb326f76-f68a-4e6e-bae1-7b24ea74aa3f",
   "metadata": {},
   "outputs": [],
   "source": [
    "#19. Explain the use of constructor chaining in Python. Provide a practical example."
   ]
  },
  {
   "cell_type": "code",
   "execution_count": 35,
   "id": "6e1b128f-a037-43c4-9b8f-1fe842bb6414",
   "metadata": {},
   "outputs": [],
   "source": [
    "#Constructor chaining in Python refers to the process of one constructor calling another constructor, either within the same class or in its parent class (if the class inherits from another class). This allows for the reuse of code and ensures that common initialization logic is shared among multiple constructors."
   ]
  },
  {
   "cell_type": "code",
   "execution_count": null,
   "id": "4319b75f-7891-404c-9f05-b786813be556",
   "metadata": {},
   "outputs": [],
   "source": [
    "class MyClass:\n",
    "    def __init__(self, x, y):\n",
    "        self.x = x\n",
    "        self.y = y\n",
    "\n",
    "    def display_coordinates(self):\n",
    "        print(f\"Coordinates: x={self.x}, y={self.y}\")\n",
    "\n",
    "    def __init__(self, x, y, z):\n",
    "        # Call the constructor with x and y\n",
    "        self.__init__(x, y)\n",
    "        # Additional initialization for z\n",
    "        self.z = z\n",
    "\n",
    "    def display_coordinates_3D(self):\n",
    "        print(f\"3D Coordinates: x={self.x}, y={self.y}, z={self.z}\")\n",
    "\n",
    "# Creating an instance using the second constructor\n",
    "obj = MyClass(x=10, y=20, z=30)\n",
    "\n",
    "# Calling a method that uses the additional initialization\n",
    "obj.display_coordinates_3D()\n"
   ]
  },
  {
   "cell_type": "code",
   "execution_count": 44,
   "id": "9d190b04-10bb-499c-9ca6-dcc519c33e55",
   "metadata": {},
   "outputs": [],
   "source": [
    "#20. Create a Python class called `Car` with a default constructor that initializes the `make` and `model`\n",
    "#attributes. Provide a method to display car information."
   ]
  },
  {
   "cell_type": "code",
   "execution_count": 45,
   "id": "04507ec8-cb63-454f-9c6a-43ee2979e97e",
   "metadata": {},
   "outputs": [
    {
     "name": "stdout",
     "output_type": "stream",
     "text": [
      "2010 new\n"
     ]
    }
   ],
   "source": [
    "class Car:\n",
    "    def __init__(self,make,model):\n",
    "        self.make=make\n",
    "        self.model=model\n",
    "        \n",
    "    def get_car_info(self):\n",
    "        print(self.make,self.model)\n",
    "    \n",
    "    \n",
    "BMW=Car(2010,\"new\")\n",
    "BMW.get_car_info()\n"
   ]
  },
  {
   "cell_type": "code",
   "execution_count": 55,
   "id": "4f4dd952-6cce-4051-9471-c93f1d6e3e47",
   "metadata": {},
   "outputs": [],
   "source": [
    "#1. What is polymorphism in Python? Explain how it is related to object-oriented programming."
   ]
  },
  {
   "cell_type": "code",
   "execution_count": 56,
   "id": "2157c90b-a5ca-483c-aef0-f586b495c1f5",
   "metadata": {},
   "outputs": [],
   "source": [
    "#One function having different behaviours for different scenarios  is known as polymorphism."
   ]
  },
  {
   "cell_type": "code",
   "execution_count": 58,
   "id": "fbe42263-a95b-4fc0-baf1-34872869542b",
   "metadata": {},
   "outputs": [],
   "source": [
    "#2. Describe the difference between compile-time polymorphism and runtime polymorphism in Python."
   ]
  },
  {
   "cell_type": "code",
   "execution_count": 57,
   "id": "b4afe0b1-23a0-4c3e-a173-5eab552357c5",
   "metadata": {},
   "outputs": [],
   "source": [
    "#Compile-time polymorphism involves multiple methods with the same name within the same class, but with different parameter lists. The method that gets called is determined at compile time based on the number and types of arguments provided during the method call.\n",
    "#In Python, true method overloading (where multiple methods with the same name but different parameter lists coexist) is not directly supported. However, Python provides a way to simulate compile-time polymorphism using default parameter values and variable-length argument lists (*args and **kwargs)."
   ]
  },
  {
   "cell_type": "code",
   "execution_count": 59,
   "id": "8b044fe9-bc29-47f1-98cd-b1f3698a9adc",
   "metadata": {},
   "outputs": [],
   "source": [
    "#Runtime polymorphism involves defining methods in the superclass and then redefining those methods in the subclass. The method that gets called is determined at runtime based on the actual type of the object."
   ]
  },
  {
   "cell_type": "code",
   "execution_count": 60,
   "id": "c87458ce-ceb3-4bab-8f15-ee0a4410e940",
   "metadata": {},
   "outputs": [],
   "source": [
    "#3. Create a Python class hierarchy for shapes (e.g., circle, square, triangle) and demonstrate polymorphism\n",
    "#through a common method, such as `calculate_area()`."
   ]
  },
  {
   "cell_type": "code",
   "execution_count": 75,
   "id": "831f55c6-0809-49a6-8a5c-7e829408db52",
   "metadata": {},
   "outputs": [],
   "source": [
    "class shapes:\n",
    "    pass\n",
    "\n",
    "class circle(shapes):\n",
    "    def calculate_area(self,radius):\n",
    "        self.radius=radius\n",
    "        areaofcircle=22/7*self.radius**2\n",
    "        return areaofcircle \n",
    "    \n",
    "class square(shapes):\n",
    "    def calculate_area(self,side):\n",
    "        self.side=side\n",
    "        areaofsquare=self.side**2\n",
    "        return areaofsquare\n",
    "    \n",
    "class triangle(shapes):\n",
    "    def calculate_area(self,length,breadth,height):\n",
    "        areaoftriangle=1/2*length*breadth*height\n",
    "        return areaoftriangle\n",
    "            "
   ]
  },
  {
   "cell_type": "code",
   "execution_count": 77,
   "id": "6db55702-ea27-46e3-95f9-26aad475763d",
   "metadata": {},
   "outputs": [
    {
     "data": {
      "text/plain": [
       "80.0"
      ]
     },
     "execution_count": 77,
     "metadata": {},
     "output_type": "execute_result"
    }
   ],
   "source": [
    "t=triangle()\n",
    "t.calculate_area(4,5,8)"
   ]
  },
  {
   "cell_type": "code",
   "execution_count": 78,
   "id": "73340f31-948f-4af2-9ac4-d562759b47c5",
   "metadata": {},
   "outputs": [
    {
     "data": {
      "text/plain": [
       "50.285714285714285"
      ]
     },
     "execution_count": 78,
     "metadata": {},
     "output_type": "execute_result"
    }
   ],
   "source": [
    "c=circle()\n",
    "c.calculate_area(4)"
   ]
  },
  {
   "cell_type": "code",
   "execution_count": 80,
   "id": "bd41c60d-6f85-4bf2-abe6-246074d9f419",
   "metadata": {},
   "outputs": [],
   "source": [
    "s=square()"
   ]
  },
  {
   "cell_type": "code",
   "execution_count": 81,
   "id": "8a1352cb-1649-4c84-bf54-0bc8f7428b8a",
   "metadata": {},
   "outputs": [
    {
     "data": {
      "text/plain": [
       "16"
      ]
     },
     "execution_count": 81,
     "metadata": {},
     "output_type": "execute_result"
    }
   ],
   "source": [
    "s.calculate_area(4)"
   ]
  },
  {
   "cell_type": "code",
   "execution_count": 82,
   "id": "dd8a81c0-677a-482e-a806-7e99f2d0461d",
   "metadata": {},
   "outputs": [],
   "source": [
    "#Method overriding is a concept in object-oriented programming that occurs when a subclass provides a specific implementation for a method that is already defined in its superclass. The overridden method in the subclass has the same signature (name, return type, and parameters) as the method in the superclass. When an object of the subclass is created, and the overridden method is called, the subclass's implementation is executed instead of the superclass's."
   ]
  },
  {
   "cell_type": "code",
   "execution_count": 83,
   "id": "ad4aaa35-7bad-4344-974f-d74e68f83231",
   "metadata": {},
   "outputs": [
    {
     "name": "stdout",
     "output_type": "stream",
     "text": [
      "this is method of class a\n"
     ]
    }
   ],
   "source": [
    "class a:\n",
    "    def test(self):\n",
    "        print(\"this is method of class a\")\n",
    "        \n",
    "class b(a):\n",
    "    def test(self):\n",
    "        print(\"this is the method of class b\")\n",
    "        \n",
    "class c(a):\n",
    "    def test(sef):\n",
    "        print(\"this is the method of class C\")\n",
    "        \n",
    "        \n",
    "a1=a()\n",
    "a1.test()"
   ]
  },
  {
   "cell_type": "code",
   "execution_count": 84,
   "id": "bfbaec8b-51a2-4b82-8482-03373e73844c",
   "metadata": {},
   "outputs": [
    {
     "name": "stdout",
     "output_type": "stream",
     "text": [
      "this is the method of class b\n"
     ]
    }
   ],
   "source": [
    "b1=b()\n",
    "b1.test()"
   ]
  },
  {
   "cell_type": "code",
   "execution_count": 85,
   "id": "76fe17bd-9a86-47fc-a653-72122c3b45bb",
   "metadata": {},
   "outputs": [
    {
     "name": "stdout",
     "output_type": "stream",
     "text": [
      "this is the method of class C\n"
     ]
    }
   ],
   "source": [
    "c1=c()\n",
    "c1.test()"
   ]
  },
  {
   "cell_type": "code",
   "execution_count": 86,
   "id": "d40d88f6-2d28-425d-9d2a-aeadf879d8ba",
   "metadata": {},
   "outputs": [],
   "source": [
    "#6. Create a Python class called `Animal` with a method `speak()`. Then, create child classes like `Dog`, `Cat`, and `Bird`, each with their own `speak()` method. Demonstrate polymorphism by calling the `speak()` method\n",
    "#on objects of different subclasses."
   ]
  },
  {
   "cell_type": "code",
   "execution_count": 1,
   "id": "8afe21e6-819c-425b-bf69-bf20508a4c6b",
   "metadata": {},
   "outputs": [
    {
     "name": "stdout",
     "output_type": "stream",
     "text": [
      "this is the bird class\n"
     ]
    }
   ],
   "source": [
    "class Animal:\n",
    "    def speak(self):\n",
    "        print(\"this is the animal class\")\n",
    "        \n",
    "class Dog(Animal):\n",
    "    def speak(self):\n",
    "        print(\"this is the Dog class\")\n",
    "        \n",
    "class Cat(Animal):\n",
    "    def speak(self):\n",
    "        print(\"this is the cat class\")\n",
    "        \n",
    "class Bird(Animal):\n",
    "    def speak(self):\n",
    "        print(\"this is the bird class\")\n",
    "        \n",
    "        \n",
    "b=Bird()\n",
    "b.speak()\n",
    "    "
   ]
  },
  {
   "cell_type": "code",
   "execution_count": 2,
   "id": "64efe7a9-73a9-42f3-97c6-0dd3f62f3e05",
   "metadata": {},
   "outputs": [
    {
     "name": "stdout",
     "output_type": "stream",
     "text": [
      "this is the cat class\n"
     ]
    }
   ],
   "source": [
    "c=Cat()\n",
    "c.speak()"
   ]
  },
  {
   "cell_type": "code",
   "execution_count": 3,
   "id": "1ea5bbaa-a28c-4cb7-af40-5ca396a6b16d",
   "metadata": {},
   "outputs": [
    {
     "name": "stdout",
     "output_type": "stream",
     "text": [
      "this is the Dog class\n"
     ]
    }
   ],
   "source": [
    "d=Dog()\n",
    "d.speak()"
   ]
  },
  {
   "cell_type": "code",
   "execution_count": 4,
   "id": "e4b56198-3989-4450-8279-68862f212fe0",
   "metadata": {},
   "outputs": [],
   "source": [
    "#5. How is polymorphism different from method overloading in Python? Provide examples for both."
   ]
  },
  {
   "cell_type": "code",
   "execution_count": 6,
   "id": "f157d853-c9b3-46e2-b5d9-8b458a61b847",
   "metadata": {},
   "outputs": [],
   "source": [
    "#Polymorphism means one function but different behaviour,method overloadingInvolves defining multiple methods with the same name but different parameter lists within the same class.\n",
    "#In Python, it is simulated using default parameter values and variable-length argument lists."
   ]
  },
  {
   "cell_type": "code",
   "execution_count": 7,
   "id": "e54a5747-f26e-448d-921e-cee915b2030b",
   "metadata": {},
   "outputs": [],
   "source": [
    "#8. Create a Python class hierarchy for a vehicle system (e.g., car, bicycle, boat) and implement"
   ]
  },
  {
   "cell_type": "code",
   "execution_count": 8,
   "id": "7cf44f38-8c45-4572-9fed-17aaa1f2133e",
   "metadata": {},
   "outputs": [
    {
     "name": "stdout",
     "output_type": "stream",
     "text": [
      "this is a boat class\n"
     ]
    }
   ],
   "source": [
    "class vehicle:\n",
    "    def start(self):\n",
    "        print(\"this is a vehicle class\")\n",
    "        \n",
    "class car(vehicle):\n",
    "    def start(self):\n",
    "        print(\"this is a car class\")\n",
    "        \n",
    "class bicycle(vehicle):\n",
    "    def start(self):\n",
    "        print(\"this is a bicycle class\")\n",
    "        \n",
    "class boat(vehicle):\n",
    "    def start(self):\n",
    "        print(\"this is a boat class\")\n",
    "        \n",
    "        \n",
    "b=boat()\n",
    "b.start()\n",
    "        "
   ]
  },
  {
   "cell_type": "code",
   "execution_count": 9,
   "id": "07dce8d3-775f-46e6-95fc-b273d1fe50d6",
   "metadata": {},
   "outputs": [
    {
     "name": "stdout",
     "output_type": "stream",
     "text": [
      "this is a bicycle class\n"
     ]
    }
   ],
   "source": [
    "bi=bicycle()\n",
    "bi.start()"
   ]
  },
  {
   "cell_type": "code",
   "execution_count": 11,
   "id": "d4486da1-29b3-43d0-8cfc-6715d5a29a08",
   "metadata": {},
   "outputs": [],
   "source": [
    "#What is the role of the `@abstractmethod` decorator in achieving polymorphism in Python? Provide an\n",
    "#example."
   ]
  },
  {
   "cell_type": "code",
   "execution_count": 12,
   "id": "4d89afb1-5a05-4eeb-8534-c5b634dbbf5f",
   "metadata": {},
   "outputs": [],
   "source": [
    "#11. Create a Python class called `Shape` with a polymorphic method `area()` that calculates the area of different shapes (e.g., circle, rectangle, triangle)."
   ]
  },
  {
   "cell_type": "code",
   "execution_count": 14,
   "id": "8d6962f2-b2c6-4947-8dfd-844ab8388f3e",
   "metadata": {},
   "outputs": [
    {
     "data": {
      "text/plain": [
       "96.0"
      ]
     },
     "execution_count": 14,
     "metadata": {},
     "output_type": "execute_result"
    }
   ],
   "source": [
    "class shape:\n",
    "    def area():\n",
    "        pass\n",
    "    \n",
    "class circle(shape):\n",
    "    def area(self,radius):\n",
    "        self.radius=radius\n",
    "        areaofcircle=3.14*self.radius**2\n",
    "        return areaofcircle\n",
    "    \n",
    "class rectangle(shape):\n",
    "    def area(self,length,breadth):\n",
    "        self.length=length\n",
    "        self.breadth=breadth\n",
    "        areaofrect=self.length*self.breadth\n",
    "        return areaofrect\n",
    "    \n",
    "class triangle(shape):\n",
    "    def area(self,length,breadth,height):\n",
    "        self.length=length\n",
    "        self.breadth=breadth\n",
    "        self.height=height\n",
    "        areaoftriangle=1/2*length*breadth*height\n",
    "        return areaoftriangle\n",
    "    \n",
    "t=triangle()\n",
    "t.area(4,6,8)"
   ]
  },
  {
   "cell_type": "code",
   "execution_count": 15,
   "id": "939985d3-9ab5-43c3-ba5c-2e9b62cc42c1",
   "metadata": {},
   "outputs": [
    {
     "data": {
      "text/plain": [
       "24"
      ]
     },
     "execution_count": 15,
     "metadata": {},
     "output_type": "execute_result"
    }
   ],
   "source": [
    "r=rectangle()\n",
    "r.area(4,6)"
   ]
  },
  {
   "cell_type": "code",
   "execution_count": 16,
   "id": "26080cd0-afab-4d48-9146-95a76a0a15da",
   "metadata": {},
   "outputs": [
    {
     "data": {
      "text/plain": [
       "50.24"
      ]
     },
     "execution_count": 16,
     "metadata": {},
     "output_type": "execute_result"
    }
   ],
   "source": [
    "c=circle()\n",
    "c.area(4)"
   ]
  },
  {
   "cell_type": "code",
   "execution_count": 17,
   "id": "197d5382-8322-4bb5-b53d-aee6f09d1c3a",
   "metadata": {},
   "outputs": [],
   "source": [
    "#12. Discuss the benefits of polymorphism in terms of code reusability and flexibility in Python programs."
   ]
  },
  {
   "cell_type": "code",
   "execution_count": 18,
   "id": "dbd03570-56ae-4bdb-ab03-a2cae811ca9b",
   "metadata": {},
   "outputs": [],
   "source": [
    "#In summary, polymorphism in Python contributes to code reusability and flexibility by allowing code to be written in a generic and extensible manner. It reduces redundancy, promotes loose coupling, and facilitates the addition of new functionality with minimal impact on existing code. The dynamic behavior and abstraction provided by polymorphism lead to more maintainable, scalable, and expressive programs."
   ]
  },
  {
   "cell_type": "code",
   "execution_count": 19,
   "id": "7de6bbb1-b75f-4718-a104-053887568147",
   "metadata": {},
   "outputs": [],
   "source": [
    "#Explain the use of the `super()` function in Python polymorphism. How does it help call methods of parent\n",
    "#classes?"
   ]
  },
  {
   "cell_type": "code",
   "execution_count": 20,
   "id": "a6e27869-6fe0-4a60-b946-96f6820ee339",
   "metadata": {},
   "outputs": [],
   "source": [
    "#super function is used to access the methods and variables of parent class in child class"
   ]
  },
  {
   "cell_type": "code",
   "execution_count": 30,
   "id": "73432c49-87d9-4945-9f88-aa81bc94e3f2",
   "metadata": {},
   "outputs": [
    {
     "name": "stdout",
     "output_type": "stream",
     "text": [
      "Generic animal sound\n",
      "Woof! Woof!\n",
      "Generic animal sound\n",
      "Meow\n"
     ]
    }
   ],
   "source": [
    "class Animal:\n",
    "    def make_sound(self):\n",
    "        print(\"Generic animal sound\")\n",
    "\n",
    "class Dog(Animal):\n",
    "    def make_sound(self):\n",
    "        super().make_sound()\n",
    "        print(\"Woof! Woof!\")\n",
    "\n",
    "class Cat(Animal):\n",
    "    def make_sound(self):\n",
    "        super().make_sound()\n",
    "        print(\"Meow\")\n",
    "\n",
    "# Creating instances\n",
    "dog_instance = Dog()\n",
    "cat_instance = Cat()\n",
    "\n",
    "# Using polymorphism and super()\n",
    "dog_instance.make_sound()\n",
    "# Output:\n",
    "# Generic animal sound\n",
    "# Woof! Woof!\n",
    "\n",
    "cat_instance.make_sound()\n",
    "# Output:\n",
    "# Generic animal sound\n",
    "# Meow\n"
   ]
  },
  {
   "cell_type": "code",
   "execution_count": 31,
   "id": "f200ade2-5005-400b-9cf5-5aed3d0f9c56",
   "metadata": {},
   "outputs": [],
   "source": [
    "#Create a Python class hierarchy for a banking system with various account types (e.g., savings, checking,"
   ]
  },
  {
   "cell_type": "code",
   "execution_count": 32,
   "id": "17ab7065-06ec-42ed-a026-325435b8aa78",
   "metadata": {},
   "outputs": [
    {
     "name": "stdout",
     "output_type": "stream",
     "text": [
      "this is the credit card method\n"
     ]
    }
   ],
   "source": [
    "class bankingsystem:\n",
    "    def __init__(self):\n",
    "        pass\n",
    "class savings(bankingsystem):\n",
    "    def withdraw(self):\n",
    "        print(\"this is the saving method\")\n",
    "        \n",
    "class checking(bankingsystem):\n",
    "    def withdraw(self):\n",
    "        print(\"this is the checking system\")\n",
    "        \n",
    "class creditcard(bankingsystem):\n",
    "    def withdraw(self):\n",
    "        print(\"this is the credit card method\")\n",
    "        \n",
    "        \n",
    "c=creditcard()\n",
    "c.withdraw()"
   ]
  },
  {
   "cell_type": "code",
   "execution_count": 33,
   "id": "39862a45-c52f-4289-8233-35fa7507fb36",
   "metadata": {},
   "outputs": [
    {
     "name": "stdout",
     "output_type": "stream",
     "text": [
      "this is the saving method\n"
     ]
    }
   ],
   "source": [
    "s=savings()\n",
    "s.withdraw()"
   ]
  },
  {
   "cell_type": "code",
   "execution_count": 34,
   "id": "2b651eb5-d591-4acd-8916-50e787f0e4b6",
   "metadata": {},
   "outputs": [],
   "source": [
    "#17. Create a Python class hierarchy for employees in a company (e.g., manager, developer, designer) and"
   ]
  },
  {
   "cell_type": "code",
   "execution_count": 37,
   "id": "66d01cb2-7dd0-49f1-9ea6-f89a6ab29658",
   "metadata": {},
   "outputs": [
    {
     "data": {
      "text/plain": [
       "60000"
      ]
     },
     "execution_count": 37,
     "metadata": {},
     "output_type": "execute_result"
    }
   ],
   "source": [
    "class employees:\n",
    "    def __init__(self):\n",
    "        pass\n",
    "    \n",
    "class manager(employees):\n",
    "    def calculate_salary(self,name,experience):\n",
    "        self.name=name\n",
    "        self.experience=experience\n",
    "        if self.experience==4:\n",
    "            return 4000\n",
    "        else:\n",
    "            return 8000\n",
    "        \n",
    "class developer(employees):\n",
    "    def calculate_salary(self,name,experience):\n",
    "        self.name=name\n",
    "        self.experience=experience\n",
    "        if experience==8:\n",
    "            return 90000\n",
    "        else:\n",
    "            return 100000\n",
    "        \n",
    "class  designer(employees):\n",
    "    def calculate_salary(self,name,experience):\n",
    "        self.name=name\n",
    "        self.experience=experience\n",
    "        \n",
    "        if experience==5:\n",
    "            return 50000\n",
    "        else:\n",
    "            return 60000\n",
    "    \n",
    "rohan=designer()\n",
    "rohan.calculate_salary(\"shubham\",6)\n",
    "        \n",
    "    \n",
    "    \n",
    "    \n",
    "    \n",
    "      "
   ]
  },
  {
   "cell_type": "code",
   "execution_count": 38,
   "id": "2ce89824-a1bd-4af3-8d00-197060ce4bce",
   "metadata": {},
   "outputs": [
    {
     "data": {
      "text/plain": [
       "100000"
      ]
     },
     "execution_count": 38,
     "metadata": {},
     "output_type": "execute_result"
    }
   ],
   "source": [
    "shubham=developer()\n",
    "shubham.calculate_salary(\"avika\",7)"
   ]
  },
  {
   "cell_type": "code",
   "execution_count": 39,
   "id": "2c9f3e19-fcaf-4b38-9150-066fb82c3412",
   "metadata": {},
   "outputs": [
    {
     "data": {
      "text/plain": [
       "8000"
      ]
     },
     "execution_count": 39,
     "metadata": {},
     "output_type": "execute_result"
    }
   ],
   "source": [
    "shivam=manager()\n",
    "shivam.calculate_salary(\"ajay\",5)"
   ]
  },
  {
   "cell_type": "code",
   "execution_count": 40,
   "id": "14177d26-b209-4e87-b8bf-8dad5eec28ff",
   "metadata": {},
   "outputs": [],
   "source": [
    "#20. Create a Python class for a zoo simulation, demonstrating polymorphism with different animal types (e.g.,"
   ]
  },
  {
   "cell_type": "code",
   "execution_count": 41,
   "id": "ad5aa519-e437-4813-af68-ed528f201eba",
   "metadata": {},
   "outputs": [
    {
     "data": {
      "text/plain": [
       "'quack'"
      ]
     },
     "execution_count": 41,
     "metadata": {},
     "output_type": "execute_result"
    }
   ],
   "source": [
    "class zoo:\n",
    "    def __init__(self):\n",
    "        pass\n",
    "\n",
    "class mammals(zoo):\n",
    "    def sound(self):\n",
    "        return \"quack\"\n",
    "    \n",
    "class birds(zoo):\n",
    "    def sound(self):\n",
    "        return \"chirp\"\n",
    "    \n",
    "class reptiles(zoo):\n",
    "    def sound(self):\n",
    "        return \"hiss\"\n",
    "    \n",
    "    \n",
    "m=mammals()\n",
    "m.sound()"
   ]
  },
  {
   "cell_type": "code",
   "execution_count": 42,
   "id": "5ed1a1e2-c97e-449a-b3c1-846a7e0082c4",
   "metadata": {},
   "outputs": [
    {
     "data": {
      "text/plain": [
       "'chirp'"
      ]
     },
     "execution_count": 42,
     "metadata": {},
     "output_type": "execute_result"
    }
   ],
   "source": [
    "b=birds()\n",
    "b.sound()"
   ]
  },
  {
   "cell_type": "code",
   "execution_count": 1,
   "id": "f0e8cbe8-c3d0-4279-8a70-6509429668b9",
   "metadata": {},
   "outputs": [],
   "source": [
    "#What is abstraction in Python, and how does it relate to object-oriented programming?"
   ]
  },
  {
   "cell_type": "code",
   "execution_count": 2,
   "id": "9264ce09-c6d2-475a-b075-2d016ad20623",
   "metadata": {},
   "outputs": [],
   "source": [
    "#Abstraction in Python refers to the concept of simplifying complex systems by modeling classes based on the essential properties and behaviors they share. It is one of the key principles of object-oriented programming (OOP). Abstraction allows developers to focus on the relevant features of an object while hiding unnecessary details."
   ]
  },
  {
   "cell_type": "code",
   "execution_count": 3,
   "id": "13f9f608-ee33-468b-9ea6-5231850c8bbd",
   "metadata": {},
   "outputs": [],
   "source": [
    "#2. Describe the benefits of abstraction in terms of code organization and complexity reduction."
   ]
  },
  {
   "cell_type": "code",
   "execution_count": 4,
   "id": "e27b8bf1-45cc-4e63-9cff-ce6d5f4b4ee4",
   "metadata": {},
   "outputs": [],
   "source": [
    "#Modularity,Encapsulation and code reusability"
   ]
  },
  {
   "cell_type": "code",
   "execution_count": 5,
   "id": "2e65b8ad-7572-4b6a-bc2e-dc72cdb6bc63",
   "metadata": {},
   "outputs": [],
   "source": [
    "#3. Create a Python class called `Shape` with an abstract method `calculate_area()`. Then, create child classes (e.g., `Circle`, `Rectangle`) that implement the `calculate_area()` method. Provide an example of\n",
    "#using these classes."
   ]
  },
  {
   "cell_type": "code",
   "execution_count": 9,
   "id": "78338f1d-aaa6-4829-9507-15e68fc9c236",
   "metadata": {},
   "outputs": [
    {
     "data": {
      "text/plain": [
       "20"
      ]
     },
     "execution_count": 9,
     "metadata": {},
     "output_type": "execute_result"
    }
   ],
   "source": [
    "from abc import ABC ,abstractmethod\n",
    "class shape(ABC):\n",
    "    @abstractmethod\n",
    "    def calculate_area(self):\n",
    "        pass\n",
    "    \n",
    "class circle(shape):\n",
    "    def __init__(self,radius):\n",
    "        self.radius=radius\n",
    "        \n",
    "    def calculate_area(self):\n",
    "        areaofcircle=3.14*self.radius**2\n",
    "        return areaofcircle\n",
    "    \n",
    "class rectangle(shape):\n",
    "    def __init__(self,length,breadth):\n",
    "        self.length=length\n",
    "        self.breadth=breadth\n",
    "        \n",
    "    def calculate_area(self):\n",
    "        areaofrect=self.length*self.breadth\n",
    "        return areaofrect\n",
    "    \n",
    "r=rectangle(4,5)\n",
    "r.calculate_area()\n",
    "\n",
    "        \n",
    "    \n",
    "    \n",
    "        "
   ]
  },
  {
   "cell_type": "code",
   "execution_count": 10,
   "id": "747c2b1b-6980-44ba-a0e8-6a98b6392099",
   "metadata": {},
   "outputs": [
    {
     "data": {
      "text/plain": [
       "50.24"
      ]
     },
     "execution_count": 10,
     "metadata": {},
     "output_type": "execute_result"
    }
   ],
   "source": [
    "c=circle(4)\n",
    "c.calculate_area()"
   ]
  },
  {
   "cell_type": "code",
   "execution_count": 12,
   "id": "71aa26bd-f25c-4d56-b66a-1353ca4fda38",
   "metadata": {},
   "outputs": [],
   "source": [
    "#5. How do abstract classes differ from regular classes in Python? Discuss their use cases."
   ]
  },
  {
   "cell_type": "code",
   "execution_count": 11,
   "id": "6f036757-35ca-4459-8e2f-9814a87dce98",
   "metadata": {},
   "outputs": [],
   "source": [
    "#abstract classes provide a way to define a common structure for a group of related classes, enforcing the implementation of specific methods in derived classes. Regular classes, on the other hand, are used when you want to create objects directly without imposing a standardized structure on their subclasses"
   ]
  },
  {
   "cell_type": "code",
   "execution_count": 13,
   "id": "be27a4bd-b96d-40d8-bfd5-f5ebf33e2949",
   "metadata": {},
   "outputs": [],
   "source": [
    "#6. Create a Python class for a bank account and demonstrate abstraction by hiding the account balance and\n",
    "#providing methods to deposit and withdraw funds."
   ]
  },
  {
   "cell_type": "code",
   "execution_count": 19,
   "id": "342cf537-4bdf-43a8-a0f2-15658aec16f9",
   "metadata": {},
   "outputs": [
    {
     "name": "stdout",
     "output_type": "stream",
     "text": [
      "Initial balance for John Doe: $1000.0\n",
      "Deposited $500.0. New balance: $1500.0\n",
      "Withdrew $200.0. New balance: $1300.0\n",
      "Withdrew $800.0. New balance: $500.0\n",
      "Final balance for John Doe: $500.0\n"
     ]
    }
   ],
   "source": [
    "class BankAccount:\n",
    "    def __init__(self, account_holder, initial_balance=0.0):\n",
    "        self._account_holder = account_holder\n",
    "        self._balance = initial_balance\n",
    "\n",
    "    def get_balance(self):\n",
    "        \"\"\"Get the current account balance.\"\"\"\n",
    "        return self._balance\n",
    "\n",
    "    def deposit(self, amount):\n",
    "        \"\"\"Deposit funds into the account.\"\"\"\n",
    "        if amount > 0:\n",
    "            self._balance += amount\n",
    "            print(f\"Deposited ${amount}. New balance: ${self._balance}\")\n",
    "        else:\n",
    "            print(\"Invalid deposit amount. Please deposit a positive amount.\")\n",
    "\n",
    "    def withdraw(self, amount):\n",
    "        \"\"\"Withdraw funds from the account.\"\"\"\n",
    "        if 0 < amount <= self._balance:\n",
    "            self._balance -= amount\n",
    "            print(f\"Withdrew ${amount}. New balance: ${self._balance}\")\n",
    "        else:\n",
    "            print(\"Invalid withdrawal amount or insufficient funds.\")\n",
    "\n",
    "# Example usage\n",
    "account1 = BankAccount(\"John Doe\", 1000.0)\n",
    "\n",
    "# Get initial balance\n",
    "print(f\"Initial balance for {account1._account_holder}: ${account1.get_balance()}\")\n",
    "\n",
    "# Deposit funds\n",
    "account1.deposit(500.0)\n",
    "\n",
    "# Withdraw funds\n",
    "account1.withdraw(200.0)\n",
    "\n",
    "# Attempt to withdraw more than the balance\n",
    "account1.withdraw(800.0)\n",
    "\n",
    "# Get final balance\n",
    "print(f\"Final balance for {account1._account_holder}: ${account1.get_balance()}\")\n"
   ]
  },
  {
   "cell_type": "code",
   "execution_count": 20,
   "id": "8685ad5c-e963-4ae9-b8b5-83dbb59b22e8",
   "metadata": {},
   "outputs": [],
   "source": [
    "#In Python, interface classes are a way to define a contract or set of rules that must be followed by the classes that implement them. Unlike languages such as Java or C#, Python does not have a distinct \"interface\" keyword or construct. However, the concept of interfaces can be achieved using abstract base classes (ABCs) and the ABC module in Python."
   ]
  },
  {
   "cell_type": "code",
   "execution_count": 21,
   "id": "39e9b43a-6d05-482b-8428-3c9820a27f6c",
   "metadata": {},
   "outputs": [],
   "source": [
    "#Create a Python class hierarchy for animals and implement abstraction by defining common methods"
   ]
  },
  {
   "cell_type": "code",
   "execution_count": 24,
   "id": "63e5d84d-7747-4dd7-9baa-3bf10bf65b3d",
   "metadata": {},
   "outputs": [
    {
     "data": {
      "text/plain": [
       "'cat drinks milk'"
      ]
     },
     "execution_count": 24,
     "metadata": {},
     "output_type": "execute_result"
    }
   ],
   "source": [
    "from abc import ABC ,abstractmethod\n",
    "class animals(ABC):\n",
    "    @abstractmethod\n",
    "    def eat(self):\n",
    "        pass\n",
    "    @abstractmethod\n",
    "    def sleep(self):\n",
    "        pass\n",
    "\n",
    "class Dog(ABC):\n",
    "    def eat(self):\n",
    "        return \"dog eat hot dogs\"\n",
    "    def sleep(self):\n",
    "        return \"dog sleeps\"\n",
    "    \n",
    "class Cat(ABC):\n",
    "    def eat(self):\n",
    "        return \"cat drinks milk\"\n",
    "    def sleep(self):\n",
    "        return \"cat sleeps\"\n",
    "    \n",
    "c=Cat()\n",
    "c.eat()\n",
    "    "
   ]
  },
  {
   "cell_type": "code",
   "execution_count": null,
   "id": "e65259ba-a11e-4496-9da9-cf70758ca7e0",
   "metadata": {},
   "outputs": [],
   "source": []
  }
 ],
 "metadata": {
  "kernelspec": {
   "display_name": "Python 3 (ipykernel)",
   "language": "python",
   "name": "python3"
  },
  "language_info": {
   "codemirror_mode": {
    "name": "ipython",
    "version": 3
   },
   "file_extension": ".py",
   "mimetype": "text/x-python",
   "name": "python",
   "nbconvert_exporter": "python",
   "pygments_lexer": "ipython3",
   "version": "3.10.8"
  }
 },
 "nbformat": 4,
 "nbformat_minor": 5
}
