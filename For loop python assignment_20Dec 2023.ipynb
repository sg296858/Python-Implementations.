{
 "cells": [
  {
   "cell_type": "code",
   "execution_count": 1,
   "id": "a60d3b9b-7d20-44ba-aff5-e5e44785cd62",
   "metadata": {},
   "outputs": [],
   "source": [
    "#Write a Python program to print the numbers from 1 to 10 using a `for` loop."
   ]
  },
  {
   "cell_type": "code",
   "execution_count": 2,
   "id": "8b9f8be9-1340-454a-b18f-370009c093b9",
   "metadata": {},
   "outputs": [
    {
     "name": "stdout",
     "output_type": "stream",
     "text": [
      "1\n",
      "2\n",
      "3\n",
      "4\n",
      "5\n",
      "6\n",
      "7\n",
      "8\n",
      "9\n",
      "10\n"
     ]
    }
   ],
   "source": [
    "for i in range(1,11):\n",
    "    print(i)"
   ]
  },
  {
   "cell_type": "code",
   "execution_count": 3,
   "id": "326df0b8-198e-45ba-92da-7659ac01e05b",
   "metadata": {},
   "outputs": [],
   "source": [
    "#2. Create a program that calculates the sum of all numbers in a list using a `for` loop."
   ]
  },
  {
   "cell_type": "code",
   "execution_count": 4,
   "id": "764245cc-8e0c-449d-8d70-3c95fd28b793",
   "metadata": {},
   "outputs": [],
   "source": [
    "list=[1,2,3,4,5]\n",
    "sum=0\n",
    "for i in list:\n",
    "    sum=sum+i"
   ]
  },
  {
   "cell_type": "code",
   "execution_count": 5,
   "id": "c3d5c87a-5b0d-4441-9b3f-426c0cd24043",
   "metadata": {},
   "outputs": [
    {
     "name": "stdout",
     "output_type": "stream",
     "text": [
      "15\n"
     ]
    }
   ],
   "source": [
    "print(sum)"
   ]
  },
  {
   "cell_type": "code",
   "execution_count": 6,
   "id": "28b7ba45-13c4-4343-8d81-d87bcf79825b",
   "metadata": {},
   "outputs": [],
   "source": [
    "#Write a program to print the characters of a string in reverse order using a `for` loop."
   ]
  },
  {
   "cell_type": "code",
   "execution_count": 7,
   "id": "b506ba3c-e045-425f-831b-e9d189e3bac4",
   "metadata": {},
   "outputs": [],
   "source": [
    "s=\"pwskills\"\n",
    "reversedstring=\" \"\n",
    "for i in s:\n",
    "    reversedstring=i+reversedstring"
   ]
  },
  {
   "cell_type": "code",
   "execution_count": 8,
   "id": "20a817b9-834d-425f-bdc5-82fa5d746cf4",
   "metadata": {},
   "outputs": [
    {
     "name": "stdout",
     "output_type": "stream",
     "text": [
      "sllikswp \n"
     ]
    }
   ],
   "source": [
    "print(reversedstring)"
   ]
  },
  {
   "cell_type": "code",
   "execution_count": 9,
   "id": "5f36cfe3-8462-4753-ade2-f6b041889067",
   "metadata": {},
   "outputs": [
    {
     "name": "stdin",
     "output_type": "stream",
     "text": [
      "Enter the number 4\n"
     ]
    }
   ],
   "source": [
    "n=int(input(\"Enter the number\"))\n",
    "fact=1\n",
    "if n<=0:\n",
    "    print(\"Invalid factorial number\")\n",
    "elif n==0:\n",
    "    print(\"The factorial of a number is 1\")\n",
    "else:\n",
    "    for i in range(1,n+1):\n",
    "        fact=fact*i"
   ]
  },
  {
   "cell_type": "code",
   "execution_count": 11,
   "id": "7fe3042d-c8af-4521-bbaa-5375dafe87ea",
   "metadata": {},
   "outputs": [
    {
     "name": "stdout",
     "output_type": "stream",
     "text": [
      "The factorial of a number 4 is 24\n"
     ]
    }
   ],
   "source": [
    "print(\"The factorial of a number 4 is\",fact)"
   ]
  },
  {
   "cell_type": "code",
   "execution_count": 12,
   "id": "7a685f1f-f90e-4330-9a60-1d6fbb977610",
   "metadata": {},
   "outputs": [],
   "source": [
    "#Create a program to print the multiplication table of a given number using a `for` loop."
   ]
  },
  {
   "cell_type": "code",
   "execution_count": 15,
   "id": "22c86da7-5b57-4371-b4d2-9dff9b48035c",
   "metadata": {},
   "outputs": [
    {
     "name": "stdout",
     "output_type": "stream",
     "text": [
      "The multiplicatio of number is\n",
      "4 x 1 = 4\n",
      "4 x 2 = 8\n",
      "4 x 3 = 12\n",
      "4 x 4 = 16\n",
      "4 x 5 = 20\n",
      "4 x 6 = 24\n",
      "4 x 7 = 28\n",
      "4 x 8 = 32\n",
      "4 x 9 = 36\n",
      "4 x 10 = 40\n"
     ]
    }
   ],
   "source": [
    "print(\"The multiplicatio of number is\")\n",
    "#num=int(input(\"Enter the number\"))\n",
    "for i in range(1,11):\n",
    "    print(num,'x',i,'=',num*i)"
   ]
  },
  {
   "cell_type": "code",
   "execution_count": 16,
   "id": "db538e91-e669-429d-b09e-9b32e72e39dc",
   "metadata": {},
   "outputs": [],
   "source": [
    "#Write a program that counts the number of even and odd numbers in a list using a `for` loop."
   ]
  },
  {
   "cell_type": "code",
   "execution_count": 17,
   "id": "ce75e794-a2c2-4346-bdb5-76d317e7b1f7",
   "metadata": {},
   "outputs": [],
   "source": [
    "list=[1,2,3,4,5]\n",
    "counteven=0\n",
    "countodd=0\n",
    "for i in list:\n",
    "    if i%2==0:\n",
    "        counteven=counteven+1\n",
    "    else:\n",
    "        countodd+=1"
   ]
  },
  {
   "cell_type": "code",
   "execution_count": 18,
   "id": "fca25957-e765-424d-86fc-a932b2282938",
   "metadata": {},
   "outputs": [
    {
     "name": "stdout",
     "output_type": "stream",
     "text": [
      "2\n"
     ]
    }
   ],
   "source": [
    "print(counteven)"
   ]
  },
  {
   "cell_type": "code",
   "execution_count": 19,
   "id": "9a091693-b8c2-43f7-b3f8-2d71090b60ff",
   "metadata": {},
   "outputs": [
    {
     "name": "stdout",
     "output_type": "stream",
     "text": [
      "3\n"
     ]
    }
   ],
   "source": [
    "print(countodd)"
   ]
  },
  {
   "cell_type": "code",
   "execution_count": 20,
   "id": "1dafd280-4397-4ba8-9852-d8e5975a0356",
   "metadata": {},
   "outputs": [],
   "source": [
    "#Develop a program that prints the squares of numbers from 1 to 5 using a `for` loop."
   ]
  },
  {
   "cell_type": "code",
   "execution_count": 21,
   "id": "c2987439-fd53-4ee1-beec-d79eec3176b6",
   "metadata": {},
   "outputs": [
    {
     "name": "stdout",
     "output_type": "stream",
     "text": [
      "1\n",
      "4\n",
      "9\n",
      "16\n",
      "25\n"
     ]
    }
   ],
   "source": [
    "for i in range(1,6):\n",
    "    print(i**2)"
   ]
  },
  {
   "cell_type": "code",
   "execution_count": 22,
   "id": "628d2980-a397-4bb8-bacc-84be281dc9d4",
   "metadata": {},
   "outputs": [],
   "source": [
    "#Create a program to find the length of a string without using the `len()` function."
   ]
  },
  {
   "cell_type": "code",
   "execution_count": 23,
   "id": "0567b2fc-5154-4380-9196-079772c5d89b",
   "metadata": {},
   "outputs": [],
   "source": [
    "s=\"pwskills\"\n",
    "count=0\n",
    "for i in s:\n",
    "    if i==\" \":\n",
    "        count=0;\n",
    "    else:\n",
    "        count=count+1"
   ]
  },
  {
   "cell_type": "code",
   "execution_count": 24,
   "id": "da0c9386-ee92-4359-b4e8-9f475723e67f",
   "metadata": {},
   "outputs": [
    {
     "name": "stdout",
     "output_type": "stream",
     "text": [
      "8\n"
     ]
    }
   ],
   "source": [
    "print(count)"
   ]
  },
  {
   "cell_type": "code",
   "execution_count": 25,
   "id": "86579a55-7f3d-4d03-95d7-a8cfc7b43b9e",
   "metadata": {},
   "outputs": [],
   "source": [
    "#Write a program that calculates the average of a list of numbers using a `for` loop."
   ]
  },
  {
   "cell_type": "code",
   "execution_count": 1,
   "id": "66f7026b-ce22-4b4e-907a-21d4ba716553",
   "metadata": {},
   "outputs": [],
   "source": [
    "list=[1,2,3,4,5]\n",
    "sum=0\n",
    "for i in list:\n",
    "    sum=sum+i\n",
    "    average=sum/5\n",
    "    "
   ]
  },
  {
   "cell_type": "code",
   "execution_count": 2,
   "id": "6ff82698-5846-46e1-9445-c799c59ae17e",
   "metadata": {},
   "outputs": [
    {
     "data": {
      "text/plain": [
       "3.0"
      ]
     },
     "execution_count": 2,
     "metadata": {},
     "output_type": "execute_result"
    }
   ],
   "source": [
    "average"
   ]
  },
  {
   "cell_type": "code",
   "execution_count": null,
   "id": "af83cd4d-1e4a-490a-9ac7-d037d50a67e5",
   "metadata": {},
   "outputs": [],
   "source": [
    "#10. Develop a program that prints the first `n` Fibonacci numbers using a `for` loop."
   ]
  },
  {
   "cell_type": "code",
   "execution_count": 8,
   "id": "b226bc93-b0f7-4665-9016-0e028010fee8",
   "metadata": {},
   "outputs": [
    {
     "name": "stdin",
     "output_type": "stream",
     "text": [
      "Enter the range number 8\n"
     ]
    },
    {
     "name": "stdout",
     "output_type": "stream",
     "text": [
      "0\n",
      "1\n",
      "1\n",
      "2\n",
      "3\n",
      "5\n",
      "8\n",
      "13\n"
     ]
    }
   ],
   "source": [
    "num=int(input(\"Enter the range number\"))\n",
    "firstval=0\n",
    "secondval=1\n",
    "for n in range(0,num):\n",
    "    if n<=1:\n",
    "        next=n\n",
    "    else:\n",
    "        next=firstval+secondval\n",
    "        firstval=secondval\n",
    "        secondval=next\n",
    "    print(next)    "
   ]
  },
  {
   "cell_type": "code",
   "execution_count": 9,
   "id": "03a6c750-0616-4d2c-a4c0-9ffe819dc8b7",
   "metadata": {},
   "outputs": [],
   "source": [
    "#Intermediate Level:"
   ]
  },
  {
   "cell_type": "code",
   "execution_count": 10,
   "id": "5a042812-b965-4905-a9c5-9f27aa388643",
   "metadata": {},
   "outputs": [],
   "source": [
    "#11. Write a program to check if a given list contains any duplicates using a `for` loop."
   ]
  },
  {
   "cell_type": "code",
   "execution_count": 13,
   "id": "52028c6c-fb8a-467c-ab0e-b5560e922ac3",
   "metadata": {},
   "outputs": [
    {
     "name": "stdout",
     "output_type": "stream",
     "text": [
      "Duplicates exists in the list\n",
      "[1, 2, 1, 3, 3, 4]\n"
     ]
    }
   ],
   "source": [
    "list=[1,2,1,3,3,4]\n",
    "newset=set(list)\n",
    "if len(newset)==list:\n",
    "    print(\"No duplicates in the list\")\n",
    "    print(list)\n",
    "else:\n",
    "    print(\"Duplicates exists in the list\")\n",
    "    print(list)"
   ]
  },
  {
   "cell_type": "code",
   "execution_count": 14,
   "id": "af0ceb1a-2179-42f8-8115-5a40cdf4655e",
   "metadata": {},
   "outputs": [],
   "source": [
    "#Create a program that prints the prime numbers in a given range using a `for` loop."
   ]
  },
  {
   "cell_type": "code",
   "execution_count": 15,
   "id": "ef4a9ea0-e330-4419-b790-b2a9683ce822",
   "metadata": {},
   "outputs": [
    {
     "name": "stdin",
     "output_type": "stream",
     "text": [
      "Enter the start range 2\n",
      "Enter the end range 11\n"
     ]
    },
    {
     "name": "stdout",
     "output_type": "stream",
     "text": [
      "5\n",
      "7\n",
      "9\n",
      "11\n",
      "11\n"
     ]
    }
   ],
   "source": [
    "start=int(input(\"Enter the start range\"))\n",
    "end=int(input(\"Enter the end range\"))\n",
    "for num in range(start,end+1):\n",
    "    if num>1:\n",
    "        for i in range(start,int(num**0.5)+1):\n",
    "            if num%i==0:\n",
    "                break\n",
    "            else:\n",
    "                print(num)      "
   ]
  },
  {
   "cell_type": "code",
   "execution_count": null,
   "id": "ca3f22be-9cef-41ce-b7c5-d414e97ac6ee",
   "metadata": {},
   "outputs": [],
   "source": [
    "#Develop a program that counts the number of vowels in a string using a `for` loop."
   ]
  },
  {
   "cell_type": "code",
   "execution_count": 33,
   "id": "31e84915-d853-48b2-957a-053f312b668d",
   "metadata": {},
   "outputs": [],
   "source": [
    "s=\"pwskills\"\n",
    "vowelcount=0\n",
    "for i in s:\n",
    "    if i=='a'or i=='e' or i=='i' or i=='o' or i=='u':\n",
    "        vowelcount=vowelcount+1    "
   ]
  },
  {
   "cell_type": "code",
   "execution_count": 35,
   "id": "d451111f-3e08-405a-88de-98239f44e0d9",
   "metadata": {},
   "outputs": [
    {
     "name": "stdout",
     "output_type": "stream",
     "text": [
      "The total number of vowels is 1\n"
     ]
    }
   ],
   "source": [
    "print(\"The total number of vowels is\",vowelcount)"
   ]
  },
  {
   "cell_type": "code",
   "execution_count": 36,
   "id": "b1c1430a-96e4-4cf2-9f13-5f14d47b7f04",
   "metadata": {},
   "outputs": [],
   "source": [
    "#Create a program that removes all occurrences of a specific element from a list using a `for` loop."
   ]
  },
  {
   "cell_type": "code",
   "execution_count": 41,
   "id": "a98ff462-47a1-4a81-9944-b201f1e2bb56",
   "metadata": {},
   "outputs": [
    {
     "name": "stdout",
     "output_type": "stream",
     "text": [
      "[1, 1, 2, 3, 4]\n",
      "[1, 1, 2, 3, 4]\n",
      "[1, 1, 2, 3, 4]\n",
      "[1, 1, 2, 3, 4]\n",
      "[1, 1, 2, 3, 4]\n"
     ]
    }
   ],
   "source": [
    "list=[1,1,2,3,4]\n",
    "n=1\n",
    "for i in list:\n",
    "    if i==list:\n",
    "        list.remove(i)\n",
    "    else:\n",
    "        print(list)   "
   ]
  },
  {
   "cell_type": "code",
   "execution_count": 1,
   "id": "ef9d00c6-4df7-46b6-b446-a0c32b897b31",
   "metadata": {},
   "outputs": [],
   "source": [
    "#Develop a program that generates a multiplication table for numbers from 1 to 5 using a nested `for` loop."
   ]
  },
  {
   "cell_type": "code",
   "execution_count": 2,
   "id": "edd3bc7d-73fd-4d6e-a7c0-16292695233c",
   "metadata": {},
   "outputs": [
    {
     "name": "stdout",
     "output_type": "stream",
     "text": [
      "1 x 1 = 1\n",
      "1 x 2 = 2\n",
      "1 x 3 = 3\n",
      "1 x 4 = 4\n",
      "1 x 5 = 5\n",
      "1 x 6 = 6\n",
      "1 x 7 = 7\n",
      "1 x 8 = 8\n",
      "1 x 9 = 9\n",
      "1 x 10 = 10\n",
      "2 x 1 = 2\n",
      "2 x 2 = 4\n",
      "2 x 3 = 6\n",
      "2 x 4 = 8\n",
      "2 x 5 = 10\n",
      "2 x 6 = 12\n",
      "2 x 7 = 14\n",
      "2 x 8 = 16\n",
      "2 x 9 = 18\n",
      "2 x 10 = 20\n",
      "3 x 1 = 3\n",
      "3 x 2 = 6\n",
      "3 x 3 = 9\n",
      "3 x 4 = 12\n",
      "3 x 5 = 15\n",
      "3 x 6 = 18\n",
      "3 x 7 = 21\n",
      "3 x 8 = 24\n",
      "3 x 9 = 27\n",
      "3 x 10 = 30\n",
      "4 x 1 = 4\n",
      "4 x 2 = 8\n",
      "4 x 3 = 12\n",
      "4 x 4 = 16\n",
      "4 x 5 = 20\n",
      "4 x 6 = 24\n",
      "4 x 7 = 28\n",
      "4 x 8 = 32\n",
      "4 x 9 = 36\n",
      "4 x 10 = 40\n",
      "5 x 1 = 5\n",
      "5 x 2 = 10\n",
      "5 x 3 = 15\n",
      "5 x 4 = 20\n",
      "5 x 5 = 25\n",
      "5 x 6 = 30\n",
      "5 x 7 = 35\n",
      "5 x 8 = 40\n",
      "5 x 9 = 45\n",
      "5 x 10 = 50\n"
     ]
    }
   ],
   "source": [
    "for i in range(1,6):\n",
    "    for j in range(1,11):\n",
    "        print(i,'x',j,'=',i*j)"
   ]
  },
  {
   "cell_type": "code",
   "execution_count": 3,
   "id": "fe49fb5b-ed6d-4f50-918f-72413f0eb7ae",
   "metadata": {},
   "outputs": [],
   "source": [
    "#17. Write a program that converts a list of Fahrenheit temperatures to Celsius using a `for` loop."
   ]
  },
  {
   "cell_type": "code",
   "execution_count": 4,
   "id": "2e6f83f2-8f44-49c8-b1e5-34a19522e3f4",
   "metadata": {},
   "outputs": [
    {
     "name": "stdout",
     "output_type": "stream",
     "text": [
      "[3456.0, 4608.0, 4032.0, 5472.0]\n"
     ]
    }
   ],
   "source": [
    "fah=[60,80,70,95]\n",
    "cel=[]\n",
    "for f in fah:\n",
    "    cel.append((f*32)/(5/9))\n",
    "print(cel)   \n",
    "    "
   ]
  },
  {
   "cell_type": "code",
   "execution_count": 5,
   "id": "5312ac41-da09-4675-87d4-8fa539425458",
   "metadata": {},
   "outputs": [],
   "source": [
    "#Create a program to print the common elements from two lists using a `for` loop."
   ]
  },
  {
   "cell_type": "code",
   "execution_count": 16,
   "id": "1c5223aa-4099-4699-88d2-3e49c86ebbe4",
   "metadata": {},
   "outputs": [
    {
     "name": "stdout",
     "output_type": "stream",
     "text": [
      "{4, 5}\n"
     ]
    }
   ],
   "source": [
    "list1=[1,2,3,4,5]\n",
    "list2=[4,5,6,7,8]\n",
    "a=set(list1)\n",
    "b=set(list2)\n",
    "if a & b:\n",
    "    print(a & b)\n",
    "else:\n",
    "    print(\"No duplicate elements in the list\")"
   ]
  },
  {
   "cell_type": "code",
   "execution_count": 7,
   "id": "eec8a2c4-886a-4550-9e8c-ec51c79c655f",
   "metadata": {},
   "outputs": [],
   "source": [
    "#19. Develop a program that prints the pattern of right-angled triangles using a `for` loop. Use ‘*’ to draw the\n",
    "#pattern"
   ]
  },
  {
   "cell_type": "code",
   "execution_count": 41,
   "id": "e8b57d18-9ed4-4e0f-9b2c-0adbe8927778",
   "metadata": {},
   "outputs": [
    {
     "name": "stdin",
     "output_type": "stream",
     "text": [
      "Enter the range 5\n"
     ]
    },
    {
     "name": "stdout",
     "output_type": "stream",
     "text": [
      "* \n",
      "* * \n",
      "* * * \n",
      "* * * * \n",
      "* * * * * \n"
     ]
    }
   ],
   "source": [
    "num=int(input(\"Enter the range\"))\n",
    "for i in range(1,num+1):\n",
    "    for j in range(1,i+1):\n",
    "        print('*',end=' ')\n",
    "    print()"
   ]
  },
  {
   "cell_type": "code",
   "execution_count": 20,
   "id": "fad4c9e1-785b-4c13-a918-e461208edfa5",
   "metadata": {},
   "outputs": [],
   "source": [
    "#Write a program to find the greatest common divisor (GCD) of two numbers using a `for` loop."
   ]
  },
  {
   "cell_type": "code",
   "execution_count": 24,
   "id": "4d342483-3e02-4c42-9215-54e442f756a6",
   "metadata": {},
   "outputs": [
    {
     "name": "stdout",
     "output_type": "stream",
     "text": [
      "gcd of 30 and 15 is 5\n"
     ]
    }
   ],
   "source": [
    "num1=30\n",
    "num2=15\n",
    "a=num1\n",
    "b=num2\n",
    "gcd=i\n",
    "for i in range(1,min(num1,num2)):\n",
    "    if num1%i==0 and num2%i==0:\n",
    "        gcd=i\n",
    "print(\"gcd of\",num1,\"and\",num2 ,\"is\",gcd)    \n",
    "    "
   ]
  },
  {
   "cell_type": "code",
   "execution_count": 42,
   "id": "9755e843-2692-4f11-b946-3321f948e9f8",
   "metadata": {},
   "outputs": [],
   "source": [
    "#21. Create a program that calculates the sum of the digits of numbers in a list using a list comprehension."
   ]
  },
  {
   "cell_type": "code",
   "execution_count": 48,
   "id": "553aa994-80ad-45be-9a29-8ee404ae4417",
   "metadata": {},
   "outputs": [
    {
     "name": "stdout",
     "output_type": "stream",
     "text": [
      "[3, 7, 9, 13]\n"
     ]
    }
   ],
   "source": [
    "list=[12,34,45,67]\n",
    "finalist=[]\n",
    "for i in list:\n",
    "    a=0\n",
    "    for j in str(i):\n",
    "        a=a+int(j)   \n",
    "    finalist.append(a)  \n",
    "print(finalist)          "
   ]
  },
  {
   "cell_type": "code",
   "execution_count": 49,
   "id": "3151182f-5438-4d37-8cd3-c4ff234f1d7e",
   "metadata": {},
   "outputs": [],
   "source": [
    "#Develop a program that extracts unique elements from a list and stores them in a new list using a list\n",
    "#comprehension."
   ]
  },
  {
   "cell_type": "code",
   "execution_count": 62,
   "id": "296ed58b-fc15-4898-8bd9-ae1bc5a16467",
   "metadata": {},
   "outputs": [
    {
     "name": "stdout",
     "output_type": "stream",
     "text": [
      "The unique elements from a list are {1, 2, 3, 4, 5}\n"
     ]
    }
   ],
   "source": [
    "list=[1,2,2,3,4,5,5]\n",
    "uniqueelement =set(list)\n",
    "newlist=[]\n",
    "x=newlist.append(uniqueelement)\n",
    "print(\"The unique elements from a list are\",uniqueelement)"
   ]
  },
  {
   "cell_type": "code",
   "execution_count": 66,
   "id": "6d2f3c1f-8b33-4cb9-8507-c6c55d104fe4",
   "metadata": {},
   "outputs": [],
   "source": [
    "#Create a program that generates a list of all palindromic numbers up to a specified limit using a list\n",
    "#comprehension."
   ]
  },
  {
   "cell_type": "code",
   "execution_count": 70,
   "id": "f6592446-98a4-46ff-83ca-d407f390fa31",
   "metadata": {},
   "outputs": [
    {
     "name": "stdout",
     "output_type": "stream",
     "text": [
      "Palindromic numbers up to 1000: [0, 1, 2, 3, 4, 5, 6, 7, 8, 9, 11, 22, 33, 44, 55, 66, 77, 88, 99, 101, 111, 121, 131, 141, 151, 161, 171, 181, 191, 202, 212, 222, 232, 242, 252, 262, 272, 282, 292, 303, 313, 323, 333, 343, 353, 363, 373, 383, 393, 404, 414, 424, 434, 444, 454, 464, 474, 484, 494, 505, 515, 525, 535, 545, 555, 565, 575, 585, 595, 606, 616, 626, 636, 646, 656, 666, 676, 686, 696, 707, 717, 727, 737, 747, 757, 767, 777, 787, 797, 808, 818, 828, 838, 848, 858, 868, 878, 888, 898, 909, 919, 929, 939, 949, 959, 969, 979, 989, 999]\n"
     ]
    }
   ],
   "source": [
    "def is_palindrome(number):\n",
    "    # Function to check if a number is a palindrome\n",
    "    return str(number) == str(number)[::-1]\n",
    "\n",
    "def generate_palindromic_numbers(limit):\n",
    "    # List comprehension to generate palindromic numbers up to the specified limit\n",
    "    return [num for num in range(limit + 1) if is_palindrome(num)]\n",
    "\n",
    "# Example usage:\n",
    "specified_limit = 1000  \n",
    "palindromic_numbers = generate_palindromic_numbers(specified_limit)\n",
    "\n",
    "print(f\"Palindromic numbers up to {specified_limit}: {palindromic_numbers}\")\n"
   ]
  },
  {
   "cell_type": "code",
   "execution_count": 69,
   "id": "ddc8f85d-ac4a-4988-8180-75803b545348",
   "metadata": {},
   "outputs": [],
   "source": [
    "#Write a program to flatten a nested list using list comprehension."
   ]
  },
  {
   "cell_type": "code",
   "execution_count": 71,
   "id": "c6f5b0cd-3afa-436f-8b00-0b037cedcb29",
   "metadata": {},
   "outputs": [
    {
     "name": "stdout",
     "output_type": "stream",
     "text": [
      "[1, 2, 3, 4, 5, 6, 7]\n"
     ]
    }
   ],
   "source": [
    "my_list = [[1], [2, 3], [4, 5, 6, 7]]\n",
    "\n",
    "flat_list = [num for sublist in my_list for num in sublist]\n",
    "print(flat_list)"
   ]
  },
  {
   "cell_type": "code",
   "execution_count": 72,
   "id": "e922cb92-9b31-470d-a861-f75508795358",
   "metadata": {},
   "outputs": [],
   "source": [
    "#Develop a program that computes the sum of even and odd numbers in a list separately using list\n",
    "#comprehension."
   ]
  },
  {
   "cell_type": "code",
   "execution_count": 77,
   "id": "2d6c0b54-1d06-4727-a75e-07fdac086223",
   "metadata": {},
   "outputs": [
    {
     "name": "stdout",
     "output_type": "stream",
     "text": [
      "12\n",
      "16\n"
     ]
    }
   ],
   "source": [
    "def sum_even_odd_numbers(list):\n",
    "    even_sum=sum(x for x in list if x%2==0)\n",
    "    odd_sum=sum(x for x in list if x%2!=0)\n",
    "    return even_sum,odd_sum\n",
    "numbers=[1,2,4,6,3,5,7]\n",
    "evensum,oddsum=sum_even_odd_numbers(numbers)\n",
    "print(evensum)\n",
    "print(oddsum)"
   ]
  },
  {
   "cell_type": "code",
   "execution_count": 78,
   "id": "8f68a936-508d-4826-a15f-938975504b76",
   "metadata": {},
   "outputs": [],
   "source": [
    "#Create a program that generates a list of squares of odd numbers between 1 and 10 using list\n",
    "#comprehension."
   ]
  },
  {
   "cell_type": "code",
   "execution_count": 85,
   "id": "26a78903-bfda-4ad6-a819-2812f367119b",
   "metadata": {},
   "outputs": [
    {
     "name": "stdout",
     "output_type": "stream",
     "text": [
      "[1, 9, 25, 49, 81]\n"
     ]
    }
   ],
   "source": [
    "square_odd_numbers=[x**2 for x in range(1,11) if x%2!=0]\n",
    "print(square_odd_numbers)"
   ]
  },
  {
   "cell_type": "code",
   "execution_count": 86,
   "id": "e4ebd4a9-80e1-49ed-9119-db4d8b640d6c",
   "metadata": {},
   "outputs": [],
   "source": [
    "#28. Write a program that combines two lists into a dictionary using list comprehension."
   ]
  },
  {
   "cell_type": "code",
   "execution_count": 87,
   "id": "9d55dd71-fe46-46ac-a5b4-1e62914979a1",
   "metadata": {},
   "outputs": [
    {
     "name": "stdout",
     "output_type": "stream",
     "text": [
      "{'john': 10, 'ram': 20, 'riya': 30}\n"
     ]
    }
   ],
   "source": [
    "keys=['john','ram','riya']\n",
    "values=[10,20,30]\n",
    "\n",
    "dict={keys[i]:values[i] for i in range(min(len(keys),len(values)))}\n",
    "\n",
    "print(dict)"
   ]
  },
  {
   "cell_type": "code",
   "execution_count": 88,
   "id": "3f0e9db4-5197-47da-a60b-bc1e405f78c1",
   "metadata": {},
   "outputs": [],
   "source": [
    "#29. Develop a program that extracts the vowels from a string and stores them in a list using list comprehension."
   ]
  },
  {
   "cell_type": "code",
   "execution_count": 91,
   "id": "0a9e398c-2e6b-403f-93e4-e516b414ffc1",
   "metadata": {},
   "outputs": [
    {
     "name": "stdout",
     "output_type": "stream",
     "text": [
      "vowelcount is  ['i']\n"
     ]
    }
   ],
   "source": [
    "def extractvowels(inputstring):\n",
    "    extractedlist=[char for char in inputstring if char.lower() in \"aeiou\"]\n",
    "    return extractedlist\n",
    "    \n",
    "vowel=extractvowels(\"Pwskills\")\n",
    "print(\"vowelcount is \",vowel)"
   ]
  },
  {
   "cell_type": "code",
   "execution_count": 93,
   "id": "4c636e81-e37c-4250-9e63-ac624f86b305",
   "metadata": {},
   "outputs": [],
   "source": [
    "#Create a program that removes all non-numeric characters from a list of strings using list comprehension."
   ]
  },
  {
   "cell_type": "code",
   "execution_count": 92,
   "id": "ddd08508-a4f7-44b3-a664-0a9979ca4752",
   "metadata": {},
   "outputs": [
    {
     "name": "stdout",
     "output_type": "stream",
     "text": [
      "['123', '456', '789', '10']\n"
     ]
    }
   ],
   "source": [
    "# List of strings\n",
    "string_list = [\"abc123\", \"456def\", \"789ghi\", \"jkl10\"]\n",
    "\n",
    "# Using list comprehension to remove non-numeric characters\n",
    "numeric_only_list = [''.join(char for char in string if char.isdigit()) for string in string_list]\n",
    "\n",
    "# Print the result\n",
    "print(numeric_only_list)\n"
   ]
  },
  {
   "cell_type": "code",
   "execution_count": 94,
   "id": "f18df329-beac-428a-ac2f-6ff5e0f47032",
   "metadata": {},
   "outputs": [],
   "source": [
    "#31. Write a program to generate a list of prime numbers using the Sieve of Eratosthenes algorithm and list\n",
    "#comprehension."
   ]
  },
  {
   "cell_type": "code",
   "execution_count": 95,
   "id": "44d01a19-a433-4c0d-bb04-6b2af959e7dc",
   "metadata": {},
   "outputs": [
    {
     "name": "stdout",
     "output_type": "stream",
     "text": [
      "[2, 3, 5, 7, 11, 13, 17, 19, 23, 29, 31, 37, 41, 43, 47]\n"
     ]
    }
   ],
   "source": [
    "def sieve_of_eratosthenes(limit):\n",
    "    primes = [True] * (limit + 1)\n",
    "    primes[0] = primes[1] = False\n",
    "\n",
    "    for i in range(2, int(limit**0.5) + 1):\n",
    "        if primes[i]:\n",
    "            primes[i*i : limit + 1 : i] = [False] * len(primes[i*i : limit + 1 : i])\n",
    "\n",
    "    return [num for num, is_prime in enumerate(primes) if is_prime]\n",
    "\n",
    "# Generate primes up to 50\n",
    "limit = 50\n",
    "prime_list = sieve_of_eratosthenes(limit)\n",
    "print(prime_list)\n"
   ]
  },
  {
   "cell_type": "code",
   "execution_count": 96,
   "id": "7625146e-0001-4578-9283-85410b3e04f0",
   "metadata": {},
   "outputs": [],
   "source": [
    "#32. Create a program that generates a list of all Pythagorean triplets up to a specified limit using list\n",
    "#comprehension."
   ]
  },
  {
   "cell_type": "code",
   "execution_count": 97,
   "id": "f2d4a585-61b0-4ff3-a14b-dbc3e1a01500",
   "metadata": {},
   "outputs": [
    {
     "name": "stdout",
     "output_type": "stream",
     "text": [
      "[(3, 4, 5), (5, 12, 13), (6, 8, 10), (7, 24, 25), (8, 15, 17), (9, 12, 15), (10, 24, 26), (12, 16, 20), (15, 20, 25), (18, 24, 30), (20, 21, 29)]\n"
     ]
    }
   ],
   "source": [
    "def pythagorean_triplets(limit):\n",
    "    triplets = [(a, b, c) for a in range(1, limit + 1) for b in range(a, limit + 1) for c in range(b, limit + 1) if a**2 + b**2 == c**2]\n",
    "    return triplets\n",
    "\n",
    "# Specify the limit\n",
    "limit = 30\n",
    "\n",
    "# Generate and print Pythagorean triplets up to the specified limit\n",
    "result = pythagorean_triplets(limit)\n",
    "print(result)\n"
   ]
  },
  {
   "cell_type": "code",
   "execution_count": 98,
   "id": "16e8e5f2-3821-4ed5-a491-a3889d3027bb",
   "metadata": {},
   "outputs": [],
   "source": [
    "#33. Develop a program that generates a list of all possible combinations of two lists using list comprehension."
   ]
  },
  {
   "cell_type": "code",
   "execution_count": 99,
   "id": "7d8666f5-10d2-4d97-8db7-35aa70de1739",
   "metadata": {},
   "outputs": [
    {
     "name": "stdout",
     "output_type": "stream",
     "text": [
      "[(1, 'a'), (1, 'b'), (1, 'c'), (2, 'a'), (2, 'b'), (2, 'c'), (3, 'a'), (3, 'b'), (3, 'c')]\n"
     ]
    }
   ],
   "source": [
    "# Function to generate all possible combinations of two lists\n",
    "def generate_combinations(list1, list2):\n",
    "    # Using list comprehension to generate all combinations\n",
    "    combinations = [(x, y) for x in list1 for y in list2]\n",
    "    return combinations\n",
    "\n",
    "# Example usage\n",
    "list1 = [1, 2, 3]\n",
    "list2 = ['a', 'b', 'c']\n",
    "\n",
    "result = generate_combinations(list1, list2)\n",
    "print(result)\n"
   ]
  },
  {
   "cell_type": "code",
   "execution_count": 100,
   "id": "8c31ea77-dd3e-41c3-a021-0a8b2e72e593",
   "metadata": {},
   "outputs": [],
   "source": [
    "#Write a program that calculates the mean, median, and mode of a list of numbers using list\n",
    "#comprehension."
   ]
  },
  {
   "cell_type": "code",
   "execution_count": 117,
   "id": "4dfed5db-29d5-4eaa-a679-9c85f7f304e1",
   "metadata": {},
   "outputs": [],
   "source": [
    "def mean(list):\n",
    "    return sum(list)/len(list)\n",
    "def median(list):\n",
    "    x=len(list)\n",
    "    if x%2==0:\n",
    "        medianresult=(x/2)+(x/2+1)\n",
    "        return medianresult \n",
    "    else:\n",
    "        medianresult=(x/2)+1\n",
    "        return medianresult\n",
    "\n",
    "list=[2,5,1,7,3,9,4]\n",
    "meanvalue=mean(list)\n",
    "medianvalue=median(list)"
   ]
  },
  {
   "cell_type": "code",
   "execution_count": 110,
   "id": "04b0e1d9-9f3b-4ba1-a264-5054eb7fc1a9",
   "metadata": {},
   "outputs": [
    {
     "data": {
      "text/plain": [
       "4.428571428571429"
      ]
     },
     "execution_count": 110,
     "metadata": {},
     "output_type": "execute_result"
    }
   ],
   "source": [
    "meanvalue"
   ]
  },
  {
   "cell_type": "code",
   "execution_count": 111,
   "id": "f0c04d5d-d520-4e24-b91b-8f608969fdcd",
   "metadata": {},
   "outputs": [
    {
     "data": {
      "text/plain": [
       "4.5"
      ]
     },
     "execution_count": 111,
     "metadata": {},
     "output_type": "execute_result"
    }
   ],
   "source": [
    "medianvalue"
   ]
  },
  {
   "cell_type": "code",
   "execution_count": 119,
   "id": "576f1019-cec9-40f1-aee7-e1a5c276c368",
   "metadata": {},
   "outputs": [],
   "source": [
    "#Pascals triangle"
   ]
  },
  {
   "cell_type": "code",
   "execution_count": 118,
   "id": "cdb53f05-bca1-4cb3-8669-93cc76d5574b",
   "metadata": {},
   "outputs": [
    {
     "name": "stdin",
     "output_type": "stream",
     "text": [
      "Enter the number of rows for Pascal's triangle:  4\n"
     ]
    },
    {
     "name": "stdout",
     "output_type": "stream",
     "text": [
      "[1]\n",
      "[1, 1]\n",
      "[1, 2, 1]\n",
      "[1, 3, 3, 1]\n"
     ]
    }
   ],
   "source": [
    "def generate_pascals_triangle(rows):\n",
    "    if rows <= 0:\n",
    "        return []\n",
    "\n",
    "    # Initialize Pascal's triangle with the first row\n",
    "    triangle = [[1]]\n",
    "\n",
    "    # Generate subsequent rows using list comprehension\n",
    "    for _ in range(1, rows):\n",
    "        prev_row = triangle[-1]\n",
    "        new_row = [1] + [prev_row[i] + prev_row[i + 1] for i in range(len(prev_row) - 1)] + [1]\n",
    "        triangle.append(new_row)\n",
    "\n",
    "    return triangle\n",
    "\n",
    "def display_triangle(triangle):\n",
    "    for row in triangle:\n",
    "        print(row)\n",
    "\n",
    "if __name__ == \"__main__\":\n",
    "    try:\n",
    "        # Get the number of rows from the user\n",
    "        num_rows = int(input(\"Enter the number of rows for Pascal's triangle: \"))\n",
    "        \n",
    "        # Generate and display Pascal's triangle\n",
    "        pascals_triangle = generate_pascals_triangle(num_rows)\n",
    "        display_triangle(pascals_triangle)\n",
    "    except ValueError:\n",
    "        print(\"Please enter a valid positive integer.\")\n"
   ]
  },
  {
   "cell_type": "code",
   "execution_count": 127,
   "id": "9ed61272-d76e-4829-ae7c-bfb662d488d2",
   "metadata": {},
   "outputs": [
    {
     "name": "stdout",
     "output_type": "stream",
     "text": [
      "33\n"
     ]
    }
   ],
   "source": [
    "s=0\n",
    "m=4\n",
    "for i in range(1,m+1):\n",
    "    p=1\n",
    "    for k in range(1,i+1):\n",
    "        p*=k\n",
    "    s+=p\n",
    "print (s)"
   ]
  },
  {
   "cell_type": "code",
   "execution_count": 128,
   "id": "d4f0ed61-588a-4d16-bc49-5060f9fe416e",
   "metadata": {},
   "outputs": [
    {
     "name": "stdout",
     "output_type": "stream",
     "text": [
      "Longest word: demonstrate\n"
     ]
    }
   ],
   "source": [
    "def find_longest_word(sentence):\n",
    "    # Split the sentence into a list of words\n",
    "    words = sentence.split()\n",
    "\n",
    "    # Use list comprehension to find the length of each word\n",
    "    word_lengths = [len(word) for word in words]\n",
    "\n",
    "    # Find the index of the longest word\n",
    "    longest_word_index = word_lengths.index(max(word_lengths))\n",
    "\n",
    "    # Return the longest word\n",
    "    return words[longest_word_index]\n",
    "\n",
    "# Example usage\n",
    "sentence = \"This is a sample sentence to demonstrate the program.\"\n",
    "result = find_longest_word(sentence)\n",
    "print(\"Longest word:\", result)\n"
   ]
  },
  {
   "cell_type": "code",
   "execution_count": 129,
   "id": "7124e33a-1201-486b-ba0b-bd1fe665b770",
   "metadata": {},
   "outputs": [
    {
     "name": "stdout",
     "output_type": "stream",
     "text": [
      "Original list: ['hello', 'world', 'python', 'programming', 'example']\n",
      "Filtered list with more than three vowels: []\n"
     ]
    }
   ],
   "source": [
    "def count_vowels(word):\n",
    "    return sum(1 for char in word if char.lower() in 'aeiou')\n",
    "\n",
    "def filter_strings_with_more_than_three_vowels(string_list):\n",
    "    return [s for s in string_list if count_vowels(s) > 3]\n",
    "\n",
    "# Example usage:\n",
    "input_list = [\"hello\", \"world\", \"python\", \"programming\", \"example\"]\n",
    "result_list = filter_strings_with_more_than_three_vowels(input_list)\n",
    "\n",
    "print(\"Original list:\", input_list)\n",
    "print(\"Filtered list with more than three vowels:\", result_list)\n"
   ]
  },
  {
   "cell_type": "code",
   "execution_count": 130,
   "id": "0561f8ac-f80d-48f0-a70e-7936768541e7",
   "metadata": {},
   "outputs": [
    {
     "name": "stdout",
     "output_type": "stream",
     "text": [
      "Sum of the digits of numbers from 1 to 1000: 13501\n"
     ]
    }
   ],
   "source": [
    "# Define a function to calculate the sum of digits for a given number\n",
    "def digit_sum(number):\n",
    "    return sum(int(digit) for digit in str(number))\n",
    "\n",
    "# Use list comprehension to generate a list of digit sums for numbers from 1 to 1000\n",
    "digit_sums = [digit_sum(number) for number in range(1, 1001)]\n",
    "\n",
    "# Calculate the overall sum of digit sums\n",
    "total_sum = sum(digit_sums)\n",
    "\n",
    "# Print the result\n",
    "print(\"Sum of the digits of numbers from 1 to 1000:\", total_sum)\n"
   ]
  },
  {
   "cell_type": "code",
   "execution_count": 131,
   "id": "de9b8683-eb3d-4889-a5fd-af84a70aec9f",
   "metadata": {},
   "outputs": [
    {
     "name": "stdout",
     "output_type": "stream",
     "text": [
      "Palindromic numbers up to 1000: [0, 1, 2, 3, 4, 5, 6, 7, 8, 9, 11, 22, 33, 44, 55, 66, 77, 88, 99, 101, 111, 121, 131, 141, 151, 161, 171, 181, 191, 202, 212, 222, 232, 242, 252, 262, 272, 282, 292, 303, 313, 323, 333, 343, 353, 363, 373, 383, 393, 404, 414, 424, 434, 444, 454, 464, 474, 484, 494, 505, 515, 525, 535, 545, 555, 565, 575, 585, 595, 606, 616, 626, 636, 646, 656, 666, 676, 686, 696, 707, 717, 727, 737, 747, 757, 767, 777, 787, 797, 808, 818, 828, 838, 848, 858, 868, 878, 888, 898, 909, 919, 929, 939, 949, 959, 969, 979, 989, 999]\n"
     ]
    }
   ],
   "source": [
    "def is_palindrome(number):\n",
    "    # Function to check if a number is a palindrome\n",
    "    return str(number) == str(number)[::-1]\n",
    "\n",
    "def generate_palindromic_numbers(limit):\n",
    "    # List comprehension to generate palindromic numbers up to the specified limit\n",
    "    return [num for num in range(limit + 1) if is_palindrome(num)]\n",
    "\n",
    "# Example usage:\n",
    "specified_limit = 1000  \n",
    "palindromic_numbers = generate_palindromic_numbers(specified_limit)\n",
    "\n",
    "print(f\"Palindromic numbers up to {specified_limit}: {palindromic_numbers}\")\n"
   ]
  },
  {
   "cell_type": "code",
   "execution_count": null,
   "id": "c7b95076-99dd-48e0-8ff7-44417adfa7f1",
   "metadata": {},
   "outputs": [],
   "source": []
  }
 ],
 "metadata": {
  "kernelspec": {
   "display_name": "Python 3 (ipykernel)",
   "language": "python",
   "name": "python3"
  },
  "language_info": {
   "codemirror_mode": {
    "name": "ipython",
    "version": 3
   },
   "file_extension": ".py",
   "mimetype": "text/x-python",
   "name": "python",
   "nbconvert_exporter": "python",
   "pygments_lexer": "ipython3",
   "version": "3.10.8"
  }
 },
 "nbformat": 4,
 "nbformat_minor": 5
}
